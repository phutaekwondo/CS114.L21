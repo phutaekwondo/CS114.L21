{
  "nbformat": 4,
  "nbformat_minor": 0,
  "metadata": {
    "colab": {
      "name": "regression.ipynb",
      "provenance": [],
      "collapsed_sections": [],
      "include_colab_link": true
    },
    "kernelspec": {
      "display_name": "Python 3",
      "name": "python3"
    }
  },
  "cells": [
    {
      "cell_type": "markdown",
      "metadata": {
        "id": "view-in-github",
        "colab_type": "text"
      },
      "source": [
        "<a href=\"https://colab.research.google.com/github/phutaekwondo/CS114.L21/blob/main/BT_colab_so_2.ipynb\" target=\"_parent\"><img src=\"https://colab.research.google.com/assets/colab-badge.svg\" alt=\"Open In Colab\"/></a>"
      ]
    },
    {
      "cell_type": "code",
      "metadata": {
        "colab": {
          "base_uri": "https://localhost:8080/"
        },
        "id": "AQeKp2lEVfmi",
        "outputId": "6d1739b3-ccfa-4606-805a-792b38941372"
      },
      "source": [
        "from google.colab import drive\n",
        "drive.mount('/content/drive')"
      ],
      "execution_count": null,
      "outputs": [
        {
          "output_type": "stream",
          "text": [
            "Mounted at /content/drive\n"
          ],
          "name": "stdout"
        }
      ]
    },
    {
      "cell_type": "code",
      "metadata": {
        "id": "JiZYQKcsYf-B"
      },
      "source": [
        "import pandas as pd"
      ],
      "execution_count": null,
      "outputs": []
    },
    {
      "cell_type": "code",
      "metadata": {
        "id": "OmQxBOh-h8QC"
      },
      "source": [
        "url_train = 'http://cs.uit.edu.vn/data2.txt?fbclid=IwAR11i7MdMWgqg6i1ab0z3C1VRJLM_6BpnjlpS_hZmNhlBJeYjDihp479fnU'\n",
        "url_test_1 = 'http://cs.uit.edu.vn/data3.txt?fbclid=IwAR0xQwlnCNoEWthoc8txwpYSHFuf-lo6KOAXMzum53EWy89fJChAaUqGzB8'\n",
        "url_test_2 = 'http://cs.uit.edu.vn/data4.txt?fbclid=IwAR0fXuM2Q29pRBldP-sv9znzwYQCRCGe-VHLSvGeUcrvhkFR2UhxtCddIZQ'"
      ],
      "execution_count": null,
      "outputs": []
    },
    {
      "cell_type": "code",
      "metadata": {
        "id": "Nx1s5PJRbYG5"
      },
      "source": [
        "data_train = pd.read_csv(url_train, header=None, names = ['x', 'y'])\n",
        "x = data_train['x']\n",
        "y = data_train['y']\n",
        "print(max(x))"
      ],
      "execution_count": null,
      "outputs": []
    },
    {
      "cell_type": "code",
      "metadata": {
        "colab": {
          "base_uri": "https://localhost:8080/",
          "height": 295
        },
        "id": "oiPVcMWXZB5r",
        "outputId": "6b74e5f4-e396-4ac2-b14a-ffcd6a23c901"
      },
      "source": [
        "import matplotlib.pyplot as plt\n",
        "plt.plot(x, y, \"x\", color='red')\n",
        "plt.title(\"Data Show\")\n",
        "plt.xlabel('x Value')\n",
        "plt.ylabel('y Value')\n",
        "plt.show()"
      ],
      "execution_count": null,
      "outputs": [
        {
          "output_type": "display_data",
          "data": {
            "image/png": "[encoded data removed]",
            "text/plain": [
              "<Figure size 432x288 with 1 Axes>"
            ]
          },
          "metadata": {
            "tags": [],
            "needs_background": "light"
          }
        }
      ]
    },
    {
      "cell_type": "markdown",
      "metadata": {
        "id": "Q9AtExsed5KB"
      },
      "source": [
        "Dữ liệu như thế này thì ta dùng Linear Regression\n",
        "\n",
        "h(x) = Theta^T * X"
      ]
    },
    {
      "cell_type": "code",
      "metadata": {
        "id": "AcpktwXYeAki"
      },
      "source": [
        "import numpy as np\n",
        "from sklearn.linear_model import LinearRegression"
      ],
      "execution_count": null,
      "outputs": []
    },
    {
      "cell_type": "code",
      "metadata": {
        "colab": {
          "base_uri": "https://localhost:8080/"
        },
        "id": "b9XNyOBpedhR",
        "outputId": "e0550232-3793-407e-86a3-3a1c60d821e9"
      },
      "source": [
        "X_train = np.array(x).reshape(-1,1)\n",
        "y_train = np.array(y)"
      ],
      "execution_count": null,
      "outputs": [
        {
          "output_type": "stream",
          "text": [
            "[[6083695]\n",
            " [1954367]\n",
            " [3734185]\n",
            " ...\n",
            " [9837364]\n",
            " [9466593]\n",
            " [4080801]]\n"
          ],
          "name": "stdout"
        }
      ]
    },
    {
      "cell_type": "code",
      "metadata": {
        "colab": {
          "base_uri": "https://localhost:8080/"
        },
        "id": "Eao8amz3es8J",
        "outputId": "0ccfe1cb-011f-41e3-bb0f-7ad5b38602dc"
      },
      "source": [
        "model = LinearRegression()\n",
        "model.fit(X_train, y_train)"
      ],
      "execution_count": null,
      "outputs": [
        {
          "output_type": "execute_result",
          "data": {
            "text/plain": [
              "LinearRegression(copy_X=True, fit_intercept=True, n_jobs=None, normalize=False)"
            ]
          },
          "metadata": {
            "tags": []
          },
          "execution_count": 46
        }
      ]
    },
    {
      "cell_type": "code",
      "metadata": {
        "colab": {
          "base_uri": "https://localhost:8080/"
        },
        "id": "10U4yXhPgRnR",
        "outputId": "3d413335-34dc-4f08-df23-8d5681b9f4f4"
      },
      "source": [
        "print('Theta_0: ', model.coef_)\n",
        "print('Theta_1: ', model.intercept_)"
      ],
      "execution_count": null,
      "outputs": [
        {
          "output_type": "stream",
          "text": [
            "Theta_0:  [8.45569856e-08]\n",
            "Theta_1:  -0.015895527000496013\n"
          ],
          "name": "stdout"
        }
      ]
    },
    {
      "cell_type": "code",
      "metadata": {
        "id": "TxBuRsYZh2YC"
      },
      "source": [
        "data_test_1 = pd.read_csv(url_test_1, header=None, names = ['x', 'y'])\n",
        "X_test_1, y_test_1 = np.array(data_test['x']).reshape(-1,1), np.array(data_test['y'])"
      ],
      "execution_count": null,
      "outputs": []
    },
    {
      "cell_type": "code",
      "metadata": {
        "colab": {
          "base_uri": "https://localhost:8080/"
        },
        "id": "-XlksiH3iw1s",
        "outputId": "ec8984cb-5fe6-4606-edd3-751f24767e15"
      },
      "source": [
        "estimated = model.predict(X_test_1)\n",
        "print(estimated)"
      ],
      "execution_count": null,
      "outputs": [
        {
          "output_type": "stream",
          "text": [
            "[3.18353889 3.14613375 3.07980564 ... 2.81848194 1.78037084 1.79197375]\n"
          ],
          "name": "stdout"
        }
      ]
    },
    {
      "cell_type": "code",
      "metadata": {
        "id": "bh8Xr4FTjNei"
      },
      "source": [
        "def MSE(estimates, y_test):\n",
        "  result = 0\n",
        "  for estimate, y in zip(estimates, y_test):\n",
        "    result += (estimate - y) ** 2\n",
        "  temp = 2 * len(estimates)\n",
        "  result = (1/temp) * result\n",
        "  return result"
      ],
      "execution_count": null,
      "outputs": []
    },
    {
      "cell_type": "code",
      "metadata": {
        "colab": {
          "base_uri": "https://localhost:8080/"
        },
        "id": "XXPryR02kVpj",
        "outputId": "ae40fab0-abe3-4c2d-a440-242f8352a1f9"
      },
      "source": [
        "est = model.predict(X_train)\n",
        "print(MSE(est, y_train))"
      ],
      "execution_count": null,
      "outputs": [
        {
          "output_type": "stream",
          "text": [
            "7.168864360874435e-05\n"
          ],
          "name": "stdout"
        }
      ]
    }
  ]
}