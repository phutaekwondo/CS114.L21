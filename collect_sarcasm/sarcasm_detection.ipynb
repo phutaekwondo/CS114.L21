{
  "nbformat": 4,
  "nbformat_minor": 0,
  "metadata": {
    "colab": {
      "name": "sarcasm_detection.ipynb",
      "provenance": [],
      "collapsed_sections": [],
      "toc_visible": true,
      "authorship_tag": "ABX9TyPbnmlgYFxilF6sdNIhLutt",
      "include_colab_link": true
    },
    "kernelspec": {
      "display_name": "Python 3",
      "name": "python3"
    },
    "language_info": {
      "name": "python"
    }
  },
  "cells": [
    {
      "cell_type": "markdown",
      "metadata": {
        "id": "view-in-github",
        "colab_type": "text"
      },
      "source": [
        "<a href=\"https://colab.research.google.com/github/phutaekwondo/CS114.L21/blob/main/collect_sarcasm/sarcasm_detection.ipynb\" target=\"_parent\"><img src=\"https://colab.research.google.com/assets/colab-badge.svg\" alt=\"Open In Colab\"/></a>"
      ]
    },
    {
      "cell_type": "markdown",
      "metadata": {
        "id": "sz8pbhcFPaxR"
      },
      "source": [
        "#**Bài tập: Sarcasm Detection**"
      ]
    },
    {
      "cell_type": "markdown",
      "metadata": {
        "id": "LBkZ0YjbPfyF"
      },
      "source": [
        "#**Nhóm thực hiện**\n",
        "- 19522020 - Lại Nguyễn Vĩnh Phú\n",
        "- 19521299 - Nguyễn Chí Cường\n",
        "- 19522447 - Trương Thế Trương"
      ]
    },
    {
      "cell_type": "code",
      "metadata": {
        "id": "_EAorwqClxG0"
      },
      "source": [
        "import pandas as pd\n",
        "import numpy as np\n",
        "import nltk\n",
        "from nltk.corpus import stopwords\n",
        "import string\n",
        "import seaborn as sn\n",
        "import pickle"
      ],
      "execution_count": null,
      "outputs": []
    },
    {
      "cell_type": "markdown",
      "metadata": {
        "id": "xVzqiu-DdKX1"
      },
      "source": [
        "#**Lấy data và xử lý**"
      ]
    },
    {
      "cell_type": "code",
      "metadata": {
        "colab": {
          "base_uri": "https://localhost:8080/"
        },
        "id": "ya_EAH_RwyPx",
        "outputId": "f37486cc-b108-4b77-a3f5-de12a0be7e93"
      },
      "source": [
        "nltk.download('stopwords')\n",
        "def processing(text):\n",
        "  remove_punc = [char for char in text if char not in string.punctuation]\n",
        "  sent = ''.join(remove_punc)\n",
        "  result = [word for word in sent.split() if word.lower() not in stopwords.words('english')]\n",
        "  return result"
      ],
      "execution_count": null,
      "outputs": [
        {
          "output_type": "stream",
          "text": [
            "[nltk_data] Downloading package stopwords to /root/nltk_data...\n",
            "[nltk_data]   Package stopwords is already up-to-date!\n"
          ],
          "name": "stdout"
        }
      ]
    },
    {
      "cell_type": "code",
      "metadata": {
        "colab": {
          "base_uri": "https://localhost:8080/",
          "height": 419
        },
        "id": "f-oARj33VYuk",
        "outputId": "a48a170d-cde9-4d6c-b5a1-67f2d0440670"
      },
      "source": [
        "#data_train\n",
        "#read data sarcasm detection\n",
        "#https://github.com/phutaekwondo/CS114.L21/tree/main/collect_sarcasm\n",
        "data_text = pd.read_csv('https://raw.githubusercontent.com/phutaekwondo/CS114.L21/main/collect_sarcasm/sarcasm_train.csv')\n",
        "data_text = data_text.dropna().reset_index()\n",
        "df_train = data_text[['headline', 'is_sarcastic']]\n",
        "df_train"
      ],
      "execution_count": null,
      "outputs": [
        {
          "output_type": "execute_result",
          "data": {
            "text/html": [
              "<div>\n",
              "<style scoped>\n",
              "    .dataframe tbody tr th:only-of-type {\n",
              "        vertical-align: middle;\n",
              "    }\n",
              "\n",
              "    .dataframe tbody tr th {\n",
              "        vertical-align: top;\n",
              "    }\n",
              "\n",
              "    .dataframe thead th {\n",
              "        text-align: right;\n",
              "    }\n",
              "</style>\n",
              "<table border=\"1\" class=\"dataframe\">\n",
              "  <thead>\n",
              "    <tr style=\"text-align: right;\">\n",
              "      <th></th>\n",
              "      <th>headline</th>\n",
              "      <th>is_sarcastic</th>\n",
              "    </tr>\n",
              "  </thead>\n",
              "  <tbody>\n",
              "    <tr>\n",
              "      <th>0</th>\n",
              "      <td>Labor pledges to double their heart-felt state...</td>\n",
              "      <td>1</td>\n",
              "    </tr>\n",
              "    <tr>\n",
              "      <th>1</th>\n",
              "      <td>Morrison asks Queen if she’s a lizard</td>\n",
              "      <td>1</td>\n",
              "    </tr>\n",
              "    <tr>\n",
              "      <th>2</th>\n",
              "      <td>Order of Australia recipient Peta Credlin hono...</td>\n",
              "      <td>1</td>\n",
              "    </tr>\n",
              "    <tr>\n",
              "      <th>3</th>\n",
              "      <td>PM fucking off to Hawaii during fires somehow ...</td>\n",
              "      <td>1</td>\n",
              "    </tr>\n",
              "    <tr>\n",
              "      <th>4</th>\n",
              "      <td>Local MP only got into politics so they could ...</td>\n",
              "      <td>1</td>\n",
              "    </tr>\n",
              "    <tr>\n",
              "      <th>...</th>\n",
              "      <td>...</td>\n",
              "      <td>...</td>\n",
              "    </tr>\n",
              "    <tr>\n",
              "      <th>54884</th>\n",
              "      <td>Taking business into Welsh schools</td>\n",
              "      <td>0</td>\n",
              "    </tr>\n",
              "    <tr>\n",
              "      <th>54885</th>\n",
              "      <td>Women entrepreneurs could be answer to crisis</td>\n",
              "      <td>0</td>\n",
              "    </tr>\n",
              "    <tr>\n",
              "      <th>54886</th>\n",
              "      <td>Branson's grim train warning</td>\n",
              "      <td>0</td>\n",
              "    </tr>\n",
              "    <tr>\n",
              "      <th>54887</th>\n",
              "      <td>Business parties in Swedish countryside</td>\n",
              "      <td>0</td>\n",
              "    </tr>\n",
              "    <tr>\n",
              "      <th>54888</th>\n",
              "      <td>Meeting targets</td>\n",
              "      <td>0</td>\n",
              "    </tr>\n",
              "  </tbody>\n",
              "</table>\n",
              "<p>54889 rows × 2 columns</p>\n",
              "</div>"
            ],
            "text/plain": [
              "                                                headline  is_sarcastic\n",
              "0      Labor pledges to double their heart-felt state...             1\n",
              "1                  Morrison asks Queen if she’s a lizard             1\n",
              "2      Order of Australia recipient Peta Credlin hono...             1\n",
              "3      PM fucking off to Hawaii during fires somehow ...             1\n",
              "4      Local MP only got into politics so they could ...             1\n",
              "...                                                  ...           ...\n",
              "54884                 Taking business into Welsh schools             0\n",
              "54885      Women entrepreneurs could be answer to crisis             0\n",
              "54886                       Branson's grim train warning             0\n",
              "54887            Business parties in Swedish countryside             0\n",
              "54888                                    Meeting targets             0\n",
              "\n",
              "[54889 rows x 2 columns]"
            ]
          },
          "metadata": {
            "tags": []
          },
          "execution_count": 3
        }
      ]
    },
    {
      "cell_type": "code",
      "metadata": {
        "colab": {
          "base_uri": "https://localhost:8080/",
          "height": 419
        },
        "id": "JWfuYu6D1GU0",
        "outputId": "3cdafd8d-94c1-42be-e037-8a8412711d3d"
      },
      "source": [
        "#data_test\n",
        "df_test = pd.read_csv('https://raw.githubusercontent.com/phutaekwondo/CS114.L21/main/collect_sarcasm/sarcasm_test.csv')[['headline', 'is_sarcastic']]\n",
        "df_test"
      ],
      "execution_count": null,
      "outputs": [
        {
          "output_type": "execute_result",
          "data": {
            "text/html": [
              "<div>\n",
              "<style scoped>\n",
              "    .dataframe tbody tr th:only-of-type {\n",
              "        vertical-align: middle;\n",
              "    }\n",
              "\n",
              "    .dataframe tbody tr th {\n",
              "        vertical-align: top;\n",
              "    }\n",
              "\n",
              "    .dataframe thead th {\n",
              "        text-align: right;\n",
              "    }\n",
              "</style>\n",
              "<table border=\"1\" class=\"dataframe\">\n",
              "  <thead>\n",
              "    <tr style=\"text-align: right;\">\n",
              "      <th></th>\n",
              "      <th>headline</th>\n",
              "      <th>is_sarcastic</th>\n",
              "    </tr>\n",
              "  </thead>\n",
              "  <tbody>\n",
              "    <tr>\n",
              "      <th>0</th>\n",
              "      <td>School kid who didn't revise and prayed for a ...</td>\n",
              "      <td>0</td>\n",
              "    </tr>\n",
              "    <tr>\n",
              "      <th>1</th>\n",
              "      <td>Pub fruit machine dreamt of being vending mach...</td>\n",
              "      <td>0</td>\n",
              "    </tr>\n",
              "    <tr>\n",
              "      <th>2</th>\n",
              "      <td>Meghan to embrace British culture by carrying ...</td>\n",
              "      <td>0</td>\n",
              "    </tr>\n",
              "    <tr>\n",
              "      <th>3</th>\n",
              "      <td>Charlie Hebdo</td>\n",
              "      <td>0</td>\n",
              "    </tr>\n",
              "    <tr>\n",
              "      <th>4</th>\n",
              "      <td>Git of the Year</td>\n",
              "      <td>0</td>\n",
              "    </tr>\n",
              "    <tr>\n",
              "      <th>...</th>\n",
              "      <td>...</td>\n",
              "      <td>...</td>\n",
              "    </tr>\n",
              "    <tr>\n",
              "      <th>21306</th>\n",
              "      <td>Absolutely, positively, the best election vide...</td>\n",
              "      <td>1</td>\n",
              "    </tr>\n",
              "    <tr>\n",
              "      <th>21307</th>\n",
              "      <td>Sheffield Hallam was Nick Clegg’s seat. Well, ...</td>\n",
              "      <td>1</td>\n",
              "    </tr>\n",
              "    <tr>\n",
              "      <th>21308</th>\n",
              "      <td>Still awake? Celebrate with our favourite twee...</td>\n",
              "      <td>1</td>\n",
              "    </tr>\n",
              "    <tr>\n",
              "      <th>21309</th>\n",
              "      <td>RIP UKIP – top 10 tweets as Paul Nuttall goes ...</td>\n",
              "      <td>1</td>\n",
              "    </tr>\n",
              "    <tr>\n",
              "      <th>21310</th>\n",
              "      <td>You’re not singing, you’re not singing anymore</td>\n",
              "      <td>1</td>\n",
              "    </tr>\n",
              "  </tbody>\n",
              "</table>\n",
              "<p>21311 rows × 2 columns</p>\n",
              "</div>"
            ],
            "text/plain": [
              "                                                headline  is_sarcastic\n",
              "0      School kid who didn't revise and prayed for a ...             0\n",
              "1      Pub fruit machine dreamt of being vending mach...             0\n",
              "2      Meghan to embrace British culture by carrying ...             0\n",
              "3                                          Charlie Hebdo             0\n",
              "4                                        Git of the Year             0\n",
              "...                                                  ...           ...\n",
              "21306  Absolutely, positively, the best election vide...             1\n",
              "21307  Sheffield Hallam was Nick Clegg’s seat. Well, ...             1\n",
              "21308  Still awake? Celebrate with our favourite twee...             1\n",
              "21309  RIP UKIP – top 10 tweets as Paul Nuttall goes ...             1\n",
              "21310     You’re not singing, you’re not singing anymore             1\n",
              "\n",
              "[21311 rows x 2 columns]"
            ]
          },
          "metadata": {
            "tags": []
          },
          "execution_count": 4
        }
      ]
    },
    {
      "cell_type": "code",
      "metadata": {
        "colab": {
          "base_uri": "https://localhost:8080/",
          "height": 419
        },
        "id": "PXiAUE53-BxI",
        "outputId": "208b0915-43e4-40f0-fe62-8cacc60dc7f0"
      },
      "source": [
        "#data của Lan Phương\n",
        "#https://github.com/lphuong304/CS114.L21/blob/main/COLAB_ASSIGNMENTS/COLAB_ASSIGNMENT_14_06/data/data_train.csv\n",
        "df_test_LanPhuong = pd.read_csv('https://raw.githubusercontent.com/lphuong304/CS114.L21/main/COLAB_ASSIGNMENTS/COLAB_ASSIGNMENT_14_06/data/data_train.csv')[['headline', 'is_sarcastic']]\n",
        "df_test_LanPhuong"
      ],
      "execution_count": null,
      "outputs": [
        {
          "output_type": "execute_result",
          "data": {
            "text/html": [
              "<div>\n",
              "<style scoped>\n",
              "    .dataframe tbody tr th:only-of-type {\n",
              "        vertical-align: middle;\n",
              "    }\n",
              "\n",
              "    .dataframe tbody tr th {\n",
              "        vertical-align: top;\n",
              "    }\n",
              "\n",
              "    .dataframe thead th {\n",
              "        text-align: right;\n",
              "    }\n",
              "</style>\n",
              "<table border=\"1\" class=\"dataframe\">\n",
              "  <thead>\n",
              "    <tr style=\"text-align: right;\">\n",
              "      <th></th>\n",
              "      <th>headline</th>\n",
              "      <th>is_sarcastic</th>\n",
              "    </tr>\n",
              "  </thead>\n",
              "  <tbody>\n",
              "    <tr>\n",
              "      <th>0</th>\n",
              "      <td>Deadliest states for drug overdose...</td>\n",
              "      <td>0</td>\n",
              "    </tr>\n",
              "    <tr>\n",
              "      <th>1</th>\n",
              "      <td>Is Vietnam the Next ‘Asian Miracle’?</td>\n",
              "      <td>0</td>\n",
              "    </tr>\n",
              "    <tr>\n",
              "      <th>2</th>\n",
              "      <td>Trump Rows Across Great Lakes In Surprise Atta...</td>\n",
              "      <td>1</td>\n",
              "    </tr>\n",
              "    <tr>\n",
              "      <th>3</th>\n",
              "      <td>Top Emirates adviser cooperating w...</td>\n",
              "      <td>0</td>\n",
              "    </tr>\n",
              "    <tr>\n",
              "      <th>4</th>\n",
              "      <td>Deadliest states for drug overdose...</td>\n",
              "      <td>0</td>\n",
              "    </tr>\n",
              "    <tr>\n",
              "      <th>...</th>\n",
              "      <td>...</td>\n",
              "      <td>...</td>\n",
              "    </tr>\n",
              "    <tr>\n",
              "      <th>118138</th>\n",
              "      <td>Review: ‘Tuca &amp; Bertie’ Is an Eggsellent Adven...</td>\n",
              "      <td>0</td>\n",
              "    </tr>\n",
              "    <tr>\n",
              "      <th>118139</th>\n",
              "      <td>Italy Charges Egyptian Security Agents in Stud...</td>\n",
              "      <td>0</td>\n",
              "    </tr>\n",
              "    <tr>\n",
              "      <th>118140</th>\n",
              "      <td>Ted Bundy: The serial killer's fin...</td>\n",
              "      <td>0</td>\n",
              "    </tr>\n",
              "    <tr>\n",
              "      <th>118141</th>\n",
              "      <td>When the Closer Isn’t Closing</td>\n",
              "      <td>0</td>\n",
              "    </tr>\n",
              "    <tr>\n",
              "      <th>118142</th>\n",
              "      <td>Macron Urges World Leaders to Speed Aid to Leb...</td>\n",
              "      <td>0</td>\n",
              "    </tr>\n",
              "  </tbody>\n",
              "</table>\n",
              "<p>118143 rows × 2 columns</p>\n",
              "</div>"
            ],
            "text/plain": [
              "                                                 headline  is_sarcastic\n",
              "0                   Deadliest states for drug overdose...             0\n",
              "1                    Is Vietnam the Next ‘Asian Miracle’?             0\n",
              "2       Trump Rows Across Great Lakes In Surprise Atta...             1\n",
              "3                   Top Emirates adviser cooperating w...             0\n",
              "4                   Deadliest states for drug overdose...             0\n",
              "...                                                   ...           ...\n",
              "118138  Review: ‘Tuca & Bertie’ Is an Eggsellent Adven...             0\n",
              "118139  Italy Charges Egyptian Security Agents in Stud...             0\n",
              "118140              Ted Bundy: The serial killer's fin...             0\n",
              "118141                      When the Closer Isn’t Closing             0\n",
              "118142  Macron Urges World Leaders to Speed Aid to Leb...             0\n",
              "\n",
              "[118143 rows x 2 columns]"
            ]
          },
          "metadata": {
            "tags": []
          },
          "execution_count": 5
        }
      ]
    },
    {
      "cell_type": "markdown",
      "metadata": {
        "id": "Fems1CKJdEc-"
      },
      "source": [
        "#**Dùng Countvectorizer - Vectore Space Model**"
      ]
    },
    {
      "cell_type": "markdown",
      "metadata": {
        "id": "lnxAaHNrrREn"
      },
      "source": [
        "##**Visualise Data**"
      ]
    },
    {
      "cell_type": "code",
      "metadata": {
        "id": "sliOvzhcpZYR"
      },
      "source": [
        "import matplotlib.pyplot as plt\n",
        "#Nguồn nhóm của Lan Phương\n",
        "def Visualize_data(data_frame):\n",
        "  fig=plt.figure(figsize=(8,6))\n",
        "  background_color = '#f6f5f7'\n",
        "  fig.patch.set_facecolor(background_color) \n",
        "  ax=plt.subplot(1,1,1)\n",
        "  ax.set_facecolor(background_color)\n",
        "  ax.set_title('Visualize Data',fontweight='bold',fontfamily='serif')\n",
        "  for i in ['top','right']:\n",
        "    ax.spines[i].set_visible(False)\n",
        "  ax.grid(linestyle=':',axis='y')\n",
        "  sn.countplot(data_frame['is_sarcastic'],palette='PuOr_r')"
      ],
      "execution_count": null,
      "outputs": []
    },
    {
      "cell_type": "code",
      "metadata": {
        "colab": {
          "base_uri": "https://localhost:8080/",
          "height": 459
        },
        "id": "f-PL3zERrWPS",
        "outputId": "0eaa1b2d-fe4f-4aa0-db13-8ff71882c305"
      },
      "source": [
        "Visualize_data(df_train)"
      ],
      "execution_count": null,
      "outputs": [
        {
          "output_type": "stream",
          "text": [
            "/usr/local/lib/python3.7/dist-packages/seaborn/_decorators.py:43: FutureWarning: Pass the following variable as a keyword arg: x. From version 0.12, the only valid positional argument will be `data`, and passing other arguments without an explicit keyword will result in an error or misinterpretation.\n",
            "  FutureWarning\n"
          ],
          "name": "stderr"
        },
        {
          "output_type": "display_data",
          "data": {
            "image/png": "[encoded data removed]",
            "text/plain": [
              "<Figure size 576x432 with 1 Axes>"
            ]
          },
          "metadata": {
            "tags": []
          }
        }
      ]
    },
    {
      "cell_type": "code",
      "metadata": {
        "colab": {
          "base_uri": "https://localhost:8080/",
          "height": 459
        },
        "id": "FfH0Pt8Tra5A",
        "outputId": "f62a16c8-d56d-4b47-833e-7b19d39678d6"
      },
      "source": [
        "Visualize_data(df_test)"
      ],
      "execution_count": null,
      "outputs": [
        {
          "output_type": "stream",
          "text": [
            "/usr/local/lib/python3.7/dist-packages/seaborn/_decorators.py:43: FutureWarning: Pass the following variable as a keyword arg: x. From version 0.12, the only valid positional argument will be `data`, and passing other arguments without an explicit keyword will result in an error or misinterpretation.\n",
            "  FutureWarning\n"
          ],
          "name": "stderr"
        },
        {
          "output_type": "display_data",
          "data": {
            "image/png": "[encoded data removed]",
            "text/plain": [
              "<Figure size 576x432 with 1 Axes>"
            ]
          },
          "metadata": {
            "tags": []
          }
        }
      ]
    },
    {
      "cell_type": "code",
      "metadata": {
        "colab": {
          "base_uri": "https://localhost:8080/",
          "height": 459
        },
        "id": "u5Pk5X5J-K_5",
        "outputId": "9e3f267a-e712-4208-f52a-5801a5682341"
      },
      "source": [
        "Visualize_data(df_test_LanPhuong)"
      ],
      "execution_count": null,
      "outputs": [
        {
          "output_type": "stream",
          "text": [
            "/usr/local/lib/python3.7/dist-packages/seaborn/_decorators.py:43: FutureWarning: Pass the following variable as a keyword arg: x. From version 0.12, the only valid positional argument will be `data`, and passing other arguments without an explicit keyword will result in an error or misinterpretation.\n",
            "  FutureWarning\n"
          ],
          "name": "stderr"
        },
        {
          "output_type": "display_data",
          "data": {
            "image/png": "[encoded data removed]",
            "text/plain": [
              "<Figure size 576x432 with 1 Axes>"
            ]
          },
          "metadata": {
            "tags": []
          }
        }
      ]
    },
    {
      "cell_type": "markdown",
      "metadata": {
        "id": "VQH6VdZLRARB"
      },
      "source": [
        "##**Build model**"
      ]
    },
    {
      "cell_type": "code",
      "metadata": {
        "id": "zYCSa5t0jeg0"
      },
      "source": [
        "from sklearn.feature_extraction.text import CountVectorizer\n",
        "from sklearn.naive_bayes import MultinomialNB, BernoulliNB\n",
        "from sklearn import svm\n",
        "from sklearn.model_selection import GridSearchCV\n",
        "from sklearn.metrics import classification_report, confusion_matrix, accuracy_score"
      ],
      "execution_count": null,
      "outputs": []
    },
    {
      "cell_type": "code",
      "metadata": {
        "id": "MLcaqp9fjiE6"
      },
      "source": [
        "X_train, X_test = df_train['headline'], df_test['headline']\n",
        "y_train, y_test = df_train['is_sarcastic'], df_test['is_sarcastic']"
      ],
      "execution_count": null,
      "outputs": []
    },
    {
      "cell_type": "code",
      "metadata": {
        "id": "RESgJRcy-Zjs"
      },
      "source": [
        "X_test_LP, y_test_LP = df_test_LanPhuong['headline'], df_test_LanPhuong['is_sarcastic']"
      ],
      "execution_count": null,
      "outputs": []
    },
    {
      "cell_type": "code",
      "metadata": {
        "id": "esWhT15sPFSb"
      },
      "source": [
        "#extract feature\n",
        "#dùng CountVectorizer\n",
        "vectorizer = CountVectorizer(analyzer=processing)\n",
        "def extraction_feature(train, test):\n",
        "  feature_train = vectorizer.fit_transform(train) #train\n",
        "  feature_test = CountVectorizer(analyzer=processing, vocabulary=vectorizer.vocabulary_).fit_transform(test) #test\n",
        "  return feature_train, feature_test"
      ],
      "execution_count": null,
      "outputs": []
    },
    {
      "cell_type": "code",
      "metadata": {
        "id": "EsZYWojTocaL"
      },
      "source": [
        "feature = extraction_feature(X_train, X_test)"
      ],
      "execution_count": null,
      "outputs": []
    },
    {
      "cell_type": "code",
      "metadata": {
        "id": "OSmKsX6s_AuA"
      },
      "source": [
        "#rút feature data của nhóm bạn Lan Phương\n",
        "feature_LP = CountVectorizer(analyzer=processing, vocabulary=vectorizer.vocabulary_).fit_transform(X_test_LP)"
      ],
      "execution_count": null,
      "outputs": []
    },
    {
      "cell_type": "code",
      "metadata": {
        "id": "eHz_GRJYBJxm"
      },
      "source": [
        "def show_result(model, test):\n",
        "  predict = model.predict(test[0])\n",
        "  print('accuracy =', accuracy_score(test[1], predict))\n",
        "  cm = confusion_matrix(test[1], predict)\n",
        "  sn.heatmap(cm, annot = True)\n",
        "  \n",
        "def save_model(model, filename):\n",
        "  pickle.dump(model, open(filename, 'wb'))"
      ],
      "execution_count": null,
      "outputs": []
    },
    {
      "cell_type": "markdown",
      "metadata": {
        "id": "huwxthGY2xoz"
      },
      "source": [
        "###**SVM**"
      ]
    },
    {
      "cell_type": "code",
      "metadata": {
        "id": "FfXAIfCOPxMc"
      },
      "source": [
        "#thử dùng SVM để làm phần classification\n",
        "SVM_model = svm.SVC().fit(feature[0], y_train)\n",
        "save_model(SVM_model, 'svm_model.sav')"
      ],
      "execution_count": null,
      "outputs": []
    },
    {
      "cell_type": "code",
      "metadata": {
        "colab": {
          "base_uri": "https://localhost:8080/",
          "height": 285
        },
        "id": "9EtSV2WsiAMA",
        "outputId": "c9796ab5-6634-4c2f-f6f2-b5c8620a6fa6"
      },
      "source": [
        "SVM_model = pickle.load(open('svm_model.sav', 'rb'))\n",
        "show_result(SVM_model, [feature[1], y_test]) #đây là tập cho test thử kết quả của nhóm em làm"
      ],
      "execution_count": null,
      "outputs": [
        {
          "output_type": "stream",
          "text": [
            "accuracy = 0.6734550232274412\n"
          ],
          "name": "stdout"
        },
        {
          "output_type": "display_data",
          "data": {
            "image/png": "[encoded data removed]",
            "text/plain": [
              "<Figure size 432x288 with 2 Axes>"
            ]
          },
          "metadata": {
            "tags": []
          }
        }
      ]
    },
    {
      "cell_type": "markdown",
      "metadata": {
        "id": "hd8DfZ9TUP4H"
      },
      "source": [
        "Mặc dù accuracy thấp => model không tốt"
      ]
    },
    {
      "cell_type": "code",
      "metadata": {
        "colab": {
          "base_uri": "https://localhost:8080/",
          "height": 285
        },
        "id": "7cNGpeeFAgqv",
        "outputId": "c0357454-7ab8-44ac-fb9f-e774e8306a25"
      },
      "source": [
        "show_result(SVM_model, [feature_LP, y_test_LP]) #data của bạn Lan Phương"
      ],
      "execution_count": null,
      "outputs": [
        {
          "output_type": "stream",
          "text": [
            "accuracy = 0.8561742972499429\n"
          ],
          "name": "stdout"
        },
        {
          "output_type": "display_data",
          "data": {
            "image/png": "[encoded data removed]",
            "text/plain": [
              "<Figure size 432x288 with 2 Axes>"
            ]
          },
          "metadata": {
            "tags": []
          }
        }
      ]
    },
    {
      "cell_type": "markdown",
      "metadata": {
        "id": "2Zfk3QPaD6J2"
      },
      "source": [
        "Mặc dù accuracy khá tốt mà mà nhìn vào confusion matrix thì thấy rõ là model detection các headline sarcasm không tốt.\n",
        "Mà cái nhìn lại cái nhan đề bài tập là 'Sarcasm detection' => model ko tốt."
      ]
    },
    {
      "cell_type": "markdown",
      "metadata": {
        "id": "RaH2RVKkc3Lb"
      },
      "source": [
        "###**Naive Bayes**"
      ]
    },
    {
      "cell_type": "code",
      "metadata": {
        "id": "h4J9DIt7nm56"
      },
      "source": [
        "#create model Multinomial Naive Bayes\n",
        "MNB_model = MultinomialNB().fit(feature[0], y_train)"
      ],
      "execution_count": null,
      "outputs": []
    },
    {
      "cell_type": "code",
      "metadata": {
        "colab": {
          "base_uri": "https://localhost:8080/",
          "height": 282
        },
        "id": "X1EZ3QKMoKq4",
        "outputId": "9bb1b0cc-6a82-45c1-e12a-326ba38d7c8a"
      },
      "source": [
        "show_result(MNB_model, [feature[1], y_test])"
      ],
      "execution_count": null,
      "outputs": [
        {
          "output_type": "stream",
          "text": [
            "accuracy = 0.693350851672845\n"
          ],
          "name": "stdout"
        },
        {
          "output_type": "display_data",
          "data": {
            "image/png": "[encoded data removed]",
            "text/plain": [
              "<Figure size 432x288 with 2 Axes>"
            ]
          },
          "metadata": {
            "tags": []
          }
        }
      ]
    },
    {
      "cell_type": "markdown",
      "metadata": {
        "id": "uQHTjafxEHmm"
      },
      "source": [
        "Cũng tương tự như trên model lại rất cũng xấu - có vẻ khâu xử lý dữ liệu chưa thốt hoặc data không tốt."
      ]
    },
    {
      "cell_type": "code",
      "metadata": {
        "colab": {
          "base_uri": "https://localhost:8080/",
          "height": 282
        },
        "id": "NhQRfnZaAoxv",
        "outputId": "e05d4ece-ec5f-485c-a1b8-187a43b2eb20"
      },
      "source": [
        "show_result(MNB_model, [feature_LP, y_test_LP])"
      ],
      "execution_count": null,
      "outputs": [
        {
          "output_type": "stream",
          "text": [
            "accuracy = 0.9025587635323294\n"
          ],
          "name": "stdout"
        },
        {
          "output_type": "display_data",
          "data": {
            "image/png": "[encoded data removed]",
            "text/plain": [
              "<Figure size 432x288 with 2 Axes>"
            ]
          },
          "metadata": {
            "tags": []
          }
        }
      ]
    },
    {
      "cell_type": "markdown",
      "metadata": {
        "id": "xm5dX_P9EbGR"
      },
      "source": [
        "Như trên accuracy cao là do headline Non-sarcasm nhiều thôi"
      ]
    },
    {
      "cell_type": "markdown",
      "metadata": {
        "id": "BcUHyE5GF-dd"
      },
      "source": [
        "> Giải thích: là do data lượng chêch lệch dữ liệu giữa Non-sarcasm và sarcasm, cụ thể Non-sarcasm > sarcasm nên model train mới có việc dự đoán tin sarsasm không dc tốt"
      ]
    },
    {
      "cell_type": "markdown",
      "metadata": {
        "id": "GYPwM0CZsWd6"
      },
      "source": [
        "# **NLP/Word Embeddings**"
      ]
    },
    {
      "cell_type": "code",
      "metadata": {
        "id": "6hqxyqtFMBrM"
      },
      "source": [
        "import tensorflow as tf\n",
        "from tensorflow.keras.preprocessing.text import Tokenizer\n",
        "from keras.preprocessing.sequence import pad_sequences\n",
        "from gensim.models import Word2Vec"
      ],
      "execution_count": null,
      "outputs": []
    },
    {
      "cell_type": "markdown",
      "metadata": {
        "id": "eTmTPjrQIVsr"
      },
      "source": [
        "##**Processing data**"
      ]
    },
    {
      "cell_type": "code",
      "metadata": {
        "colab": {
          "base_uri": "https://localhost:8080/"
        },
        "id": "-6-m7ety8GcH",
        "outputId": "f2631f73-611a-4910-928a-a337785a1290"
      },
      "source": [
        "nltk.download('stopwords')\n",
        "def processing_tokenizer(text):\n",
        "  remove_punc = [char for char in text if char not in string.punctuation]\n",
        "  sent = ''.join(remove_punc)\n",
        "  result = [word for word in sent.split() if word.lower() not in stopwords.words('english')]\n",
        "  return ' '.join(result)"
      ],
      "execution_count": null,
      "outputs": [
        {
          "output_type": "stream",
          "text": [
            "[nltk_data] Downloading package stopwords to /root/nltk_data...\n",
            "[nltk_data]   Package stopwords is already up-to-date!\n"
          ],
          "name": "stdout"
        }
      ]
    },
    {
      "cell_type": "code",
      "metadata": {
        "id": "Lh3aB3aGCMEc"
      },
      "source": [
        "def get_sequences(text, tokenizer, train=True, max_length=None):\n",
        "  sequences = tokenizer.texts_to_sequences(text)\n",
        "  if train is True:\n",
        "    max_length = np.max(list(map(lambda x: len(x), sequences)))\n",
        "\n",
        "  sequences = pad_sequences(sequences, maxlen=max_length, padding='post')\n",
        "  return sequences"
      ],
      "execution_count": null,
      "outputs": []
    },
    {
      "cell_type": "code",
      "metadata": {
        "id": "MOeorWPj6BSi"
      },
      "source": [
        "#Xử lý dữ liệu\n",
        "def preprocess(df_train, df_test):\n",
        "  X_train, y_train = df_train['headline'].apply(processing_tokenizer), df_train['is_sarcastic']\n",
        "  X_test, y_test = df_test['headline'].apply(processing_tokenizer), df_test['is_sarcastic']\n",
        "\n",
        "  tokenizer = Tokenizer(num_words=30000)\n",
        "  tokenizer.fit_on_texts(X_train)\n",
        "\n",
        "  X_train = get_sequences(X_train, tokenizer,train=True)\n",
        "  X_test = get_sequences(X_test, tokenizer, train=False, max_length=X_train.shape[1])\n",
        "\n",
        "  return X_train, X_test, y_train, y_test"
      ],
      "execution_count": null,
      "outputs": []
    },
    {
      "cell_type": "code",
      "metadata": {
        "id": "9lGQsclV6_nQ"
      },
      "source": [
        "X_train, X_test, y_train, y_test = preprocess(df_train, df_test)"
      ],
      "execution_count": null,
      "outputs": []
    },
    {
      "cell_type": "code",
      "metadata": {
        "id": "88gD1o-HScYx"
      },
      "source": [
        "def process_simple_data(data):\n",
        "  \n",
        "  X, y = data['headline'].apply(processing_tokenizer), data['is_sarcastic']\n",
        "\n",
        "  tokenizer = Tokenizer(num_words=30000)\n",
        "  tokenizer.fit_on_texts(X)\n",
        "\n",
        "  X = get_sequences(X, tokenizer,train=False,max_length=36)\n",
        "\n",
        "  return X, y"
      ],
      "execution_count": null,
      "outputs": []
    },
    {
      "cell_type": "code",
      "metadata": {
        "colab": {
          "background_save": true
        },
        "id": "hCKEDjRwBek5"
      },
      "source": [
        "X_test_LP, y_test_LP = process_simple_data(df_test_LanPhuong)"
      ],
      "execution_count": null,
      "outputs": []
    },
    {
      "cell_type": "markdown",
      "metadata": {
        "id": "CI58Kv5DIgOq"
      },
      "source": [
        "##**Training**"
      ]
    },
    {
      "cell_type": "code",
      "metadata": {
        "id": "cv2IoBmFH_mB"
      },
      "source": [
        "#embedding layer\n",
        "inputs = tf.keras.Input(shape=(36,))\n",
        "embedding = tf.keras.layers.Embedding(\n",
        "    input_dim=30000,\n",
        "    output_dim=64\n",
        ")(inputs)\n",
        "\n",
        "flatten = tf.keras.layers.Flatten()(embedding)\n",
        "outputs = tf.keras.layers.Dense(1, activation='sigmoid')(flatten)\n",
        "\n",
        "final_model = tf.keras.Model(inputs=inputs, outputs=outputs)"
      ],
      "execution_count": null,
      "outputs": []
    },
    {
      "cell_type": "code",
      "metadata": {
        "colab": {
          "base_uri": "https://localhost:8080/"
        },
        "id": "GZJsekjnK9Hb",
        "outputId": "d85fa4eb-1e8c-4d8b-baa4-597d3c93ae20"
      },
      "source": [
        "final_model.compile(\n",
        "    optimizer='adam',\n",
        "    loss='binary_crossentropy',\n",
        "    metrics=[\n",
        "        'accuracy',\n",
        "        tf.keras.metrics.AUC(name='auc')\n",
        "    ]\n",
        ")\n",
        "\n",
        "\n",
        "final_model.summary()"
      ],
      "execution_count": null,
      "outputs": [
        {
          "output_type": "stream",
          "text": [
            "Model: \"model_7\"\n",
            "_________________________________________________________________\n",
            "Layer (type)                 Output Shape              Param #   \n",
            "=================================================================\n",
            "input_8 (InputLayer)         [(None, 36)]              0         \n",
            "_________________________________________________________________\n",
            "embedding_7 (Embedding)      (None, 36, 64)            1920000   \n",
            "_________________________________________________________________\n",
            "flatten_7 (Flatten)          (None, 2304)              0         \n",
            "_________________________________________________________________\n",
            "dense_7 (Dense)              (None, 1)                 2305      \n",
            "=================================================================\n",
            "Total params: 1,922,305\n",
            "Trainable params: 1,922,305\n",
            "Non-trainable params: 0\n",
            "_________________________________________________________________\n"
          ],
          "name": "stdout"
        }
      ]
    },
    {
      "cell_type": "code",
      "metadata": {
        "id": "e1o5YVZrJ9Fb"
      },
      "source": [
        "history = final_model.fit(\n",
        "    X_train, y_train,\n",
        "    validation_split = 0.2,\n",
        "    batch_size=32,\n",
        "    epochs=5,\n",
        "    callbacks=[\n",
        "               tf.keras.callbacks.EarlyStopping(\n",
        "                   monitor='val_loss',\n",
        "                   patience=4,\n",
        "                   restore_best_weights=True\n",
        "               )\n",
        "    ]\n",
        ")"
      ],
      "execution_count": null,
      "outputs": []
    },
    {
      "cell_type": "code",
      "metadata": {
        "id": "tlo5qxH5aQDM"
      },
      "source": [
        "filename = 'embeddingmodel.sav'\n",
        "final_model.save(filename)"
      ],
      "execution_count": null,
      "outputs": []
    },
    {
      "cell_type": "code",
      "metadata": {
        "id": "iVLWyoS3cGRQ"
      },
      "source": [
        "result = final_model.evaluate(X_test, y_test, verbose=0)"
      ],
      "execution_count": null,
      "outputs": []
    },
    {
      "cell_type": "code",
      "metadata": {
        "colab": {
          "base_uri": "https://localhost:8080/"
        },
        "id": "yel0yTuwcJDi",
        "outputId": "625456e9-9eb6-4865-d9cb-cb1aa92afca9"
      },
      "source": [
        "print('Test loss:', result[0])\n",
        "print('Accuracy:', result[1])\n",
        "print('AUC: ', result[2])"
      ],
      "execution_count": null,
      "outputs": [
        {
          "output_type": "stream",
          "text": [
            "Test loss: 0.8028551936149597\n",
            "Accuracy: 0.6845760345458984\n",
            "AUC:  0.6600672006607056\n"
          ],
          "name": "stdout"
        }
      ]
    },
    {
      "cell_type": "markdown",
      "metadata": {
        "id": "CrlICNiS-8eo"
      },
      "source": [
        "#**Nhận xét**"
      ]
    },
    {
      "cell_type": "markdown",
      "metadata": {
        "id": "_8IbU-UR_AtM"
      },
      "source": [
        ">Có thể thấy model chưa tốt\n",
        "\n",
        ">Mặc dù có test trên tập data khác, mà phần lớn là model dự đoán label 1 sai tức là các câu sarcastic sai.\n",
        "\n",
        ">Có thể là do data chauw được tốt, và khâu xử lý chưa chỉnh chủ."
      ]
    }
  ]
}