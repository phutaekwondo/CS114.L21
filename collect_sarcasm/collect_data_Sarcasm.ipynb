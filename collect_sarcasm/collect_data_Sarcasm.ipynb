{
  "nbformat": 4,
  "nbformat_minor": 0,
  "metadata": {
    "colab": {
      "name": "collect data Sarcasm.ipynb",
      "provenance": [],
      "collapsed_sections": [],
      "authorship_tag": "ABX9TyMYc8k62OF+yWUlE36uULbf",
      "include_colab_link": true
    },
    "kernelspec": {
      "name": "python3",
      "display_name": "Python 3"
    },
    "language_info": {
      "name": "python"
    }
  },
  "cells": [
    {
      "cell_type": "markdown",
      "metadata": {
        "id": "view-in-github",
        "colab_type": "text"
      },
      "source": [
        "<a href=\"https://colab.research.google.com/github/phutaekwondo/CS114.L21/blob/main/collect_sarcasm/collect_data_Sarcasm.ipynb\" target=\"_parent\"><img src=\"https://colab.research.google.com/assets/colab-badge.svg\" alt=\"Open In Colab\"/></a>"
      ]
    },
    {
      "cell_type": "markdown",
      "metadata": {
        "id": "zDpEEiFdJ3FR"
      },
      "source": [
        "# **Bài tập: Thu thập dataset cho bài toán Sarcasm detection in news headline**"
      ]
    },
    {
      "cell_type": "markdown",
      "metadata": {
        "id": "_2PAyR9QJ_mA"
      },
      "source": [
        "#**Nhóm thực hiện**\n",
        "- 19522020 - Lãi Nguyễn Vĩnh Phú\n",
        "- 19521299 - Nguyễn Chí Cường\n",
        "- 19522447 - Trương Thế Trương"
      ]
    },
    {
      "cell_type": "markdown",
      "metadata": {
        "id": "blnIzfCoKOln"
      },
      "source": [
        "#**Các trang web thu thập:**\n",
        "Trang châm biếm:\n",
        "- https://www.newyorker.com/\n",
        "- https://dailybonnet.com/\n",
        "- https://clickhole.com/\n",
        "- https://chaser.com.au/\n",
        "\n",
        "Trang chính thống:"
      ]
    },
    {
      "cell_type": "code",
      "metadata": {
        "id": "Pv_k2vuxJdR-"
      },
      "source": [
        "import requests\n",
        "from bs4 import BeautifulSoup\n",
        "import pandas as pd"
      ],
      "execution_count": 1,
      "outputs": []
    },
    {
      "cell_type": "markdown",
      "metadata": {
        "id": "rvZJb0xgKQM2"
      },
      "source": [
        "#**Tin châm biếm**"
      ]
    },
    {
      "cell_type": "markdown",
      "metadata": {
        "id": "l0kkJTo2Mp1e"
      },
      "source": [
        "## **Trang New Yorker**"
      ]
    },
    {
      "cell_type": "code",
      "metadata": {
        "id": "R1NDokfsliUs"
      },
      "source": [
        "file_link = open(\"newyorker_link.txt\",\"a\")\n",
        "file_head = open(\"newyorker_head.txt\",\"a\")\n",
        "for page in range(1393):\n",
        "  link = \"https://www.newyorker.com\"\n",
        "  url = \"https://www.newyorker.com/latest/news/page/{}\".format(page)\n",
        "  try:\n",
        "    response  = requests.get(url)\n",
        "\n",
        "    html = response.content\n",
        "    soup = BeautifulSoup(html, \"html.parser\")\n",
        "\n",
        "    names = soup.body.find_all('li', class_=\"River__riverItem___3huWr\")\n",
        "    for element in names:\n",
        "      link_new = element.a.attrs.get(\"href\")\n",
        "      if link_new is not None:\n",
        "        file_link.write(link + str(link_new) + '\\n')\n",
        "        file_head.write(element.h4.get_text() + '\\n')\n",
        "  except:\n",
        "      continue\n",
        "file_link.close()\n",
        "file_head.close()"
      ],
      "execution_count": null,
      "outputs": []
    },
    {
      "cell_type": "markdown",
      "metadata": {
        "id": "mOuqHi4BEMPj"
      },
      "source": [
        "##**Trang Daily Bonnet**"
      ]
    },
    {
      "cell_type": "code",
      "metadata": {
        "id": "CimLWf_ZKF_B"
      },
      "source": [
        "url = 'https://dailybonnet.com/'\n",
        "list_new = [['quiz/page/{}',12], ['mennonitelife/page/{}',169], ['food-and-drink/page/{}',78], ['church/page/{}',61], ['outsiders/page/{}',122]]\n",
        "file_link = open(\"dailybonnet_link.txt\",\"a\")\n",
        "file_head = open(\"dailybonnet_head.txt\",\"a\")\n",
        "for text in list_new:\n",
        "  link = url + 'category/' + text[0]\n",
        "  for page in range(text[1]):\n",
        "    try:\n",
        "      new_url = link.format(page)\n",
        "      names = soup.body.find_all('article')\n",
        "      for index in names:\n",
        "        file_link.write(str(index.h3.a.attrs.get('href')) + '\\n')\n",
        "        file_head.write(index.h3.text.strip() + '\\n')\n",
        "    except:\n",
        "        continue\n",
        "file_head.close()\n",
        "file_link.close()    "
      ],
      "execution_count": null,
      "outputs": []
    },
    {
      "cell_type": "markdown",
      "metadata": {
        "id": "pho5bZCpOakg"
      },
      "source": [
        "##**Trang Click Hole**"
      ]
    },
    {
      "cell_type": "code",
      "metadata": {
        "id": "IIvWyZRDOhd_"
      },
      "source": [
        "file_link = open(\"clickhole_link.txt\",\"a\")\n",
        "file_head = open(\"clickhole_head.txt\",\"a\")\n",
        "for page in range(1176):\n",
        "  url = \"https://clickhole.com/page/{}\".format(page)\n",
        "  try:\n",
        "    response  = requests.get(url)\n",
        "\n",
        "    html = response.content\n",
        "    soup = BeautifulSoup(html, \"html.parser\")\n",
        "\n",
        "    names = soup.body.find_all('li', class_=\"post-item has-image\")\n",
        "    for index in names:\n",
        "      file_link.write(str(index.a.attrs.get('href')) + '\\n')\n",
        "      file_head.write(index.a.text + '\\n')\n",
        "  except:\n",
        "      continue\n",
        "file_link.close()\n",
        "file_head.close()"
      ],
      "execution_count": null,
      "outputs": []
    },
    {
      "cell_type": "markdown",
      "metadata": {
        "id": "liM5f9ireinL"
      },
      "source": [
        "##**Trang The Chaser**"
      ]
    },
    {
      "cell_type": "code",
      "metadata": {
        "id": "cKB21W8Ceo1a"
      },
      "source": [
        "file_link = open(\"chaser_link.txt\",\"a\")\n",
        "file_head = open(\"chaser_head.txt\",\"a\")\n",
        "\n",
        "for page in range(209):\n",
        "  url = 'https://chaser.com.au/news/page/{}'.format(page)\n",
        "  try:\n",
        "    response  = requests.get(url)\n",
        "\n",
        "    html = response.content\n",
        "    soup = BeautifulSoup(html, \"html.parser\")\n",
        "\n",
        "    names = soup.body.find_all('a', class_=\"archive_story\")\n",
        "    for index in names:\n",
        "      file_link.write(str(index.attrs.get('href') + '\\n'))\n",
        "      file_head.write(index.text.strip().split('\\n\\n')[1] + '\\n')\n",
        "  except:\n",
        "    continue\n",
        "file_link.close()\n",
        "file_head.close()"
      ],
      "execution_count": null,
      "outputs": []
    },
    {
      "cell_type": "markdown",
      "metadata": {
        "id": "N2ulcGuWKWoD"
      },
      "source": [
        "#**Tin chính thống**"
      ]
    },
    {
      "cell_type": "markdown",
      "metadata": {
        "id": "AWOKlqjT6YvE"
      },
      "source": [
        "##**Trang The Daily Mash**"
      ]
    },
    {
      "cell_type": "code",
      "metadata": {
        "id": "8cwmSn4e7LtW"
      },
      "source": [
        "zp = [['news/?page={}', 7], ['politics/?page={}', 31], ['news/lifestyle?page={}', 80], ['spot?page={}', 7]]\n",
        "url = 'https://www.thedailymash.co.uk/'\n",
        "file_link = open(\"thedailymash_link.txt\",\"a\")\n",
        "file_head = open(\"thedailymash_head.txt\",\"a\")\n",
        "for word in zp:\n",
        "  for page in range(word[1]):\n",
        "    link = (url + word[0]).format(page)\n",
        "    response = requests.get(link)\n",
        "    html = response.content\n",
        "    soup = BeautifulSoup(html, \"html.parser\")\n",
        "    names = soup.body.find_all('div', class_=\"md:w-1/2\")\n",
        "    for index in names:\n",
        "      temp = index.find('div', class_=\"pl-4 -mt-1\")\n",
        "      file_link.write(url + str(temp.a.attrs.get('href')) + '\\n')\n",
        "      file_head.write(temp.a.text.strip() + '\\n')\n",
        "file_link.close()\n",
        "file_head.close()"
      ],
      "execution_count": null,
      "outputs": []
    },
    {
      "cell_type": "markdown",
      "metadata": {
        "id": "cbci_vJapZN6"
      },
      "source": [
        "## **Trang Euro News**"
      ]
    },
    {
      "cell_type": "code",
      "metadata": {
        "id": "42ouCAH4oTCF"
      },
      "source": [
        "zp = [['g7',4], ['climate-change',23],['covid-19',103],['china',58],\n",
        "      ['video',8],['bitcoin',3],['travel-guide',3], ['joe-biden',12],\n",
        "      ['ursula-von-der-leyen',6], ['asia',14], ['sport',60],\n",
        "      ['culture',39], ['business',37]]\n",
        "url = 'https://www.euronews.com/'\n",
        "file_link = open(\"euronews_link.txt\",\"a\")\n",
        "file_head = open(\"euronews_head.txt\",\"a\")\n",
        "for tag in zp:\n",
        "  for page in range(tag[1]):\n",
        "    link = (url + 'tag/' + tag[0] + '?p={}').format(page)\n",
        "    try:\n",
        "      response = requests.get(link)\n",
        "      html = response.content\n",
        "      soup = BeautifulSoup(html, \"html.parser\")\n",
        "      names = soup.body.find_all('article')[:30]\n",
        "      for index in names:\n",
        "        try:\n",
        "          title = index.h3.text.strip()\n",
        "        except:\n",
        "          title = index.h2.text.strip()\n",
        "        file_link.write(url + str(index.a.attrs.get('href')) + '\\n')\n",
        "        file_head.write(title + '\\n')\n",
        "    except:\n",
        "      continue\n",
        "file_link.close()\n",
        "file_head.close()"
      ],
      "execution_count": null,
      "outputs": []
    },
    {
      "cell_type": "markdown",
      "metadata": {
        "id": "N7cVqk3eN9nt"
      },
      "source": [
        "##**Trang Time**"
      ]
    },
    {
      "cell_type": "code",
      "metadata": {
        "id": "92KdDS5fQ4OE"
      },
      "source": [
        "file_link = open('time_link.txt', 'a')\n",
        "file_head = open('time_head.txt', 'a')\n",
        "url = 'https://time.com'\n",
        "tag = ['world', 'politics', 'health', 'business', 'tech', 'entertainment', 'ideas', 'science', 'history', 'newsfeed', 'sports']\n",
        "for word in tag:\n",
        "  for page in range(250):\n",
        "    link = (url + '/section/' + word + '/?page={}').format(page)\n",
        "    try:\n",
        "      response = requests.get(link)\n",
        "      html = response.content\n",
        "      soup = BeautifulSoup(html, \"html.parser\")\n",
        "      names = soup.body.find_all('article')\n",
        "      for index in names:\n",
        "        file_link.write(url + str(index.a.attrs.get('href')) + '\\n')\n",
        "        file_head.write(index.h3.text.strip() + '\\n')\n",
        "    except:\n",
        "      continue\n",
        "\n",
        "file_head.close()\n",
        "file_link.close()"
      ],
      "execution_count": 15,
      "outputs": []
    },
    {
      "cell_type": "markdown",
      "metadata": {
        "id": "xgxFGmr7WiYA"
      },
      "source": [
        "#**Tạo file CSV**"
      ]
    },
    {
      "cell_type": "code",
      "metadata": {
        "id": "8ZrzqZGSWh6R"
      },
      "source": [
        "def to_dateframe(_namefile, num):\n",
        "  type_file = ['head', 'link']\n",
        "  list_file = []\n",
        "  for name in _namefile:\n",
        "    temp = []\n",
        "    for tpe in type_file:\n",
        "      file = open(name + '_' + tpe + '.txt', 'r')\n",
        "      series = pd.Series(file.read().split('\\n'))\n",
        "      temp.append(series)\n",
        "    list_file.append(temp)\n",
        "\n",
        "  list_names = []\n",
        "  for df in list_file:\n",
        "    dct = {'headline': df[0], 'article_link': df[1]}\n",
        "    df_temp = pd.DataFrame(dct)\n",
        "    list_names.append(df_temp)\n",
        "\n",
        "  dct = pd.concat(list_names)\n",
        "  dct = dct.reset_index()\n",
        "  dct['is_sarcastic'] = num\n",
        "  del dct['index']\n",
        "  return dct"
      ],
      "execution_count": 5,
      "outputs": []
    },
    {
      "cell_type": "markdown",
      "metadata": {
        "id": "NwFtYaxFW25T"
      },
      "source": [
        "##**Sarcasm**"
      ]
    },
    {
      "cell_type": "code",
      "metadata": {
        "colab": {
          "base_uri": "https://localhost:8080/",
          "height": 419
        },
        "id": "nTFtySckUfMZ",
        "outputId": "33e139a8-9f76-4ebe-b187-6afd7b826b01"
      },
      "source": [
        "name_list = ['chaser', 'clickhole', 'newyorker', 'dailybonnet']\n",
        "df_sarcasm = to_dateframe(name_list, 1)\n",
        "df_sarcasm"
      ],
      "execution_count": 6,
      "outputs": [
        {
          "output_type": "execute_result",
          "data": {
            "text/html": [
              "<div>\n",
              "<style scoped>\n",
              "    .dataframe tbody tr th:only-of-type {\n",
              "        vertical-align: middle;\n",
              "    }\n",
              "\n",
              "    .dataframe tbody tr th {\n",
              "        vertical-align: top;\n",
              "    }\n",
              "\n",
              "    .dataframe thead th {\n",
              "        text-align: right;\n",
              "    }\n",
              "</style>\n",
              "<table border=\"1\" class=\"dataframe\">\n",
              "  <thead>\n",
              "    <tr style=\"text-align: right;\">\n",
              "      <th></th>\n",
              "      <th>headline</th>\n",
              "      <th>article_link</th>\n",
              "      <th>is_sarcastic</th>\n",
              "    </tr>\n",
              "  </thead>\n",
              "  <tbody>\n",
              "    <tr>\n",
              "      <th>0</th>\n",
              "      <td>Local MP only got into politics so they could ...</td>\n",
              "      <td>https://chaser.com.au/national/local-mp-only-g...</td>\n",
              "      <td>1</td>\n",
              "    </tr>\n",
              "    <tr>\n",
              "      <th>1</th>\n",
              "      <td>God distances himself from Scott Morrison afte...</td>\n",
              "      <td>https://chaser.com.au/national/god-distances-h...</td>\n",
              "      <td>1</td>\n",
              "    </tr>\n",
              "    <tr>\n",
              "      <th>2</th>\n",
              "      <td>Angus Taylor takes break from dodgy Federal d...</td>\n",
              "      <td>https://chaser.com.au/national/angus-taylor-ta...</td>\n",
              "      <td>1</td>\n",
              "    </tr>\n",
              "    <tr>\n",
              "      <th>3</th>\n",
              "      <td>“Legally you have to tell me if you’re a cop” ...</td>\n",
              "      <td>https://chaser.com.au/general-news/legally-you...</td>\n",
              "      <td>1</td>\n",
              "    </tr>\n",
              "    <tr>\n",
              "      <th>4</th>\n",
              "      <td>“There’s no money to help arts workers” says g...</td>\n",
              "      <td>https://chaser.com.au/national/theres-no-money...</td>\n",
              "      <td>1</td>\n",
              "    </tr>\n",
              "    <tr>\n",
              "      <th>...</th>\n",
              "      <td>...</td>\n",
              "      <td>...</td>\n",
              "      <td>...</td>\n",
              "    </tr>\n",
              "    <tr>\n",
              "      <th>28508</th>\n",
              "      <td>Vaccine “Lottery” Rebranded as Vaccine “Quilt ...</td>\n",
              "      <td>https://dailybonnet.com/vaccine-lottery-rebran...</td>\n",
              "      <td>1</td>\n",
              "    </tr>\n",
              "    <tr>\n",
              "      <th>28509</th>\n",
              "      <td>Manitoba’s Vaccine Passport Only Good for Trip...</td>\n",
              "      <td>https://dailybonnet.com/manitobas-vaccine-pass...</td>\n",
              "      <td>1</td>\n",
              "    </tr>\n",
              "    <tr>\n",
              "      <th>28510</th>\n",
              "      <td>Winkler Pastor Finally Approves Going for Shot...</td>\n",
              "      <td>https://dailybonnet.com/winkler-pastor-finally...</td>\n",
              "      <td>1</td>\n",
              "    </tr>\n",
              "    <tr>\n",
              "      <th>28511</th>\n",
              "      <td>Angry White Man Reports on All the Horrible At...</td>\n",
              "      <td>https://dailybonnet.com/angry-white-man-thinks...</td>\n",
              "      <td>1</td>\n",
              "    </tr>\n",
              "    <tr>\n",
              "      <th>28512</th>\n",
              "      <td>New Facebook Algorithm Only Shows Posts from Y...</td>\n",
              "      <td>https://dailybonnet.com/new-facebook-algorithm...</td>\n",
              "      <td>1</td>\n",
              "    </tr>\n",
              "  </tbody>\n",
              "</table>\n",
              "<p>28513 rows × 3 columns</p>\n",
              "</div>"
            ],
            "text/plain": [
              "                                                headline  ... is_sarcastic\n",
              "0      Local MP only got into politics so they could ...  ...            1\n",
              "1      God distances himself from Scott Morrison afte...  ...            1\n",
              "2       Angus Taylor takes break from dodgy Federal d...  ...            1\n",
              "3      “Legally you have to tell me if you’re a cop” ...  ...            1\n",
              "4      “There’s no money to help arts workers” says g...  ...            1\n",
              "...                                                  ...  ...          ...\n",
              "28508  Vaccine “Lottery” Rebranded as Vaccine “Quilt ...  ...            1\n",
              "28509  Manitoba’s Vaccine Passport Only Good for Trip...  ...            1\n",
              "28510  Winkler Pastor Finally Approves Going for Shot...  ...            1\n",
              "28511  Angry White Man Reports on All the Horrible At...  ...            1\n",
              "28512  New Facebook Algorithm Only Shows Posts from Y...  ...            1\n",
              "\n",
              "[28513 rows x 3 columns]"
            ]
          },
          "metadata": {
            "tags": []
          },
          "execution_count": 6
        }
      ]
    },
    {
      "cell_type": "markdown",
      "metadata": {
        "id": "AjDLBjbZXJAC"
      },
      "source": [
        "##**Non-Sarcasm**"
      ]
    },
    {
      "cell_type": "code",
      "metadata": {
        "colab": {
          "base_uri": "https://localhost:8080/",
          "height": 419
        },
        "id": "HWbjLmb7YsXv",
        "outputId": "b7000794-f270-4560-a761-5bb01d53cb82"
      },
      "source": [
        "name_news = ['thedailymash', 'time', 'euronews']\n",
        "df_realNews = to_dateframe(name_news, 0)\n",
        "df_realNews"
      ],
      "execution_count": 16,
      "outputs": [
        {
          "output_type": "execute_result",
          "data": {
            "text/html": [
              "<div>\n",
              "<style scoped>\n",
              "    .dataframe tbody tr th:only-of-type {\n",
              "        vertical-align: middle;\n",
              "    }\n",
              "\n",
              "    .dataframe tbody tr th {\n",
              "        vertical-align: top;\n",
              "    }\n",
              "\n",
              "    .dataframe thead th {\n",
              "        text-align: right;\n",
              "    }\n",
              "</style>\n",
              "<table border=\"1\" class=\"dataframe\">\n",
              "  <thead>\n",
              "    <tr style=\"text-align: right;\">\n",
              "      <th></th>\n",
              "      <th>headline</th>\n",
              "      <th>article_link</th>\n",
              "      <th>is_sarcastic</th>\n",
              "    </tr>\n",
              "  </thead>\n",
              "  <tbody>\n",
              "    <tr>\n",
              "      <th>0</th>\n",
              "      <td>School kid who didn't revise and prayed for a ...</td>\n",
              "      <td>https://www.thedailymash.co.uk//news/school-ki...</td>\n",
              "      <td>0</td>\n",
              "    </tr>\n",
              "    <tr>\n",
              "      <th>1</th>\n",
              "      <td>Pub fruit machine dreamt of being vending mach...</td>\n",
              "      <td>https://www.thedailymash.co.uk//news/pub-fruit...</td>\n",
              "      <td>0</td>\n",
              "    </tr>\n",
              "    <tr>\n",
              "      <th>2</th>\n",
              "      <td>Meghan to embrace British culture by carrying ...</td>\n",
              "      <td>https://www.thedailymash.co.uk//news/meghan-to...</td>\n",
              "      <td>0</td>\n",
              "    </tr>\n",
              "    <tr>\n",
              "      <th>3</th>\n",
              "      <td>Charlie Hebdo</td>\n",
              "      <td>https://www.thedailymash.co.uk//news/charlie-h...</td>\n",
              "      <td>0</td>\n",
              "    </tr>\n",
              "    <tr>\n",
              "      <th>4</th>\n",
              "      <td>Git of the Year</td>\n",
              "      <td>https://www.thedailymash.co.uk//news/git-of-th...</td>\n",
              "      <td>0</td>\n",
              "    </tr>\n",
              "    <tr>\n",
              "      <th>...</th>\n",
              "      <td>...</td>\n",
              "      <td>...</td>\n",
              "      <td>...</td>\n",
              "    </tr>\n",
              "    <tr>\n",
              "      <th>31495</th>\n",
              "      <td>Taking business into Welsh schools</td>\n",
              "      <td>https://www.euronews.com//next/2012/10/01/taki...</td>\n",
              "      <td>0</td>\n",
              "    </tr>\n",
              "    <tr>\n",
              "      <th>31496</th>\n",
              "      <td>Women entrepreneurs could be answer to crisis</td>\n",
              "      <td>https://www.euronews.com//next/2012/09/21/wome...</td>\n",
              "      <td>0</td>\n",
              "    </tr>\n",
              "    <tr>\n",
              "      <th>31497</th>\n",
              "      <td>Branson's grim train warning</td>\n",
              "      <td>https://www.euronews.com//2012/08/15/branson-s...</td>\n",
              "      <td>0</td>\n",
              "    </tr>\n",
              "    <tr>\n",
              "      <th>31498</th>\n",
              "      <td>Business parties in Swedish countryside</td>\n",
              "      <td>https://www.euronews.com//next/2012/07/24/busi...</td>\n",
              "      <td>0</td>\n",
              "    </tr>\n",
              "    <tr>\n",
              "      <th>31499</th>\n",
              "      <td>Meeting targets</td>\n",
              "      <td>https://www.euronews.com//next/2012/07/11/meet...</td>\n",
              "      <td>0</td>\n",
              "    </tr>\n",
              "  </tbody>\n",
              "</table>\n",
              "<p>31500 rows × 3 columns</p>\n",
              "</div>"
            ],
            "text/plain": [
              "                                                headline  ... is_sarcastic\n",
              "0      School kid who didn't revise and prayed for a ...  ...            0\n",
              "1      Pub fruit machine dreamt of being vending mach...  ...            0\n",
              "2      Meghan to embrace British culture by carrying ...  ...            0\n",
              "3                                          Charlie Hebdo  ...            0\n",
              "4                                        Git of the Year  ...            0\n",
              "...                                                  ...  ...          ...\n",
              "31495                 Taking business into Welsh schools  ...            0\n",
              "31496      Women entrepreneurs could be answer to crisis  ...            0\n",
              "31497                       Branson's grim train warning  ...            0\n",
              "31498            Business parties in Swedish countryside  ...            0\n",
              "31499                                    Meeting targets  ...            0\n",
              "\n",
              "[31500 rows x 3 columns]"
            ]
          },
          "metadata": {
            "tags": []
          },
          "execution_count": 16
        }
      ]
    },
    {
      "cell_type": "code",
      "metadata": {
        "colab": {
          "base_uri": "https://localhost:8080/",
          "height": 419
        },
        "id": "OygeEvSgZFG0",
        "outputId": "3facbe88-6ded-4257-99a1-6b442daf5b20"
      },
      "source": [
        "full_data = pd.concat([df_sarcasm, df_realNews]).reset_index()\n",
        "del full_data['index']\n",
        "full_data"
      ],
      "execution_count": 17,
      "outputs": [
        {
          "output_type": "execute_result",
          "data": {
            "text/html": [
              "<div>\n",
              "<style scoped>\n",
              "    .dataframe tbody tr th:only-of-type {\n",
              "        vertical-align: middle;\n",
              "    }\n",
              "\n",
              "    .dataframe tbody tr th {\n",
              "        vertical-align: top;\n",
              "    }\n",
              "\n",
              "    .dataframe thead th {\n",
              "        text-align: right;\n",
              "    }\n",
              "</style>\n",
              "<table border=\"1\" class=\"dataframe\">\n",
              "  <thead>\n",
              "    <tr style=\"text-align: right;\">\n",
              "      <th></th>\n",
              "      <th>headline</th>\n",
              "      <th>article_link</th>\n",
              "      <th>is_sarcastic</th>\n",
              "    </tr>\n",
              "  </thead>\n",
              "  <tbody>\n",
              "    <tr>\n",
              "      <th>0</th>\n",
              "      <td>Local MP only got into politics so they could ...</td>\n",
              "      <td>https://chaser.com.au/national/local-mp-only-g...</td>\n",
              "      <td>1</td>\n",
              "    </tr>\n",
              "    <tr>\n",
              "      <th>1</th>\n",
              "      <td>God distances himself from Scott Morrison afte...</td>\n",
              "      <td>https://chaser.com.au/national/god-distances-h...</td>\n",
              "      <td>1</td>\n",
              "    </tr>\n",
              "    <tr>\n",
              "      <th>2</th>\n",
              "      <td>Angus Taylor takes break from dodgy Federal d...</td>\n",
              "      <td>https://chaser.com.au/national/angus-taylor-ta...</td>\n",
              "      <td>1</td>\n",
              "    </tr>\n",
              "    <tr>\n",
              "      <th>3</th>\n",
              "      <td>“Legally you have to tell me if you’re a cop” ...</td>\n",
              "      <td>https://chaser.com.au/general-news/legally-you...</td>\n",
              "      <td>1</td>\n",
              "    </tr>\n",
              "    <tr>\n",
              "      <th>4</th>\n",
              "      <td>“There’s no money to help arts workers” says g...</td>\n",
              "      <td>https://chaser.com.au/national/theres-no-money...</td>\n",
              "      <td>1</td>\n",
              "    </tr>\n",
              "    <tr>\n",
              "      <th>...</th>\n",
              "      <td>...</td>\n",
              "      <td>...</td>\n",
              "      <td>...</td>\n",
              "    </tr>\n",
              "    <tr>\n",
              "      <th>60008</th>\n",
              "      <td>Taking business into Welsh schools</td>\n",
              "      <td>https://www.euronews.com//next/2012/10/01/taki...</td>\n",
              "      <td>0</td>\n",
              "    </tr>\n",
              "    <tr>\n",
              "      <th>60009</th>\n",
              "      <td>Women entrepreneurs could be answer to crisis</td>\n",
              "      <td>https://www.euronews.com//next/2012/09/21/wome...</td>\n",
              "      <td>0</td>\n",
              "    </tr>\n",
              "    <tr>\n",
              "      <th>60010</th>\n",
              "      <td>Branson's grim train warning</td>\n",
              "      <td>https://www.euronews.com//2012/08/15/branson-s...</td>\n",
              "      <td>0</td>\n",
              "    </tr>\n",
              "    <tr>\n",
              "      <th>60011</th>\n",
              "      <td>Business parties in Swedish countryside</td>\n",
              "      <td>https://www.euronews.com//next/2012/07/24/busi...</td>\n",
              "      <td>0</td>\n",
              "    </tr>\n",
              "    <tr>\n",
              "      <th>60012</th>\n",
              "      <td>Meeting targets</td>\n",
              "      <td>https://www.euronews.com//next/2012/07/11/meet...</td>\n",
              "      <td>0</td>\n",
              "    </tr>\n",
              "  </tbody>\n",
              "</table>\n",
              "<p>60013 rows × 3 columns</p>\n",
              "</div>"
            ],
            "text/plain": [
              "                                                headline  ... is_sarcastic\n",
              "0      Local MP only got into politics so they could ...  ...            1\n",
              "1      God distances himself from Scott Morrison afte...  ...            1\n",
              "2       Angus Taylor takes break from dodgy Federal d...  ...            1\n",
              "3      “Legally you have to tell me if you’re a cop” ...  ...            1\n",
              "4      “There’s no money to help arts workers” says g...  ...            1\n",
              "...                                                  ...  ...          ...\n",
              "60008                 Taking business into Welsh schools  ...            0\n",
              "60009      Women entrepreneurs could be answer to crisis  ...            0\n",
              "60010                       Branson's grim train warning  ...            0\n",
              "60011            Business parties in Swedish countryside  ...            0\n",
              "60012                                    Meeting targets  ...            0\n",
              "\n",
              "[60013 rows x 3 columns]"
            ]
          },
          "metadata": {
            "tags": []
          },
          "execution_count": 17
        }
      ]
    },
    {
      "cell_type": "markdown",
      "metadata": {
        "id": "_Nq3R1lAfD32"
      },
      "source": [
        "##**Save File**"
      ]
    },
    {
      "cell_type": "code",
      "metadata": {
        "id": "g4LoSmyYVM3B"
      },
      "source": [
        "full_data.to_csv('sarcasm_dataset.csv')\n",
        "full_data.to_json('sarcasm_dataset.json')"
      ],
      "execution_count": 18,
      "outputs": []
    }
  ]
}