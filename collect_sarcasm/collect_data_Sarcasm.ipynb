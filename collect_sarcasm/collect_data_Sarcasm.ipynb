{
  "nbformat": 4,
  "nbformat_minor": 0,
  "metadata": {
    "colab": {
      "name": "collect data Sarcasm.ipynb",
      "provenance": [],
      "collapsed_sections": [],
      "authorship_tag": "ABX9TyPvm+UbkeUdKvCWDMtvc/Wi",
      "include_colab_link": true
    },
    "kernelspec": {
      "name": "python3",
      "display_name": "Python 3"
    },
    "language_info": {
      "name": "python"
    }
  },
  "cells": [
    {
      "cell_type": "markdown",
      "metadata": {
        "id": "view-in-github",
        "colab_type": "text"
      },
      "source": [
        "<a href=\"https://colab.research.google.com/github/phutaekwondo/CS114.L21/blob/main/collect_sarcasm/collect_data_Sarcasm.ipynb\" target=\"_parent\"><img src=\"https://colab.research.google.com/assets/colab-badge.svg\" alt=\"Open In Colab\"/></a>"
      ]
    },
    {
      "cell_type": "markdown",
      "metadata": {
        "id": "zDpEEiFdJ3FR"
      },
      "source": [
        "# **Bài tập: Thu thập dataset cho bài toán Sarcasm detection in news headline**"
      ]
    },
    {
      "cell_type": "markdown",
      "metadata": {
        "id": "_2PAyR9QJ_mA"
      },
      "source": [
        "#**Nhóm thực hiện**\n",
        "- 19522020 - Lãi Nguyễn Vĩnh Phú\n",
        "- 19521299 - Nguyễn Chí Cường\n",
        "- 19522447 - Trương Thế Trương"
      ]
    },
    {
      "cell_type": "markdown",
      "metadata": {
        "id": "blnIzfCoKOln"
      },
      "source": [
        "#**Các trang web thu thập:**\n",
        "Trang châm biếm:\n",
        "- https://www.newyorker.com/\n",
        "- https://dailybonnet.com/\n",
        "- https://clickhole.com/\n",
        "- https://chaser.com.au/\n",
        "\n",
        "Trang chính thống:\n",
        "\n",
        "- https://www.thetimes.co.uk/\n",
        "- https://www.euronews.com/\n",
        "- https://time.com"
      ]
    },
    {
      "cell_type": "code",
      "metadata": {
        "id": "Pv_k2vuxJdR-"
      },
      "source": [
        "import requests\n",
        "from bs4 import BeautifulSoup\n",
        "import pandas as pd"
      ],
      "execution_count": null,
      "outputs": []
    },
    {
      "cell_type": "markdown",
      "metadata": {
        "id": "rvZJb0xgKQM2"
      },
      "source": [
        "#**Tin châm biếm**"
      ]
    },
    {
      "cell_type": "markdown",
      "metadata": {
        "id": "l0kkJTo2Mp1e"
      },
      "source": [
        "## **Trang New Yorker**"
      ]
    },
    {
      "cell_type": "code",
      "metadata": {
        "id": "R1NDokfsliUs"
      },
      "source": [
        "file_link = open(\"newyorker_link.txt\",\"a\")\n",
        "file_head = open(\"newyorker_head.txt\",\"a\")\n",
        "for page in range(400):\n",
        "  link = \"https://www.newyorker.com\"\n",
        "  url = \"https://www.newyorker.com/latest/news/page/{}\".format(page)\n",
        "  try:\n",
        "    response  = requests.get(url)\n",
        "\n",
        "    html = response.content\n",
        "    soup = BeautifulSoup(html, \"html.parser\")\n",
        "\n",
        "    names = soup.body.find_all('li', class_=\"River__riverItem___3huWr\")\n",
        "    for element in names:\n",
        "      link_new = element.a.attrs.get(\"href\")\n",
        "      if link_new is not None:\n",
        "        file_link.write(link + str(link_new) + '\\n')\n",
        "        file_head.write(element.h4.get_text() + '\\n')\n",
        "  except:\n",
        "      continue\n",
        "file_link.close()\n",
        "file_head.close()"
      ],
      "execution_count": null,
      "outputs": []
    },
    {
      "cell_type": "markdown",
      "metadata": {
        "id": "mOuqHi4BEMPj"
      },
      "source": [
        "##**Trang Daily Bonnet**"
      ]
    },
    {
      "cell_type": "code",
      "metadata": {
        "id": "CimLWf_ZKF_B"
      },
      "source": [
        "url = 'https://dailybonnet.com/'\n",
        "list_new = [['quiz/page/{}',12], ['mennonitelife/page/{}',169], ['food-and-drink/page/{}',78], ['church/page/{}',61], ['outsiders/page/{}',122]]\n",
        "file_link = open(\"dailybonnet_link.txt\",\"a\")\n",
        "file_head = open(\"dailybonnet_head.txt\",\"a\")\n",
        "for text in list_new:\n",
        "  link = url + 'category/' + text[0]\n",
        "  for page in range(text[1]):\n",
        "    try:\n",
        "      new_url = link.format(page)\n",
        "      names = soup.body.find_all('article')\n",
        "      for index in names:\n",
        "        file_link.write(str(index.h3.a.attrs.get('href')) + '\\n')\n",
        "        file_head.write(index.h3.text.strip() + '\\n')\n",
        "    except:\n",
        "        continue\n",
        "file_head.close()\n",
        "file_link.close()    "
      ],
      "execution_count": null,
      "outputs": []
    },
    {
      "cell_type": "markdown",
      "metadata": {
        "id": "pho5bZCpOakg"
      },
      "source": [
        "##**Trang Click Hole**"
      ]
    },
    {
      "cell_type": "code",
      "metadata": {
        "id": "IIvWyZRDOhd_"
      },
      "source": [
        "file_link = open(\"clickhole_link.txt\",\"a\")\n",
        "file_head = open(\"clickhole_head.txt\",\"a\")\n",
        "for page in range(1176):\n",
        "  url = \"https://clickhole.com/page/{}\".format(page)\n",
        "  try:\n",
        "    response  = requests.get(url)\n",
        "\n",
        "    html = response.content\n",
        "    soup = BeautifulSoup(html, \"html.parser\")\n",
        "\n",
        "    names = soup.body.find_all('li', class_=\"post-item has-image\")\n",
        "    for index in names:\n",
        "      file_link.write(str(index.a.attrs.get('href')) + '\\n')\n",
        "      file_head.write(index.a.text + '\\n')\n",
        "  except:\n",
        "      continue\n",
        "file_link.close()\n",
        "file_head.close()"
      ],
      "execution_count": null,
      "outputs": []
    },
    {
      "cell_type": "markdown",
      "metadata": {
        "id": "liM5f9ireinL"
      },
      "source": [
        "##**Trang The Chaser**"
      ]
    },
    {
      "cell_type": "code",
      "metadata": {
        "id": "cKB21W8Ceo1a"
      },
      "source": [
        "file_link = open(\"chaser_link.txt\",\"a\")\n",
        "file_head = open(\"chaser_head.txt\",\"a\")\n",
        "\n",
        "for page in range(209):\n",
        "  url = 'https://chaser.com.au/news/page/{}'.format(page)\n",
        "  try:\n",
        "    response  = requests.get(url)\n",
        "\n",
        "    html = response.content\n",
        "    soup = BeautifulSoup(html, \"html.parser\")\n",
        "\n",
        "    names = soup.body.find_all('a', class_=\"archive_story\")\n",
        "    for index in names:\n",
        "      file_link.write(str(index.attrs.get('href') + '\\n'))\n",
        "      file_head.write(index.text.strip().split('\\n\\n')[1].strip() + '\\n')\n",
        "  except:\n",
        "    continue\n",
        "file_link.close()\n",
        "file_head.close()"
      ],
      "execution_count": null,
      "outputs": []
    },
    {
      "cell_type": "markdown",
      "metadata": {
        "id": "N2ulcGuWKWoD"
      },
      "source": [
        "#**Tin chính thống**"
      ]
    },
    {
      "cell_type": "markdown",
      "metadata": {
        "id": "AWOKlqjT6YvE"
      },
      "source": [
        "##**Trang The Time**"
      ]
    },
    {
      "cell_type": "code",
      "metadata": {
        "id": "XLPgBTueKNbv"
      },
      "source": [
        "file_link = open(\"thetimes_link.txt\",\"a\")\n",
        "file_head = open(\"thetimes_head.txt\",\"a\")\n",
        "zp = [['uk-politics', 200], ['economics', 200], ['health', 100], ['television', 100]]\n",
        "url = 'https://www.thetimes.co.uk/topic/'\n",
        "for tag in zp:\n",
        "  for page in range(tag[1]):\n",
        "    link = (url + tag[0] + '?page={}').format(page)\n",
        "    try:\n",
        "      response = requests.get(link)\n",
        "      html = response.content\n",
        "      soup = BeautifulSoup(html, \"html.parser\")\n",
        "      names = soup.body.find_all('div', class_=\"responsiveweb__ListContentContainer-sc-143eup1-0 isZXs responsiveweb__ListContentContainer-sc-143eup1-0 isZXs css-1dbjc4n\")[1:]\n",
        "      for index in names:\n",
        "        file_link.write(str(index.a.attrs.get('href')) + '\\n')\n",
        "        file_head.write(index.h3.text + '\\n')\n",
        "    except:\n",
        "      continue\n",
        "\n",
        "file_link.close()\n",
        "file_head.close()"
      ],
      "execution_count": null,
      "outputs": []
    },
    {
      "cell_type": "markdown",
      "metadata": {
        "id": "cbci_vJapZN6"
      },
      "source": [
        "## **Trang Euro News**"
      ]
    },
    {
      "cell_type": "code",
      "metadata": {
        "id": "42ouCAH4oTCF"
      },
      "source": [
        "zp = [['g7',4], ['climate-change',23],['covid-19',103],['china',58],\n",
        "      ['video',8],['bitcoin',3],['travel-guide',3], ['joe-biden',12],\n",
        "      ['ursula-von-der-leyen',6], ['asia',14], ['sport',60],\n",
        "      ['culture',39], ['business',37]]\n",
        "url = 'https://www.euronews.com/'\n",
        "file_link = open(\"euronews_link.txt\",\"a\")\n",
        "file_head = open(\"euronews_head.txt\",\"a\")\n",
        "for tag in zp:\n",
        "  for page in range(tag[1]):\n",
        "    link = (url + 'tag/' + tag[0] + '?p={}').format(page)\n",
        "    try:\n",
        "      response = requests.get(link)\n",
        "      html = response.content\n",
        "      soup = BeautifulSoup(html, \"html.parser\")\n",
        "      names = soup.body.find_all('article')[:30]\n",
        "      for index in names:\n",
        "        try:\n",
        "          title = index.h3.text.strip()\n",
        "        except:\n",
        "          title = index.h2.text.strip()\n",
        "        file_link.write(url + str(index.a.attrs.get('href')) + '\\n')\n",
        "        file_head.write(title + '\\n')\n",
        "    except:\n",
        "      continue\n",
        "file_link.close()\n",
        "file_head.close()"
      ],
      "execution_count": null,
      "outputs": []
    },
    {
      "cell_type": "markdown",
      "metadata": {
        "id": "N7cVqk3eN9nt"
      },
      "source": [
        "##**Trang Time**"
      ]
    },
    {
      "cell_type": "code",
      "metadata": {
        "id": "92KdDS5fQ4OE"
      },
      "source": [
        "file_link = open('time_link.txt', 'a')\n",
        "file_head = open('time_head.txt', 'a')\n",
        "url = 'https://time.com'\n",
        "tag = ['world', 'politics', 'health', 'business', 'tech', 'entertainment', 'ideas', 'science', 'history', 'newsfeed', 'sports']\n",
        "for word in tag:\n",
        "  for page in range(250):\n",
        "    link = (url + '/section/' + word + '/?page={}').format(page)\n",
        "    try:\n",
        "      response = requests.get(link)\n",
        "      html = response.content\n",
        "      soup = BeautifulSoup(html, \"html.parser\")\n",
        "      names = soup.body.find_all('article')\n",
        "      for index in names:\n",
        "        file_link.write(url + str(index.a.attrs.get('href')) + '\\n')\n",
        "        file_head.write(index.h3.text.strip() + '\\n')\n",
        "    except:\n",
        "      continue\n",
        "\n",
        "file_head.close()\n",
        "file_link.close()"
      ],
      "execution_count": null,
      "outputs": []
    },
    {
      "cell_type": "markdown",
      "metadata": {
        "id": "xgxFGmr7WiYA"
      },
      "source": [
        "#**Tạo file CSV**"
      ]
    },
    {
      "cell_type": "code",
      "metadata": {
        "id": "8ZrzqZGSWh6R"
      },
      "source": [
        "def to_dateframe(_namefile, num):\n",
        "  type_file = ['head', 'link']\n",
        "  list_file = []\n",
        "  for name in _namefile:\n",
        "    temp = []\n",
        "    for tpe in type_file:\n",
        "      file = open(name + '_' + tpe + '.txt', 'r')\n",
        "      series = pd.Series(file.read().split('\\n'))\n",
        "      temp.append(series)\n",
        "    list_file.append(temp)\n",
        "\n",
        "  list_names = []\n",
        "  for df in list_file:\n",
        "    dct = {'headline': df[0], 'article_link': df[1]}\n",
        "    df_temp = pd.DataFrame(dct)\n",
        "    list_names.append(df_temp)\n",
        "\n",
        "  dct = pd.concat(list_names)\n",
        "  dct = dct.reset_index()\n",
        "  dct['is_sarcastic'] = num\n",
        "  del dct['index']\n",
        "  return dct"
      ],
      "execution_count": null,
      "outputs": []
    },
    {
      "cell_type": "markdown",
      "metadata": {
        "id": "NwFtYaxFW25T"
      },
      "source": [
        "##**Sarcasm**"
      ]
    },
    {
      "cell_type": "code",
      "metadata": {
        "colab": {
          "base_uri": "https://localhost:8080/",
          "height": 419
        },
        "id": "nTFtySckUfMZ",
        "outputId": "f2c2ffd7-5b69-4818-e11c-1d4cea0d467e"
      },
      "source": [
        "name_list = ['chaser', 'clickhole', 'newyorker', 'dailybonnet']\n",
        "df_sarcasm = to_dateframe(name_list, 1)\n",
        "df_sarcasm"
      ],
      "execution_count": null,
      "outputs": [
        {
          "output_type": "execute_result",
          "data": {
            "text/html": [
              "<div>\n",
              "<style scoped>\n",
              "    .dataframe tbody tr th:only-of-type {\n",
              "        vertical-align: middle;\n",
              "    }\n",
              "\n",
              "    .dataframe tbody tr th {\n",
              "        vertical-align: top;\n",
              "    }\n",
              "\n",
              "    .dataframe thead th {\n",
              "        text-align: right;\n",
              "    }\n",
              "</style>\n",
              "<table border=\"1\" class=\"dataframe\">\n",
              "  <thead>\n",
              "    <tr style=\"text-align: right;\">\n",
              "      <th></th>\n",
              "      <th>headline</th>\n",
              "      <th>article_link</th>\n",
              "      <th>is_sarcastic</th>\n",
              "    </tr>\n",
              "  </thead>\n",
              "  <tbody>\n",
              "    <tr>\n",
              "      <th>0</th>\n",
              "      <td>Labor pledges to double their heart-felt state...</td>\n",
              "      <td>https://chaser.com.au/general-news/labor-pledg...</td>\n",
              "      <td>1</td>\n",
              "    </tr>\n",
              "    <tr>\n",
              "      <th>1</th>\n",
              "      <td>Morrison asks Queen if she’s a lizard</td>\n",
              "      <td>https://chaser.com.au/national/morrison-asks-q...</td>\n",
              "      <td>1</td>\n",
              "    </tr>\n",
              "    <tr>\n",
              "      <th>2</th>\n",
              "      <td>Order of Australia recipient Peta Credlin hono...</td>\n",
              "      <td>https://chaser.com.au/general-news/order-of-au...</td>\n",
              "      <td>1</td>\n",
              "    </tr>\n",
              "    <tr>\n",
              "      <th>3</th>\n",
              "      <td>PM fucking off to Hawaii during fires somehow ...</td>\n",
              "      <td>https://chaser.com.au/national/pm-fucking-off-...</td>\n",
              "      <td>1</td>\n",
              "    </tr>\n",
              "    <tr>\n",
              "      <th>4</th>\n",
              "      <td>Local MP only got into politics so they could ...</td>\n",
              "      <td>https://chaser.com.au/national/local-mp-only-g...</td>\n",
              "      <td>1</td>\n",
              "    </tr>\n",
              "    <tr>\n",
              "      <th>...</th>\n",
              "      <td>...</td>\n",
              "      <td>...</td>\n",
              "      <td>...</td>\n",
              "    </tr>\n",
              "    <tr>\n",
              "      <th>18584</th>\n",
              "      <td>Vaccine “Lottery” Rebranded as Vaccine “Quilt ...</td>\n",
              "      <td>https://dailybonnet.com/vaccine-lottery-rebran...</td>\n",
              "      <td>1</td>\n",
              "    </tr>\n",
              "    <tr>\n",
              "      <th>18585</th>\n",
              "      <td>Manitoba’s Vaccine Passport Only Good for Trip...</td>\n",
              "      <td>https://dailybonnet.com/manitobas-vaccine-pass...</td>\n",
              "      <td>1</td>\n",
              "    </tr>\n",
              "    <tr>\n",
              "      <th>18586</th>\n",
              "      <td>Winkler Pastor Finally Approves Going for Shot...</td>\n",
              "      <td>https://dailybonnet.com/winkler-pastor-finally...</td>\n",
              "      <td>1</td>\n",
              "    </tr>\n",
              "    <tr>\n",
              "      <th>18587</th>\n",
              "      <td>Angry White Man Reports on All the Horrible At...</td>\n",
              "      <td>https://dailybonnet.com/angry-white-man-thinks...</td>\n",
              "      <td>1</td>\n",
              "    </tr>\n",
              "    <tr>\n",
              "      <th>18588</th>\n",
              "      <td>New Facebook Algorithm Only Shows Posts from Y...</td>\n",
              "      <td>https://dailybonnet.com/new-facebook-algorithm...</td>\n",
              "      <td>1</td>\n",
              "    </tr>\n",
              "  </tbody>\n",
              "</table>\n",
              "<p>18589 rows × 3 columns</p>\n",
              "</div>"
            ],
            "text/plain": [
              "                                                headline  ... is_sarcastic\n",
              "0      Labor pledges to double their heart-felt state...  ...            1\n",
              "1                  Morrison asks Queen if she’s a lizard  ...            1\n",
              "2      Order of Australia recipient Peta Credlin hono...  ...            1\n",
              "3      PM fucking off to Hawaii during fires somehow ...  ...            1\n",
              "4      Local MP only got into politics so they could ...  ...            1\n",
              "...                                                  ...  ...          ...\n",
              "18584  Vaccine “Lottery” Rebranded as Vaccine “Quilt ...  ...            1\n",
              "18585  Manitoba’s Vaccine Passport Only Good for Trip...  ...            1\n",
              "18586  Winkler Pastor Finally Approves Going for Shot...  ...            1\n",
              "18587  Angry White Man Reports on All the Horrible At...  ...            1\n",
              "18588  New Facebook Algorithm Only Shows Posts from Y...  ...            1\n",
              "\n",
              "[18589 rows x 3 columns]"
            ]
          },
          "metadata": {
            "tags": []
          },
          "execution_count": 40
        }
      ]
    },
    {
      "cell_type": "markdown",
      "metadata": {
        "id": "AjDLBjbZXJAC"
      },
      "source": [
        "##**Non-Sarcasm**"
      ]
    },
    {
      "cell_type": "code",
      "metadata": {
        "colab": {
          "base_uri": "https://localhost:8080/",
          "height": 419
        },
        "id": "HWbjLmb7YsXv",
        "outputId": "71f89a12-1b4a-4207-b3b3-66243c41f455"
      },
      "source": [
        "name_news = ['thetimes', 'time', 'euronews']\n",
        "df_realNews = to_dateframe(name_news, 0)\n",
        "df_realNews"
      ],
      "execution_count": null,
      "outputs": [
        {
          "output_type": "execute_result",
          "data": {
            "text/html": [
              "<div>\n",
              "<style scoped>\n",
              "    .dataframe tbody tr th:only-of-type {\n",
              "        vertical-align: middle;\n",
              "    }\n",
              "\n",
              "    .dataframe tbody tr th {\n",
              "        vertical-align: top;\n",
              "    }\n",
              "\n",
              "    .dataframe thead th {\n",
              "        text-align: right;\n",
              "    }\n",
              "</style>\n",
              "<table border=\"1\" class=\"dataframe\">\n",
              "  <thead>\n",
              "    <tr style=\"text-align: right;\">\n",
              "      <th></th>\n",
              "      <th>headline</th>\n",
              "      <th>article_link</th>\n",
              "      <th>is_sarcastic</th>\n",
              "    </tr>\n",
              "  </thead>\n",
              "  <tbody>\n",
              "    <tr>\n",
              "      <th>0</th>\n",
              "      <td>Lib Dems take Tory seat in by-election upset</td>\n",
              "      <td>https://www.thetimes.co.uk/article/chesham-and...</td>\n",
              "      <td>0</td>\n",
              "    </tr>\n",
              "    <tr>\n",
              "      <th>1</th>\n",
              "      <td>Flurry of fizz and a vintage performance</td>\n",
              "      <td>https://www.thetimes.co.uk/article/quentin-let...</td>\n",
              "      <td>0</td>\n",
              "    </tr>\n",
              "    <tr>\n",
              "      <th>2</th>\n",
              "      <td>Johnson wants to jolt commuters back to work</td>\n",
              "      <td>https://www.thetimes.co.uk/article/boris-johns...</td>\n",
              "      <td>0</td>\n",
              "    </tr>\n",
              "    <tr>\n",
              "      <th>3</th>\n",
              "      <td>Time for a local vision of levelling up</td>\n",
              "      <td>https://www.thetimes.co.uk/article/time-for-a-...</td>\n",
              "      <td>0</td>\n",
              "    </tr>\n",
              "    <tr>\n",
              "      <th>4</th>\n",
              "      <td>Proliferation of sexual violence in conflict m...</td>\n",
              "      <td>https://www.thetimes.co.uk/article/proliferati...</td>\n",
              "      <td>0</td>\n",
              "    </tr>\n",
              "    <tr>\n",
              "      <th>...</th>\n",
              "      <td>...</td>\n",
              "      <td>...</td>\n",
              "      <td>...</td>\n",
              "    </tr>\n",
              "    <tr>\n",
              "      <th>36295</th>\n",
              "      <td>Taking business into Welsh schools</td>\n",
              "      <td>https://www.euronews.com//next/2012/10/01/taki...</td>\n",
              "      <td>0</td>\n",
              "    </tr>\n",
              "    <tr>\n",
              "      <th>36296</th>\n",
              "      <td>Women entrepreneurs could be answer to crisis</td>\n",
              "      <td>https://www.euronews.com//next/2012/09/21/wome...</td>\n",
              "      <td>0</td>\n",
              "    </tr>\n",
              "    <tr>\n",
              "      <th>36297</th>\n",
              "      <td>Branson's grim train warning</td>\n",
              "      <td>https://www.euronews.com//2012/08/15/branson-s...</td>\n",
              "      <td>0</td>\n",
              "    </tr>\n",
              "    <tr>\n",
              "      <th>36298</th>\n",
              "      <td>Business parties in Swedish countryside</td>\n",
              "      <td>https://www.euronews.com//next/2012/07/24/busi...</td>\n",
              "      <td>0</td>\n",
              "    </tr>\n",
              "    <tr>\n",
              "      <th>36299</th>\n",
              "      <td>Meeting targets</td>\n",
              "      <td>https://www.euronews.com//next/2012/07/11/meet...</td>\n",
              "      <td>0</td>\n",
              "    </tr>\n",
              "  </tbody>\n",
              "</table>\n",
              "<p>36300 rows × 3 columns</p>\n",
              "</div>"
            ],
            "text/plain": [
              "                                                headline  ... is_sarcastic\n",
              "0           Lib Dems take Tory seat in by-election upset  ...            0\n",
              "1               Flurry of fizz and a vintage performance  ...            0\n",
              "2           Johnson wants to jolt commuters back to work  ...            0\n",
              "3                Time for a local vision of levelling up  ...            0\n",
              "4      Proliferation of sexual violence in conflict m...  ...            0\n",
              "...                                                  ...  ...          ...\n",
              "36295                 Taking business into Welsh schools  ...            0\n",
              "36296      Women entrepreneurs could be answer to crisis  ...            0\n",
              "36297                       Branson's grim train warning  ...            0\n",
              "36298            Business parties in Swedish countryside  ...            0\n",
              "36299                                    Meeting targets  ...            0\n",
              "\n",
              "[36300 rows x 3 columns]"
            ]
          },
          "metadata": {
            "tags": []
          },
          "execution_count": 45
        }
      ]
    },
    {
      "cell_type": "code",
      "metadata": {
        "colab": {
          "base_uri": "https://localhost:8080/",
          "height": 419
        },
        "id": "OygeEvSgZFG0",
        "outputId": "ac9c9c9b-cfe3-471d-a378-6c7afbb1e970"
      },
      "source": [
        "full_data = pd.concat([df_sarcasm, df_realNews]).reset_index()\n",
        "del full_data['index']\n",
        "full_data"
      ],
      "execution_count": null,
      "outputs": [
        {
          "output_type": "execute_result",
          "data": {
            "text/html": [
              "<div>\n",
              "<style scoped>\n",
              "    .dataframe tbody tr th:only-of-type {\n",
              "        vertical-align: middle;\n",
              "    }\n",
              "\n",
              "    .dataframe tbody tr th {\n",
              "        vertical-align: top;\n",
              "    }\n",
              "\n",
              "    .dataframe thead th {\n",
              "        text-align: right;\n",
              "    }\n",
              "</style>\n",
              "<table border=\"1\" class=\"dataframe\">\n",
              "  <thead>\n",
              "    <tr style=\"text-align: right;\">\n",
              "      <th></th>\n",
              "      <th>headline</th>\n",
              "      <th>article_link</th>\n",
              "      <th>is_sarcastic</th>\n",
              "    </tr>\n",
              "  </thead>\n",
              "  <tbody>\n",
              "    <tr>\n",
              "      <th>0</th>\n",
              "      <td>Labor pledges to double their heart-felt state...</td>\n",
              "      <td>https://chaser.com.au/general-news/labor-pledg...</td>\n",
              "      <td>1</td>\n",
              "    </tr>\n",
              "    <tr>\n",
              "      <th>1</th>\n",
              "      <td>Morrison asks Queen if she’s a lizard</td>\n",
              "      <td>https://chaser.com.au/national/morrison-asks-q...</td>\n",
              "      <td>1</td>\n",
              "    </tr>\n",
              "    <tr>\n",
              "      <th>2</th>\n",
              "      <td>Order of Australia recipient Peta Credlin hono...</td>\n",
              "      <td>https://chaser.com.au/general-news/order-of-au...</td>\n",
              "      <td>1</td>\n",
              "    </tr>\n",
              "    <tr>\n",
              "      <th>3</th>\n",
              "      <td>PM fucking off to Hawaii during fires somehow ...</td>\n",
              "      <td>https://chaser.com.au/national/pm-fucking-off-...</td>\n",
              "      <td>1</td>\n",
              "    </tr>\n",
              "    <tr>\n",
              "      <th>4</th>\n",
              "      <td>Local MP only got into politics so they could ...</td>\n",
              "      <td>https://chaser.com.au/national/local-mp-only-g...</td>\n",
              "      <td>1</td>\n",
              "    </tr>\n",
              "    <tr>\n",
              "      <th>...</th>\n",
              "      <td>...</td>\n",
              "      <td>...</td>\n",
              "      <td>...</td>\n",
              "    </tr>\n",
              "    <tr>\n",
              "      <th>54884</th>\n",
              "      <td>Taking business into Welsh schools</td>\n",
              "      <td>https://www.euronews.com//next/2012/10/01/taki...</td>\n",
              "      <td>0</td>\n",
              "    </tr>\n",
              "    <tr>\n",
              "      <th>54885</th>\n",
              "      <td>Women entrepreneurs could be answer to crisis</td>\n",
              "      <td>https://www.euronews.com//next/2012/09/21/wome...</td>\n",
              "      <td>0</td>\n",
              "    </tr>\n",
              "    <tr>\n",
              "      <th>54886</th>\n",
              "      <td>Branson's grim train warning</td>\n",
              "      <td>https://www.euronews.com//2012/08/15/branson-s...</td>\n",
              "      <td>0</td>\n",
              "    </tr>\n",
              "    <tr>\n",
              "      <th>54887</th>\n",
              "      <td>Business parties in Swedish countryside</td>\n",
              "      <td>https://www.euronews.com//next/2012/07/24/busi...</td>\n",
              "      <td>0</td>\n",
              "    </tr>\n",
              "    <tr>\n",
              "      <th>54888</th>\n",
              "      <td>Meeting targets</td>\n",
              "      <td>https://www.euronews.com//next/2012/07/11/meet...</td>\n",
              "      <td>0</td>\n",
              "    </tr>\n",
              "  </tbody>\n",
              "</table>\n",
              "<p>54889 rows × 3 columns</p>\n",
              "</div>"
            ],
            "text/plain": [
              "                                                headline  ... is_sarcastic\n",
              "0      Labor pledges to double their heart-felt state...  ...            1\n",
              "1                  Morrison asks Queen if she’s a lizard  ...            1\n",
              "2      Order of Australia recipient Peta Credlin hono...  ...            1\n",
              "3      PM fucking off to Hawaii during fires somehow ...  ...            1\n",
              "4      Local MP only got into politics so they could ...  ...            1\n",
              "...                                                  ...  ...          ...\n",
              "54884                 Taking business into Welsh schools  ...            0\n",
              "54885      Women entrepreneurs could be answer to crisis  ...            0\n",
              "54886                       Branson's grim train warning  ...            0\n",
              "54887            Business parties in Swedish countryside  ...            0\n",
              "54888                                    Meeting targets  ...            0\n",
              "\n",
              "[54889 rows x 3 columns]"
            ]
          },
          "metadata": {
            "tags": []
          },
          "execution_count": 47
        }
      ]
    },
    {
      "cell_type": "markdown",
      "metadata": {
        "id": "_Nq3R1lAfD32"
      },
      "source": [
        "##**Save File**"
      ]
    },
    {
      "cell_type": "code",
      "metadata": {
        "id": "g4LoSmyYVM3B"
      },
      "source": [
        "full_data.to_csv('sarcasm_dataset.csv')\n",
        "full_data.to_json('sarcasm_dataset.json')"
      ],
      "execution_count": null,
      "outputs": []
    },
    {
      "cell_type": "markdown",
      "metadata": {
        "id": "2RXW-Cu3du8z"
      },
      "source": [
        "#**Thu thập dữ liệu test**"
      ]
    },
    {
      "cell_type": "markdown",
      "metadata": {
        "id": "Yv90ZO4zd19w"
      },
      "source": [
        "2 trang châm biếm và 2 trang chính thống"
      ]
    },
    {
      "cell_type": "markdown",
      "metadata": {
        "id": "0GtmLKnsqNYs"
      },
      "source": [
        "##**Trang châm biếm**"
      ]
    },
    {
      "cell_type": "markdown",
      "metadata": {
        "id": "80M-ekMRs3Sg"
      },
      "source": [
        "> https://thehardtimes.net/"
      ]
    },
    {
      "cell_type": "code",
      "metadata": {
        "id": "1UAembkMdtsR"
      },
      "source": [
        "file_link = open(\"thehardtimes_link.txt\",\"a\")\n",
        "file_head = open(\"thehardtimes_head.txt\",\"a\")\n",
        "for page in range(371):\n",
        "  url = 'https://thehardtimes.net/page/{}'.format(page)\n",
        "  try:\n",
        "    response  = requests.get(url)\n",
        "\n",
        "    html = response.content\n",
        "    soup = BeautifulSoup(html, \"html.parser\")\n",
        "\n",
        "    names = soup.body.find_all('article')\n",
        "    for index in names:\n",
        "      file_link.write(str(index.a.attrs.get('href')) + '\\n')\n",
        "      file_head.write(index.a.text + '\\n')\n",
        "  except:\n",
        "    continue\n",
        "file_link.close()\n",
        "file_head.close()"
      ],
      "execution_count": null,
      "outputs": []
    },
    {
      "cell_type": "markdown",
      "metadata": {
        "id": "B7JztSHeb2fW"
      },
      "source": [
        "> https://www.thepoke.co.uk/"
      ]
    },
    {
      "cell_type": "code",
      "metadata": {
        "id": "4LdWQAM4rKDy"
      },
      "source": [
        "file_link = open(\"thepoke_link.txt\",\"a\")\n",
        "file_head = open(\"thepoke_head.txt\",\"a\")\n",
        "for page in range(91):\n",
        "  url = 'https://www.thepoke.co.uk/category/news/page/{}'.format(page)\n",
        "  try:\n",
        "    response = requests.get(url)\n",
        "    html = response.content\n",
        "    soup = BeautifulSoup(html, \"html.parser\")\n",
        "\n",
        "    names = soup.body.find_all('article')\n",
        "    artise = soup.body.find_all('article', class_='boxgrid adbox')\n",
        "\n",
        "    for det in artise:\n",
        "      del names[names.index(det)]\n",
        "    for index in names:\n",
        "      file_link.write(str(index.a.get('href')) + '\\n')\n",
        "      file_head.write(index.find('div', class_='txt').p.text + '\\n')\n",
        "  except:\n",
        "    continue\n",
        "\n",
        "file_link.close()\n",
        "file_head.close()"
      ],
      "execution_count": null,
      "outputs": []
    },
    {
      "cell_type": "markdown",
      "metadata": {
        "id": "FfK0ZoP7E6gS"
      },
      "source": [
        "##**Trang chính thống**"
      ]
    },
    {
      "cell_type": "markdown",
      "metadata": {
        "id": "7JwYtCvnbugo"
      },
      "source": [
        "> https://www.thedailymash.co.uk/"
      ]
    },
    {
      "cell_type": "code",
      "metadata": {
        "id": "8cwmSn4e7LtW"
      },
      "source": [
        "zp = [['news/?page={}', 7], ['politics/?page={}', 31], ['news/lifestyle?page={}', 80], ['spot?page={}', 7]]\n",
        "url = 'https://www.thedailymash.co.uk/'\n",
        "file_link = open(\"thedailymash_link.txt\",\"a\")\n",
        "file_head = open(\"thedailymash_head.txt\",\"a\")\n",
        "for word in zp:\n",
        "  for page in range(word[1]):\n",
        "    link = (url + word[0]).format(page)\n",
        "    response = requests.get(link)\n",
        "    html = response.content\n",
        "    soup = BeautifulSoup(html, \"html.parser\")\n",
        "    names = soup.body.find_all('div', class_=\"md:w-1/2\")\n",
        "    for index in names:\n",
        "      temp = index.find('div', class_=\"pl-4 -mt-1\")\n",
        "      file_link.write(url + str(temp.a.attrs.get('href')) + '\\n')\n",
        "      file_head.write(temp.a.text.strip() + '\\n')\n",
        "file_link.close()\n",
        "file_head.close()"
      ],
      "execution_count": null,
      "outputs": []
    },
    {
      "cell_type": "markdown",
      "metadata": {
        "id": "ZfpIuKYLb0Hx"
      },
      "source": [
        "> https://bestinau.com.au/"
      ]
    },
    {
      "cell_type": "code",
      "metadata": {
        "id": "-7oTqaCvdzUx"
      },
      "source": [
        "file_link = open(\"bestinau_link.txt\",\"a\")\n",
        "file_head = open(\"bestinau_head.txt\",\"a\")\n",
        "zp = [['interview', 10], ['news', 15], ['entertainment', 22],\n",
        "      ['business/economy', 6], ['movies', 8], ['celebrity', 30], ['digital-world', 18],\n",
        "      ['politics', 14], ['sport', 16], ['business/it', 3], ['business/school-education', 4]]\n",
        "url = 'https://bestinau.com.au/category/'\n",
        "\n",
        "for tag in zp:\n",
        "  for page in range(tag[1] + 1):\n",
        "    link = (url + tag[0] + '/page/{}').format(page)\n",
        "    try:\n",
        "      response = requests.get(link)\n",
        "      html = response.content\n",
        "      soup = BeautifulSoup(html, \"html.parser\")\n",
        "\n",
        "      names = soup.body.find_all('div', class_=\"td-block-row\")\n",
        "      for index in names:\n",
        "        file_link.write(str(index.a.attrs.get('href')) + '\\n')\n",
        "        file_head.write(index.h3.text + '\\n')\n",
        "    except:\n",
        "      continue\n",
        "\n",
        "file_link.close()\n",
        "file_head.close()"
      ],
      "execution_count": null,
      "outputs": []
    },
    {
      "cell_type": "markdown",
      "metadata": {
        "id": "qSo7rK4zs04S"
      },
      "source": [
        "> https://www.cbsnews.com/"
      ]
    },
    {
      "cell_type": "code",
      "metadata": {
        "id": "EJQzABtXs5oH"
      },
      "source": [
        "file_link = open(\"cbsnews_link.txt\",\"a\")\n",
        "file_head = open(\"cbsnews_head.txt\",\"a\")\n",
        "zp = ['us', 'politics', 'word', 'entertainment', 'moneywatch', 'technology', 'science']\n",
        "url = 'https://www.cbsnews.com/latest/'\n",
        "for tag in zp:\n",
        "  for page in range(90, 120):\n",
        "    link = (url + tag + '/{}').format(page)\n",
        "    try:\n",
        "      response = requests.get(link)\n",
        "      html = response.content\n",
        "      soup = BeautifulSoup(html, \"html.parser\")\n",
        "      names = soup.body.find_all('article')[1:15]\n",
        "      for index in names:\n",
        "        file_link.write(str(index.a.attrs.get('href')) + '\\n')\n",
        "        file_head.write(index.h4.text.strip() + '\\n')\n",
        "    except:\n",
        "      continue\n",
        "file_link.close()\n",
        "file_head.close()"
      ],
      "execution_count": null,
      "outputs": []
    },
    {
      "cell_type": "markdown",
      "metadata": {
        "id": "mMtmlARekYo6"
      },
      "source": [
        "##**Tạo cvs cho tập test**"
      ]
    },
    {
      "cell_type": "code",
      "metadata": {
        "colab": {
          "base_uri": "https://localhost:8080/",
          "height": 419
        },
        "id": "QFWKm8WYgWcL",
        "outputId": "13c56efd-4aaf-431b-8f0d-73460841ca10"
      },
      "source": [
        "name_test_sarcasm = ['thehardtimes', 'thepoke']\n",
        "sarcasm_test = to_dateframe(name_test_sarcasm, 1)\n",
        "sarcasm_test"
      ],
      "execution_count": null,
      "outputs": [
        {
          "output_type": "execute_result",
          "data": {
            "text/html": [
              "<div>\n",
              "<style scoped>\n",
              "    .dataframe tbody tr th:only-of-type {\n",
              "        vertical-align: middle;\n",
              "    }\n",
              "\n",
              "    .dataframe tbody tr th {\n",
              "        vertical-align: top;\n",
              "    }\n",
              "\n",
              "    .dataframe thead th {\n",
              "        text-align: right;\n",
              "    }\n",
              "</style>\n",
              "<table border=\"1\" class=\"dataframe\">\n",
              "  <thead>\n",
              "    <tr style=\"text-align: right;\">\n",
              "      <th></th>\n",
              "      <th>headline</th>\n",
              "      <th>article_link</th>\n",
              "      <th>is_sarcastic</th>\n",
              "    </tr>\n",
              "  </thead>\n",
              "  <tbody>\n",
              "    <tr>\n",
              "      <th>0</th>\n",
              "      <td>Retail Clerk Feels Sense of Normalcy as Custom...</td>\n",
              "      <td>https://thehardtimes.net/culture/retail-clerk-...</td>\n",
              "      <td>1</td>\n",
              "    </tr>\n",
              "    <tr>\n",
              "      <th>1</th>\n",
              "      <td>How to Fake Interest While Your Bassist Talks ...</td>\n",
              "      <td>https://thehardtimes.net/blog/how-to-fake-inte...</td>\n",
              "      <td>1</td>\n",
              "    </tr>\n",
              "    <tr>\n",
              "      <th>2</th>\n",
              "      <td>Shy Guitarist Gets Black Orange Amp</td>\n",
              "      <td>https://thehardtimes.net/culture/shy-guitarist...</td>\n",
              "      <td>1</td>\n",
              "    </tr>\n",
              "    <tr>\n",
              "      <th>3</th>\n",
              "      <td>Star Wars Fan Won’t Stop Asking George Lucas H...</td>\n",
              "      <td>https://thehardtimes.net/culture/star-wars-fan...</td>\n",
              "      <td>1</td>\n",
              "    </tr>\n",
              "    <tr>\n",
              "      <th>4</th>\n",
              "      <td>Man Who Routinely Gets Blackout Drunk Blames M...</td>\n",
              "      <td>https://thehardtimes.net/culture/man-who-routi...</td>\n",
              "      <td>1</td>\n",
              "    </tr>\n",
              "    <tr>\n",
              "      <th>...</th>\n",
              "      <td>...</td>\n",
              "      <td>...</td>\n",
              "      <td>...</td>\n",
              "    </tr>\n",
              "    <tr>\n",
              "      <th>6743</th>\n",
              "      <td>Absolutely, positively, the best election vide...</td>\n",
              "      <td>https://www.thepoke.co.uk/2017/06/09/absolutel...</td>\n",
              "      <td>1</td>\n",
              "    </tr>\n",
              "    <tr>\n",
              "      <th>6744</th>\n",
              "      <td>Sheffield Hallam was Nick Clegg’s seat. Well, ...</td>\n",
              "      <td>https://www.thepoke.co.uk/2017/06/09/sheffield...</td>\n",
              "      <td>1</td>\n",
              "    </tr>\n",
              "    <tr>\n",
              "      <th>6745</th>\n",
              "      <td>Still awake? Celebrate with our favourite twee...</td>\n",
              "      <td>https://www.thepoke.co.uk/2017/06/09/still-awa...</td>\n",
              "      <td>1</td>\n",
              "    </tr>\n",
              "    <tr>\n",
              "      <th>6746</th>\n",
              "      <td>RIP UKIP – top 10 tweets as Paul Nuttall goes ...</td>\n",
              "      <td>https://www.thepoke.co.uk/2017/06/09/rip-ukip-...</td>\n",
              "      <td>1</td>\n",
              "    </tr>\n",
              "    <tr>\n",
              "      <th>6747</th>\n",
              "      <td>You’re not singing, you’re not singing anymore</td>\n",
              "      <td>https://www.thepoke.co.uk/2017/06/08/youre-not...</td>\n",
              "      <td>1</td>\n",
              "    </tr>\n",
              "  </tbody>\n",
              "</table>\n",
              "<p>6748 rows × 3 columns</p>\n",
              "</div>"
            ],
            "text/plain": [
              "                                               headline  ... is_sarcastic\n",
              "0     Retail Clerk Feels Sense of Normalcy as Custom...  ...            1\n",
              "1     How to Fake Interest While Your Bassist Talks ...  ...            1\n",
              "2                   Shy Guitarist Gets Black Orange Amp  ...            1\n",
              "3     Star Wars Fan Won’t Stop Asking George Lucas H...  ...            1\n",
              "4     Man Who Routinely Gets Blackout Drunk Blames M...  ...            1\n",
              "...                                                 ...  ...          ...\n",
              "6743  Absolutely, positively, the best election vide...  ...            1\n",
              "6744  Sheffield Hallam was Nick Clegg’s seat. Well, ...  ...            1\n",
              "6745  Still awake? Celebrate with our favourite twee...  ...            1\n",
              "6746  RIP UKIP – top 10 tweets as Paul Nuttall goes ...  ...            1\n",
              "6747     You’re not singing, you’re not singing anymore  ...            1\n",
              "\n",
              "[6748 rows x 3 columns]"
            ]
          },
          "metadata": {
            "tags": []
          },
          "execution_count": 32
        }
      ]
    },
    {
      "cell_type": "code",
      "metadata": {
        "id": "LoeFuMpqlJaj",
        "colab": {
          "base_uri": "https://localhost:8080/",
          "height": 419
        },
        "outputId": "3b5c18cc-2c46-442f-a9db-84a5e5958989"
      },
      "source": [
        "name_test_real = ['thedailymash', 'bestinau', 'cbsnews']\n",
        "real_test = to_dateframe(name_test_real, 0)\n",
        "real_test"
      ],
      "execution_count": null,
      "outputs": [
        {
          "output_type": "execute_result",
          "data": {
            "text/html": [
              "<div>\n",
              "<style scoped>\n",
              "    .dataframe tbody tr th:only-of-type {\n",
              "        vertical-align: middle;\n",
              "    }\n",
              "\n",
              "    .dataframe tbody tr th {\n",
              "        vertical-align: top;\n",
              "    }\n",
              "\n",
              "    .dataframe thead th {\n",
              "        text-align: right;\n",
              "    }\n",
              "</style>\n",
              "<table border=\"1\" class=\"dataframe\">\n",
              "  <thead>\n",
              "    <tr style=\"text-align: right;\">\n",
              "      <th></th>\n",
              "      <th>headline</th>\n",
              "      <th>article_link</th>\n",
              "      <th>is_sarcastic</th>\n",
              "    </tr>\n",
              "  </thead>\n",
              "  <tbody>\n",
              "    <tr>\n",
              "      <th>0</th>\n",
              "      <td>School kid who didn't revise and prayed for a ...</td>\n",
              "      <td>https://www.thedailymash.co.uk//news/school-ki...</td>\n",
              "      <td>0</td>\n",
              "    </tr>\n",
              "    <tr>\n",
              "      <th>1</th>\n",
              "      <td>Pub fruit machine dreamt of being vending mach...</td>\n",
              "      <td>https://www.thedailymash.co.uk//news/pub-fruit...</td>\n",
              "      <td>0</td>\n",
              "    </tr>\n",
              "    <tr>\n",
              "      <th>2</th>\n",
              "      <td>Meghan to embrace British culture by carrying ...</td>\n",
              "      <td>https://www.thedailymash.co.uk//news/meghan-to...</td>\n",
              "      <td>0</td>\n",
              "    </tr>\n",
              "    <tr>\n",
              "      <th>3</th>\n",
              "      <td>Charlie Hebdo</td>\n",
              "      <td>https://www.thedailymash.co.uk//news/charlie-h...</td>\n",
              "      <td>0</td>\n",
              "    </tr>\n",
              "    <tr>\n",
              "      <th>4</th>\n",
              "      <td>Git of the Year</td>\n",
              "      <td>https://www.thedailymash.co.uk//news/git-of-th...</td>\n",
              "      <td>0</td>\n",
              "    </tr>\n",
              "    <tr>\n",
              "      <th>...</th>\n",
              "      <td>...</td>\n",
              "      <td>...</td>\n",
              "      <td>...</td>\n",
              "    </tr>\n",
              "    <tr>\n",
              "      <th>14558</th>\n",
              "      <td>More than 80 students kidnapped from Nigeria s...</td>\n",
              "      <td>https://www.cbsnews.com/news/nigeria-kidnap-st...</td>\n",
              "      <td>0</td>\n",
              "    </tr>\n",
              "    <tr>\n",
              "      <th>14559</th>\n",
              "      <td>How to watch the Women Political Leaders Summit</td>\n",
              "      <td>https://www.cbsnews.com/news/women-political-l...</td>\n",
              "      <td>0</td>\n",
              "    </tr>\n",
              "    <tr>\n",
              "      <th>14560</th>\n",
              "      <td>How to watch the full \"strawberry\" moon, the l...</td>\n",
              "      <td>https://www.cbsnews.com/news/how-to-watch-full...</td>\n",
              "      <td>0</td>\n",
              "    </tr>\n",
              "    <tr>\n",
              "      <th>14561</th>\n",
              "      <td>Rampaging bear injures soldier, 3 others befor...</td>\n",
              "      <td>https://www.cbsnews.com/news/bear-japan-injure...</td>\n",
              "      <td>0</td>\n",
              "    </tr>\n",
              "    <tr>\n",
              "      <th>14562</th>\n",
              "      <td>9 more states will end pandemic unemployment a...</td>\n",
              "      <td>https://www.cbsnews.com/news/unemployment-bene...</td>\n",
              "      <td>0</td>\n",
              "    </tr>\n",
              "  </tbody>\n",
              "</table>\n",
              "<p>14563 rows × 3 columns</p>\n",
              "</div>"
            ],
            "text/plain": [
              "                                                headline  ... is_sarcastic\n",
              "0      School kid who didn't revise and prayed for a ...  ...            0\n",
              "1      Pub fruit machine dreamt of being vending mach...  ...            0\n",
              "2      Meghan to embrace British culture by carrying ...  ...            0\n",
              "3                                          Charlie Hebdo  ...            0\n",
              "4                                        Git of the Year  ...            0\n",
              "...                                                  ...  ...          ...\n",
              "14558  More than 80 students kidnapped from Nigeria s...  ...            0\n",
              "14559    How to watch the Women Political Leaders Summit  ...            0\n",
              "14560  How to watch the full \"strawberry\" moon, the l...  ...            0\n",
              "14561  Rampaging bear injures soldier, 3 others befor...  ...            0\n",
              "14562  9 more states will end pandemic unemployment a...  ...            0\n",
              "\n",
              "[14563 rows x 3 columns]"
            ]
          },
          "metadata": {
            "tags": []
          },
          "execution_count": 33
        }
      ]
    },
    {
      "cell_type": "code",
      "metadata": {
        "colab": {
          "base_uri": "https://localhost:8080/",
          "height": 419
        },
        "id": "t8rGdYzWlk-j",
        "outputId": "c2933f81-bafd-492f-b08a-1d504f687b3c"
      },
      "source": [
        "full_test = pd.concat([real_test, sarcasm_test]).reset_index()\n",
        "del full_test['index']\n",
        "full_test"
      ],
      "execution_count": null,
      "outputs": [
        {
          "output_type": "execute_result",
          "data": {
            "text/html": [
              "<div>\n",
              "<style scoped>\n",
              "    .dataframe tbody tr th:only-of-type {\n",
              "        vertical-align: middle;\n",
              "    }\n",
              "\n",
              "    .dataframe tbody tr th {\n",
              "        vertical-align: top;\n",
              "    }\n",
              "\n",
              "    .dataframe thead th {\n",
              "        text-align: right;\n",
              "    }\n",
              "</style>\n",
              "<table border=\"1\" class=\"dataframe\">\n",
              "  <thead>\n",
              "    <tr style=\"text-align: right;\">\n",
              "      <th></th>\n",
              "      <th>headline</th>\n",
              "      <th>article_link</th>\n",
              "      <th>is_sarcastic</th>\n",
              "    </tr>\n",
              "  </thead>\n",
              "  <tbody>\n",
              "    <tr>\n",
              "      <th>0</th>\n",
              "      <td>School kid who didn't revise and prayed for a ...</td>\n",
              "      <td>https://www.thedailymash.co.uk//news/school-ki...</td>\n",
              "      <td>0</td>\n",
              "    </tr>\n",
              "    <tr>\n",
              "      <th>1</th>\n",
              "      <td>Pub fruit machine dreamt of being vending mach...</td>\n",
              "      <td>https://www.thedailymash.co.uk//news/pub-fruit...</td>\n",
              "      <td>0</td>\n",
              "    </tr>\n",
              "    <tr>\n",
              "      <th>2</th>\n",
              "      <td>Meghan to embrace British culture by carrying ...</td>\n",
              "      <td>https://www.thedailymash.co.uk//news/meghan-to...</td>\n",
              "      <td>0</td>\n",
              "    </tr>\n",
              "    <tr>\n",
              "      <th>3</th>\n",
              "      <td>Charlie Hebdo</td>\n",
              "      <td>https://www.thedailymash.co.uk//news/charlie-h...</td>\n",
              "      <td>0</td>\n",
              "    </tr>\n",
              "    <tr>\n",
              "      <th>4</th>\n",
              "      <td>Git of the Year</td>\n",
              "      <td>https://www.thedailymash.co.uk//news/git-of-th...</td>\n",
              "      <td>0</td>\n",
              "    </tr>\n",
              "    <tr>\n",
              "      <th>...</th>\n",
              "      <td>...</td>\n",
              "      <td>...</td>\n",
              "      <td>...</td>\n",
              "    </tr>\n",
              "    <tr>\n",
              "      <th>21306</th>\n",
              "      <td>Absolutely, positively, the best election vide...</td>\n",
              "      <td>https://www.thepoke.co.uk/2017/06/09/absolutel...</td>\n",
              "      <td>1</td>\n",
              "    </tr>\n",
              "    <tr>\n",
              "      <th>21307</th>\n",
              "      <td>Sheffield Hallam was Nick Clegg’s seat. Well, ...</td>\n",
              "      <td>https://www.thepoke.co.uk/2017/06/09/sheffield...</td>\n",
              "      <td>1</td>\n",
              "    </tr>\n",
              "    <tr>\n",
              "      <th>21308</th>\n",
              "      <td>Still awake? Celebrate with our favourite twee...</td>\n",
              "      <td>https://www.thepoke.co.uk/2017/06/09/still-awa...</td>\n",
              "      <td>1</td>\n",
              "    </tr>\n",
              "    <tr>\n",
              "      <th>21309</th>\n",
              "      <td>RIP UKIP – top 10 tweets as Paul Nuttall goes ...</td>\n",
              "      <td>https://www.thepoke.co.uk/2017/06/09/rip-ukip-...</td>\n",
              "      <td>1</td>\n",
              "    </tr>\n",
              "    <tr>\n",
              "      <th>21310</th>\n",
              "      <td>You’re not singing, you’re not singing anymore</td>\n",
              "      <td>https://www.thepoke.co.uk/2017/06/08/youre-not...</td>\n",
              "      <td>1</td>\n",
              "    </tr>\n",
              "  </tbody>\n",
              "</table>\n",
              "<p>21311 rows × 3 columns</p>\n",
              "</div>"
            ],
            "text/plain": [
              "                                                headline  ... is_sarcastic\n",
              "0      School kid who didn't revise and prayed for a ...  ...            0\n",
              "1      Pub fruit machine dreamt of being vending mach...  ...            0\n",
              "2      Meghan to embrace British culture by carrying ...  ...            0\n",
              "3                                          Charlie Hebdo  ...            0\n",
              "4                                        Git of the Year  ...            0\n",
              "...                                                  ...  ...          ...\n",
              "21306  Absolutely, positively, the best election vide...  ...            1\n",
              "21307  Sheffield Hallam was Nick Clegg’s seat. Well, ...  ...            1\n",
              "21308  Still awake? Celebrate with our favourite twee...  ...            1\n",
              "21309  RIP UKIP – top 10 tweets as Paul Nuttall goes ...  ...            1\n",
              "21310     You’re not singing, you’re not singing anymore  ...            1\n",
              "\n",
              "[21311 rows x 3 columns]"
            ]
          },
          "metadata": {
            "tags": []
          },
          "execution_count": 34
        }
      ]
    },
    {
      "cell_type": "code",
      "metadata": {
        "id": "Ow3dsRlrmJc6"
      },
      "source": [
        "full_test.to_csv('sarcasm_test.csv')\n",
        "full_test.to_json('sarcasm_test.json')"
      ],
      "execution_count": null,
      "outputs": []
    },
    {
      "cell_type": "code",
      "metadata": {
        "id": "vu073iLazemN"
      },
      "source": [
        "test = pd.read_csv('sarcasm_test.csv')"
      ],
      "execution_count": null,
      "outputs": []
    },
    {
      "cell_type": "code",
      "metadata": {
        "id": "kL60x_wrzm8_"
      },
      "source": [
        "import matplotlib.pyplot as plt\n",
        "import seaborn as sn\n",
        "#Nguồn nhóm của Lan Phương\n",
        "def Visualize_data(df):\n",
        "  fig=plt.figure(figsize=(8,6))\n",
        "  background_color = '#f6f5f7'\n",
        "  fig.patch.set_facecolor(background_color) \n",
        "  ax=plt.subplot(1,1,1)\n",
        "  ax.set_facecolor(background_color)\n",
        "  ax.set_title('Visualize Data',fontweight='bold',fontfamily='serif')\n",
        "  for i in ['top','right']:\n",
        "    ax.spines[i].set_visible(False)\n",
        "  ax.grid(linestyle=':',axis='y')\n",
        "  sn.countplot(df['is_sarcastic'],palette='PuOr_r')"
      ],
      "execution_count": null,
      "outputs": []
    },
    {
      "cell_type": "code",
      "metadata": {
        "colab": {
          "base_uri": "https://localhost:8080/",
          "height": 459
        },
        "id": "I7hlzBo4zn3J",
        "outputId": "aec827d5-a7a5-48b0-d67a-c835955e3606"
      },
      "source": [
        "Visualize_data(test)"
      ],
      "execution_count": null,
      "outputs": [
        {
          "output_type": "stream",
          "text": [
            "/usr/local/lib/python3.7/dist-packages/seaborn/_decorators.py:43: FutureWarning: Pass the following variable as a keyword arg: x. From version 0.12, the only valid positional argument will be `data`, and passing other arguments without an explicit keyword will result in an error or misinterpretation.\n",
            "  FutureWarning\n"
          ],
          "name": "stderr"
        },
        {
          "output_type": "display_data",
          "data": {
            "image/png": "[encoded data removed]",
            "text/plain": [
              "<Figure size 576x432 with 1 Axes>"
            ]
          },
          "metadata": {
            "tags": []
          }
        }
      ]
    }
  ]
}