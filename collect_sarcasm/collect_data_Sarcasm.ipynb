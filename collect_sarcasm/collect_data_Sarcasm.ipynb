{
  "nbformat": 4,
  "nbformat_minor": 0,
  "metadata": {
    "colab": {
      "name": "collect data Sarcasm.ipynb",
      "provenance": [],
      "collapsed_sections": [],
      "authorship_tag": "ABX9TyP08PGMeIeEMKI3Znhzbpxo",
      "include_colab_link": true
    },
    "kernelspec": {
      "name": "python3",
      "display_name": "Python 3"
    },
    "language_info": {
      "name": "python"
    }
  },
  "cells": [
    {
      "cell_type": "markdown",
      "metadata": {
        "id": "view-in-github",
        "colab_type": "text"
      },
      "source": [
        "<a href=\"https://colab.research.google.com/github/phutaekwondo/CS114.L21/blob/main/collect_sarcasm/collect_data_Sarcasm.ipynb\" target=\"_parent\"><img src=\"https://colab.research.google.com/assets/colab-badge.svg\" alt=\"Open In Colab\"/></a>"
      ]
    },
    {
      "cell_type": "markdown",
      "metadata": {
        "id": "zDpEEiFdJ3FR"
      },
      "source": [
        "# **Bài tập: Thu thập dataset cho bài toán Sarcasm detection in news headline**"
      ]
    },
    {
      "cell_type": "markdown",
      "metadata": {
        "id": "_2PAyR9QJ_mA"
      },
      "source": [
        "#**Nhóm thực hiện**\n",
        "- 19522020 - Lãi Nguyễn Vĩnh Phú\n",
        "- 19521299 - Nguyễn Chí Cường\n",
        "- 19522447 - Trương Thế Trương"
      ]
    },
    {
      "cell_type": "markdown",
      "metadata": {
        "id": "blnIzfCoKOln"
      },
      "source": [
        "#**Các trang web thu thập:**\n",
        "Trang châm biếm:\n",
        "- https://www.newyorker.com/\n",
        "- https://dailybonnet.com/\n",
        "- https://clickhole.com/\n",
        "- https://chaser.com.au/\n",
        "Trang chính thống:"
      ]
    },
    {
      "cell_type": "code",
      "metadata": {
        "id": "Pv_k2vuxJdR-"
      },
      "source": [
        "import requests\n",
        "from bs4 import BeautifulSoup\n",
        "import pandas as pd"
      ],
      "execution_count": 2,
      "outputs": []
    },
    {
      "cell_type": "markdown",
      "metadata": {
        "id": "rvZJb0xgKQM2"
      },
      "source": [
        "#**Tin châm biếm**"
      ]
    },
    {
      "cell_type": "markdown",
      "metadata": {
        "id": "l0kkJTo2Mp1e"
      },
      "source": [
        "## **Trang New Yorker**"
      ]
    },
    {
      "cell_type": "code",
      "metadata": {
        "id": "R1NDokfsliUs"
      },
      "source": [
        "file_link = open(\"newyorker_link.txt\",\"a\")\n",
        "file_head = open(\"newyorker_head.txt\",\"a\")\n",
        "for page in range(1393):\n",
        "  link = \"https://www.newyorker.com\"\n",
        "  url = \"https://www.newyorker.com/latest/news/page/{}\".format(page)\n",
        "  try:\n",
        "    response  = requests.get(url)\n",
        "\n",
        "    html = response.content\n",
        "    soup = BeautifulSoup(html, \"html.parser\")\n",
        "\n",
        "    names = soup.body.find_all('li', class_=\"River__riverItem___3huWr\")\n",
        "    for element in names:\n",
        "      link_new = element.a.attrs.get(\"href\")\n",
        "      if link_new is not None:\n",
        "        file_link.write(link + str(link_new) + '\\n')\n",
        "        file_head.write(element.h4.get_text() + '\\n')\n",
        "  except:\n",
        "      continue\n",
        "file_link.close()\n",
        "file_head.close()"
      ],
      "execution_count": 6,
      "outputs": []
    },
    {
      "cell_type": "markdown",
      "metadata": {
        "id": "mOuqHi4BEMPj"
      },
      "source": [
        "##**Trang Daily Bonnet**"
      ]
    },
    {
      "cell_type": "code",
      "metadata": {
        "id": "CimLWf_ZKF_B"
      },
      "source": [
        "url = 'https://dailybonnet.com/'\n",
        "list_new = [['quiz/page/{}',12], ['mennonitelife/page/{}',169], ['food-and-drink/page/{}',78], ['church/page/{}',61], ['outsiders/page/{}',122]]\n",
        "file_link = open(\"dailybonnet_link.txt\",\"a\")\n",
        "file_head = open(\"dailybonnet_head.txt\",\"a\")\n",
        "for text in list_new:\n",
        "  link = url + 'category/' + text[0]\n",
        "  for page in range(text[1]):\n",
        "    try:\n",
        "      new_url = link.format(page)\n",
        "      names = soup.body.find_all('article')\n",
        "      for index in names:\n",
        "        file_link.write(str(index.h3.a.attrs.get('href')) + '\\n')\n",
        "        file_head.write(index.h3.text.strip() + '\\n')\n",
        "    except:\n",
        "        continue\n",
        "file_head.close()\n",
        "file_link.close()    "
      ],
      "execution_count": null,
      "outputs": []
    },
    {
      "cell_type": "markdown",
      "metadata": {
        "id": "pho5bZCpOakg"
      },
      "source": [
        "##**Trang Click Hole**"
      ]
    },
    {
      "cell_type": "code",
      "metadata": {
        "id": "IIvWyZRDOhd_"
      },
      "source": [
        "file_link = open(\"clickhole_link.txt\",\"a\")\n",
        "file_head = open(\"clickhole_head.txt\",\"a\")\n",
        "for page in range(1176):\n",
        "  url = \"https://clickhole.com/page/{}\".format(page)\n",
        "  try:\n",
        "    response  = requests.get(url)\n",
        "\n",
        "    html = response.content\n",
        "    soup = BeautifulSoup(html, \"html.parser\")\n",
        "\n",
        "    names = soup.body.find_all('li', class_=\"post-item has-image\")\n",
        "    for index in names:\n",
        "      file_link.write(str(index.a.attrs.get('href')) + '\\n')\n",
        "      file_head.write(index.a.text + '\\n')\n",
        "  except:\n",
        "      continue\n",
        "file_link.close()\n",
        "file_head.close()"
      ],
      "execution_count": null,
      "outputs": []
    },
    {
      "cell_type": "markdown",
      "metadata": {
        "id": "liM5f9ireinL"
      },
      "source": [
        "##**Trang The Chaser**"
      ]
    },
    {
      "cell_type": "code",
      "metadata": {
        "id": "cKB21W8Ceo1a"
      },
      "source": [
        "file_link = open(\"chaser_link.txt\",\"a\")\n",
        "file_head = open(\"chaser_head.txt\",\"a\")\n",
        "\n",
        "for page in range(209):\n",
        "  url = 'https://chaser.com.au/news/page/{}'.format(page)\n",
        "  try:\n",
        "    response  = requests.get(url)\n",
        "\n",
        "    html = response.content\n",
        "    soup = BeautifulSoup(html, \"html.parser\")\n",
        "\n",
        "    names = soup.body.find_all('a', class_=\"archive_story\")\n",
        "    for index in names:\n",
        "      file_link.write(str(index.attrs.get('href') + '\\n'))\n",
        "      file_head.write(index.text.strip().split('\\n\\n')[1] + '\\n')\n",
        "  except:\n",
        "    continue\n",
        "file_link.close()\n",
        "file_head.close()"
      ],
      "execution_count": 2,
      "outputs": []
    },
    {
      "cell_type": "markdown",
      "metadata": {
        "id": "N2ulcGuWKWoD"
      },
      "source": [
        "#**Tin chính thống**"
      ]
    },
    {
      "cell_type": "markdown",
      "metadata": {
        "id": "cbci_vJapZN6"
      },
      "source": [
        "## Trang Huff Post"
      ]
    },
    {
      "cell_type": "code",
      "metadata": {
        "id": "meD1xU45KaHk"
      },
      "source": [
        "page = 1\n",
        "url = 'https://www.huffpost.com/news/?page={}'.format(page)\n",
        "\n",
        "reponse = requests.get(url)\n",
        "html = reponse.content\n",
        "soup = BeautifulSoup(html, \"html.parser\")\n",
        "\n",
        "names = soup.body.find_all('div', class_=\"card card--standard  js-card\")\n",
        "for index in names:\n",
        "  print(index.a)"
      ],
      "execution_count": null,
      "outputs": []
    },
    {
      "cell_type": "markdown",
      "metadata": {
        "id": "xgxFGmr7WiYA"
      },
      "source": [
        "#**Tạo file CSV**"
      ]
    },
    {
      "cell_type": "code",
      "metadata": {
        "colab": {
          "base_uri": "https://localhost:8080/",
          "height": 419
        },
        "id": "8ZrzqZGSWh6R",
        "outputId": "1ecb7738-d027-4a8a-c492-881b206594d9"
      },
      "source": [
        "name_list = ['chaser', 'clickhole', 'newyorker', 'dailybonnet']\n",
        "type_file = ['head', 'link']\n",
        "lst_sarcasm = []\n",
        "for name in name_list:\n",
        "  temp = []\n",
        "  for tpe in type_file:\n",
        "    file = open(name + '_' + tpe + '.txt', 'r')\n",
        "    series = pd.Series(file.read().split('\\n'))\n",
        "    temp.append(series)\n",
        "  lst_sarcasm.append(temp)\n",
        "\n",
        "\n",
        "sarcasm = []\n",
        "for df in lst_sarcasm:\n",
        "  dct_sarcasm = {'headline': df[0], 'article_link': df[1]}\n",
        "  df_temp = pd.DataFrame(dct_sarcasm)\n",
        "  sarcasm.append(df_temp)\n",
        "\n",
        "df_sarcasm = pd.concat(sarcasm)\n",
        "df_sarcasm = df_sarcasm.reset_index()\n",
        "df_sarcasm['is_sarcastic'] = 1\n",
        "del df_sarcasm['index']\n",
        "df_sarcasm"
      ],
      "execution_count": 26,
      "outputs": [
        {
          "output_type": "execute_result",
          "data": {
            "text/html": [
              "<div>\n",
              "<style scoped>\n",
              "    .dataframe tbody tr th:only-of-type {\n",
              "        vertical-align: middle;\n",
              "    }\n",
              "\n",
              "    .dataframe tbody tr th {\n",
              "        vertical-align: top;\n",
              "    }\n",
              "\n",
              "    .dataframe thead th {\n",
              "        text-align: right;\n",
              "    }\n",
              "</style>\n",
              "<table border=\"1\" class=\"dataframe\">\n",
              "  <thead>\n",
              "    <tr style=\"text-align: right;\">\n",
              "      <th></th>\n",
              "      <th>headline</th>\n",
              "      <th>article_link</th>\n",
              "      <th>is_sarcastic</th>\n",
              "    </tr>\n",
              "  </thead>\n",
              "  <tbody>\n",
              "    <tr>\n",
              "      <th>0</th>\n",
              "      <td>Local MP only got into politics so they could ...</td>\n",
              "      <td>https://chaser.com.au/national/local-mp-only-g...</td>\n",
              "      <td>1</td>\n",
              "    </tr>\n",
              "    <tr>\n",
              "      <th>1</th>\n",
              "      <td>God distances himself from Scott Morrison afte...</td>\n",
              "      <td>https://chaser.com.au/national/god-distances-h...</td>\n",
              "      <td>1</td>\n",
              "    </tr>\n",
              "    <tr>\n",
              "      <th>2</th>\n",
              "      <td>Angus Taylor takes break from dodgy Federal d...</td>\n",
              "      <td>https://chaser.com.au/national/angus-taylor-ta...</td>\n",
              "      <td>1</td>\n",
              "    </tr>\n",
              "    <tr>\n",
              "      <th>3</th>\n",
              "      <td>“Legally you have to tell me if you’re a cop” ...</td>\n",
              "      <td>https://chaser.com.au/general-news/legally-you...</td>\n",
              "      <td>1</td>\n",
              "    </tr>\n",
              "    <tr>\n",
              "      <th>4</th>\n",
              "      <td>“There’s no money to help arts workers” says g...</td>\n",
              "      <td>https://chaser.com.au/national/theres-no-money...</td>\n",
              "      <td>1</td>\n",
              "    </tr>\n",
              "    <tr>\n",
              "      <th>...</th>\n",
              "      <td>...</td>\n",
              "      <td>...</td>\n",
              "      <td>...</td>\n",
              "    </tr>\n",
              "    <tr>\n",
              "      <th>28517</th>\n",
              "      <td>Vaccine “Lottery” Rebranded as Vaccine “Quilt ...</td>\n",
              "      <td>https://dailybonnet.com/vaccine-lottery-rebran...</td>\n",
              "      <td>1</td>\n",
              "    </tr>\n",
              "    <tr>\n",
              "      <th>28518</th>\n",
              "      <td>Manitoba’s Vaccine Passport Only Good for Trip...</td>\n",
              "      <td>https://dailybonnet.com/manitobas-vaccine-pass...</td>\n",
              "      <td>1</td>\n",
              "    </tr>\n",
              "    <tr>\n",
              "      <th>28519</th>\n",
              "      <td>Winkler Pastor Finally Approves Going for Shot...</td>\n",
              "      <td>https://dailybonnet.com/winkler-pastor-finally...</td>\n",
              "      <td>1</td>\n",
              "    </tr>\n",
              "    <tr>\n",
              "      <th>28520</th>\n",
              "      <td>Angry White Man Reports on All the Horrible At...</td>\n",
              "      <td>https://dailybonnet.com/angry-white-man-thinks...</td>\n",
              "      <td>1</td>\n",
              "    </tr>\n",
              "    <tr>\n",
              "      <th>28521</th>\n",
              "      <td>New Facebook Algorithm Only Shows Posts from Y...</td>\n",
              "      <td>https://dailybonnet.com/new-facebook-algorithm...</td>\n",
              "      <td>1</td>\n",
              "    </tr>\n",
              "  </tbody>\n",
              "</table>\n",
              "<p>28522 rows × 3 columns</p>\n",
              "</div>"
            ],
            "text/plain": [
              "                                                headline  ... is_sarcastic\n",
              "0      Local MP only got into politics so they could ...  ...            1\n",
              "1      God distances himself from Scott Morrison afte...  ...            1\n",
              "2       Angus Taylor takes break from dodgy Federal d...  ...            1\n",
              "3      “Legally you have to tell me if you’re a cop” ...  ...            1\n",
              "4      “There’s no money to help arts workers” says g...  ...            1\n",
              "...                                                  ...  ...          ...\n",
              "28517  Vaccine “Lottery” Rebranded as Vaccine “Quilt ...  ...            1\n",
              "28518  Manitoba’s Vaccine Passport Only Good for Trip...  ...            1\n",
              "28519  Winkler Pastor Finally Approves Going for Shot...  ...            1\n",
              "28520  Angry White Man Reports on All the Horrible At...  ...            1\n",
              "28521  New Facebook Algorithm Only Shows Posts from Y...  ...            1\n",
              "\n",
              "[28522 rows x 3 columns]"
            ]
          },
          "metadata": {
            "tags": []
          },
          "execution_count": 26
        }
      ]
    },
    {
      "cell_type": "code",
      "metadata": {
        "id": "YhnpmdmevnCK"
      },
      "source": [
        "df_sarcasm.to_csv('sarcasm.csv')"
      ],
      "execution_count": 27,
      "outputs": []
    }
  ]
}