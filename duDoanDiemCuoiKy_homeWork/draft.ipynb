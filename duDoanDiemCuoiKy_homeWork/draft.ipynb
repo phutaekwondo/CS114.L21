{
  "nbformat": 4,
  "nbformat_minor": 0,
  "metadata": {
    "colab": {
      "name": "draft.ipynb",
      "provenance": [],
      "collapsed_sections": [],
      "include_colab_link": true
    },
    "kernelspec": {
      "display_name": "Python 3",
      "name": "python3"
    },
    "accelerator": "GPU"
  },
  "cells": [
    {
      "cell_type": "markdown",
      "metadata": {
        "id": "view-in-github",
        "colab_type": "text"
      },
      "source": [
        "<a href=\"https://colab.research.google.com/github/phutaekwondo/CS114.L21/blob/main/duDoanDiemCuoiKy_homeWork/draft.ipynb\" target=\"_parent\"><img src=\"https://colab.research.google.com/assets/colab-badge.svg\" alt=\"Open In Colab\"/></a>"
      ]
    },
    {
      "cell_type": "markdown",
      "metadata": {
        "id": "upq6wNNY-eYa"
      },
      "source": [
        "># **Data Discovery**\n",
        "\n",
        "---"
      ]
    },
    {
      "cell_type": "markdown",
      "metadata": {
        "id": "xRkHA3Vd-eSR"
      },
      "source": [
        "##**Nhóm thực hiện**\n",
        "1. Lại Nguyễn Vĩnh Phú - 19522020\n",
        "2. Nguyễn Chí Cường - 19521299\n",
        "3. Trương Thế Trương - 19522447"
      ]
    },
    {
      "cell_type": "markdown",
      "metadata": {
        "id": "X1nVySPM-eKi"
      },
      "source": [
        "##***Dữ liệu***\n",
        "\n",
        "1. [We code](https://github.com/phutaekwondo/CS114.L21/blob/main/duDoanDiemCuoiKy_homeWork/wecode.csv)\n",
        "2. [score training](https://github.com/phutaekwondo/CS114.L21/blob/main/duDoanDiemCuoiKy_homeWork/score.csv)"
      ]
    },
    {
      "cell_type": "code",
      "metadata": {
        "id": "wbGN1BmsB6Lm"
      },
      "source": [
        "import pandas as pd\n",
        "import numpy as np\n",
        "from collections import Counter"
      ],
      "execution_count": 12,
      "outputs": []
    },
    {
      "cell_type": "code",
      "metadata": {
        "id": "l4_YOjbO9USj",
        "colab": {
          "base_uri": "https://localhost:8080/"
        },
        "outputId": "b238f00b-a7f1-4d36-e73e-6d4a709b2e89"
      },
      "source": [
        "!git clone https://github.com/phutaekwondo/CS114.L21"
      ],
      "execution_count": 2,
      "outputs": [
        {
          "output_type": "stream",
          "text": [
            "Cloning into 'CS114.L21'...\n",
            "remote: Enumerating objects: 144, done.\u001b[K\n",
            "remote: Counting objects: 100% (144/144), done.\u001b[K\n",
            "remote: Compressing objects: 100% (122/122), done.\u001b[K\n",
            "remote: Total 144 (delta 51), reused 36 (delta 9), pack-reused 0\u001b[K\n",
            "Receiving objects: 100% (144/144), 9.08 MiB | 13.45 MiB/s, done.\n",
            "Resolving deltas: 100% (51/51), done.\n"
          ],
          "name": "stdout"
        }
      ]
    },
    {
      "cell_type": "code",
      "metadata": {
        "id": "Pb0iK2ee9l46"
      },
      "source": [
        "url_wecode = '/content/CS114.L21/duDoanDiemCuoiKy_homeWork/wecode.csv'\n",
        "url_score = '/content/CS114.L21/duDoanDiemCuoiKy_homeWork/score.csv'"
      ],
      "execution_count": 3,
      "outputs": []
    },
    {
      "cell_type": "code",
      "metadata": {
        "id": "7jqODf6oE9yf"
      },
      "source": [
        "data_wecode = pd.read_csv(url_wecode)\n",
        "data_score = pd.read_csv(url_score)"
      ],
      "execution_count": 4,
      "outputs": []
    },
    {
      "cell_type": "code",
      "metadata": {
        "id": "4NlNcyFc5ZFB",
        "colab": {
          "base_uri": "https://localhost:8080/",
          "height": 589
        },
        "outputId": "7a9f86e3-bfc9-4088-a516-cde94fd4e160"
      },
      "source": [
        "data_wecode"
      ],
      "execution_count": 5,
      "outputs": [
        {
          "output_type": "execute_result",
          "data": {
            "text/html": [
              "<div>\n",
              "<style scoped>\n",
              "    .dataframe tbody tr th:only-of-type {\n",
              "        vertical-align: middle;\n",
              "    }\n",
              "\n",
              "    .dataframe tbody tr th {\n",
              "        vertical-align: top;\n",
              "    }\n",
              "\n",
              "    .dataframe thead th {\n",
              "        text-align: right;\n",
              "    }\n",
              "</style>\n",
              "<table border=\"1\" class=\"dataframe\">\n",
              "  <thead>\n",
              "    <tr style=\"text-align: right;\">\n",
              "      <th></th>\n",
              "      <th>id</th>\n",
              "      <th>assignment_id</th>\n",
              "      <th>problem_id</th>\n",
              "      <th>user_id</th>\n",
              "      <th>is_final</th>\n",
              "      <th>status</th>\n",
              "      <th>pre_score</th>\n",
              "      <th>coefficient</th>\n",
              "      <th>file_name</th>\n",
              "      <th>language_id</th>\n",
              "      <th>created_at</th>\n",
              "      <th>updated_at</th>\n",
              "    </tr>\n",
              "  </thead>\n",
              "  <tbody>\n",
              "    <tr>\n",
              "      <th>0</th>\n",
              "      <td>4</td>\n",
              "      <td>0</td>\n",
              "      <td>3</td>\n",
              "      <td>4</td>\n",
              "      <td>1</td>\n",
              "      <td>SCORE</td>\n",
              "      <td>10000</td>\n",
              "      <td>100</td>\n",
              "      <td>solution-0</td>\n",
              "      <td>2</td>\n",
              "      <td>2020-10-30 10:58:11</td>\n",
              "      <td>2020-10-30 10:58:19</td>\n",
              "    </tr>\n",
              "    <tr>\n",
              "      <th>1</th>\n",
              "      <td>5</td>\n",
              "      <td>0</td>\n",
              "      <td>4</td>\n",
              "      <td>4</td>\n",
              "      <td>1</td>\n",
              "      <td>SCORE</td>\n",
              "      <td>10000</td>\n",
              "      <td>100</td>\n",
              "      <td>solution-1</td>\n",
              "      <td>2</td>\n",
              "      <td>2020-10-30 11:07:09</td>\n",
              "      <td>2020-10-30 11:07:17</td>\n",
              "    </tr>\n",
              "    <tr>\n",
              "      <th>2</th>\n",
              "      <td>6</td>\n",
              "      <td>0</td>\n",
              "      <td>5</td>\n",
              "      <td>4</td>\n",
              "      <td>0</td>\n",
              "      <td>Compilation Error</td>\n",
              "      <td>0</td>\n",
              "      <td>100</td>\n",
              "      <td>solution-2</td>\n",
              "      <td>2</td>\n",
              "      <td>2020-10-30 11:08:01</td>\n",
              "      <td>2020-10-30 11:23:36</td>\n",
              "    </tr>\n",
              "    <tr>\n",
              "      <th>3</th>\n",
              "      <td>7</td>\n",
              "      <td>0</td>\n",
              "      <td>5</td>\n",
              "      <td>4</td>\n",
              "      <td>0</td>\n",
              "      <td>Compilation Error</td>\n",
              "      <td>0</td>\n",
              "      <td>100</td>\n",
              "      <td>solution-3</td>\n",
              "      <td>2</td>\n",
              "      <td>2020-10-30 11:11:41</td>\n",
              "      <td>2020-10-30 11:11:42</td>\n",
              "    </tr>\n",
              "    <tr>\n",
              "      <th>4</th>\n",
              "      <td>8</td>\n",
              "      <td>0</td>\n",
              "      <td>5</td>\n",
              "      <td>4</td>\n",
              "      <td>0</td>\n",
              "      <td>Compilation Error</td>\n",
              "      <td>0</td>\n",
              "      <td>100</td>\n",
              "      <td>solution-4</td>\n",
              "      <td>2</td>\n",
              "      <td>2020-10-30 11:15:06</td>\n",
              "      <td>2020-10-30 11:15:07</td>\n",
              "    </tr>\n",
              "    <tr>\n",
              "      <th>...</th>\n",
              "      <td>...</td>\n",
              "      <td>...</td>\n",
              "      <td>...</td>\n",
              "      <td>...</td>\n",
              "      <td>...</td>\n",
              "      <td>...</td>\n",
              "      <td>...</td>\n",
              "      <td>...</td>\n",
              "      <td>...</td>\n",
              "      <td>...</td>\n",
              "      <td>...</td>\n",
              "      <td>...</td>\n",
              "    </tr>\n",
              "    <tr>\n",
              "      <th>264601</th>\n",
              "      <td>266667</td>\n",
              "      <td>0</td>\n",
              "      <td>25</td>\n",
              "      <td>1796</td>\n",
              "      <td>0</td>\n",
              "      <td>SCORE</td>\n",
              "      <td>0</td>\n",
              "      <td>100</td>\n",
              "      <td>solution-3977</td>\n",
              "      <td>4</td>\n",
              "      <td>2021-04-28 9:34:20</td>\n",
              "      <td>2021-04-28 9:34:27</td>\n",
              "    </tr>\n",
              "    <tr>\n",
              "      <th>264602</th>\n",
              "      <td>266668</td>\n",
              "      <td>0</td>\n",
              "      <td>25</td>\n",
              "      <td>1796</td>\n",
              "      <td>0</td>\n",
              "      <td>Compilation Error</td>\n",
              "      <td>0</td>\n",
              "      <td>100</td>\n",
              "      <td>solution-3978</td>\n",
              "      <td>2</td>\n",
              "      <td>2021-04-28 9:35:07</td>\n",
              "      <td>2021-04-28 9:35:08</td>\n",
              "    </tr>\n",
              "    <tr>\n",
              "      <th>264603</th>\n",
              "      <td>266669</td>\n",
              "      <td>0</td>\n",
              "      <td>25</td>\n",
              "      <td>1796</td>\n",
              "      <td>1</td>\n",
              "      <td>SCORE</td>\n",
              "      <td>10000</td>\n",
              "      <td>100</td>\n",
              "      <td>solution-3979</td>\n",
              "      <td>4</td>\n",
              "      <td>2021-04-28 9:35:15</td>\n",
              "      <td>2021-04-28 9:35:21</td>\n",
              "    </tr>\n",
              "    <tr>\n",
              "      <th>264604</th>\n",
              "      <td>266670</td>\n",
              "      <td>0</td>\n",
              "      <td>150</td>\n",
              "      <td>255</td>\n",
              "      <td>1</td>\n",
              "      <td>SCORE</td>\n",
              "      <td>6250</td>\n",
              "      <td>100</td>\n",
              "      <td>solution-3980</td>\n",
              "      <td>2</td>\n",
              "      <td>2021-05-11 1:34:57</td>\n",
              "      <td>2021-05-11 1:35:28</td>\n",
              "    </tr>\n",
              "    <tr>\n",
              "      <th>264605</th>\n",
              "      <td>266671</td>\n",
              "      <td>21</td>\n",
              "      <td>24</td>\n",
              "      <td>1568</td>\n",
              "      <td>0</td>\n",
              "      <td>SCORE</td>\n",
              "      <td>10000</td>\n",
              "      <td>100</td>\n",
              "      <td>solution-609</td>\n",
              "      <td>4</td>\n",
              "      <td>2021-05-13 17:17:17</td>\n",
              "      <td>2021-05-13 17:17:40</td>\n",
              "    </tr>\n",
              "  </tbody>\n",
              "</table>\n",
              "<p>264606 rows × 12 columns</p>\n",
              "</div>"
            ],
            "text/plain": [
              "            id  assignment_id  ...           created_at           updated_at\n",
              "0            4              0  ...  2020-10-30 10:58:11  2020-10-30 10:58:19\n",
              "1            5              0  ...  2020-10-30 11:07:09  2020-10-30 11:07:17\n",
              "2            6              0  ...  2020-10-30 11:08:01  2020-10-30 11:23:36\n",
              "3            7              0  ...  2020-10-30 11:11:41  2020-10-30 11:11:42\n",
              "4            8              0  ...  2020-10-30 11:15:06  2020-10-30 11:15:07\n",
              "...        ...            ...  ...                  ...                  ...\n",
              "264601  266667              0  ...   2021-04-28 9:34:20   2021-04-28 9:34:27\n",
              "264602  266668              0  ...   2021-04-28 9:35:07   2021-04-28 9:35:08\n",
              "264603  266669              0  ...   2021-04-28 9:35:15   2021-04-28 9:35:21\n",
              "264604  266670              0  ...   2021-05-11 1:34:57   2021-05-11 1:35:28\n",
              "264605  266671             21  ...  2021-05-13 17:17:17  2021-05-13 17:17:40\n",
              "\n",
              "[264606 rows x 12 columns]"
            ]
          },
          "metadata": {
            "tags": []
          },
          "execution_count": 5
        }
      ]
    },
    {
      "cell_type": "markdown",
      "metadata": {
        "id": "05BxBt7Ka5rQ"
      },
      "source": [
        "##Khám phá mục score"
      ]
    },
    {
      "cell_type": "code",
      "metadata": {
        "id": "1QRuDwg8udFS"
      },
      "source": [
        "discove_score = {'is_final': data_wecode['is_final'], 'pre_score': data_wecode['pre_score']}\n",
        "discove_score = pd.DataFrame(discove_score, columns=['is_final', 'pre_score'])"
      ],
      "execution_count": null,
      "outputs": []
    },
    {
      "cell_type": "code",
      "metadata": {
        "id": "aqiD2iOy6LdZ",
        "colab": {
          "base_uri": "https://localhost:8080/",
          "height": 419
        },
        "outputId": "43ad256c-4b4a-4c25-8587-ff96d45bcfaa"
      },
      "source": [
        "count_score = Counter(zip(discove_score['is_final'],discove_score['pre_score'])).items()\n",
        "show_score = pd.DataFrame(count_score, columns=['x', 'y'])\n",
        "show_score"
      ],
      "execution_count": null,
      "outputs": [
        {
          "output_type": "execute_result",
          "data": {
            "text/html": [
              "<div>\n",
              "<style scoped>\n",
              "    .dataframe tbody tr th:only-of-type {\n",
              "        vertical-align: middle;\n",
              "    }\n",
              "\n",
              "    .dataframe tbody tr th {\n",
              "        vertical-align: top;\n",
              "    }\n",
              "\n",
              "    .dataframe thead th {\n",
              "        text-align: right;\n",
              "    }\n",
              "</style>\n",
              "<table border=\"1\" class=\"dataframe\">\n",
              "  <thead>\n",
              "    <tr style=\"text-align: right;\">\n",
              "      <th></th>\n",
              "      <th>x</th>\n",
              "      <th>y</th>\n",
              "    </tr>\n",
              "  </thead>\n",
              "  <tbody>\n",
              "    <tr>\n",
              "      <th>0</th>\n",
              "      <td>(1, 10000)</td>\n",
              "      <td>95332</td>\n",
              "    </tr>\n",
              "    <tr>\n",
              "      <th>1</th>\n",
              "      <td>(0, 0)</td>\n",
              "      <td>79796</td>\n",
              "    </tr>\n",
              "    <tr>\n",
              "      <th>2</th>\n",
              "      <td>(0, 8000)</td>\n",
              "      <td>7976</td>\n",
              "    </tr>\n",
              "    <tr>\n",
              "      <th>3</th>\n",
              "      <td>(0, 10000)</td>\n",
              "      <td>4508</td>\n",
              "    </tr>\n",
              "    <tr>\n",
              "      <th>4</th>\n",
              "      <td>(1, 0)</td>\n",
              "      <td>2726</td>\n",
              "    </tr>\n",
              "    <tr>\n",
              "      <th>...</th>\n",
              "      <td>...</td>\n",
              "      <td>...</td>\n",
              "    </tr>\n",
              "    <tr>\n",
              "      <th>656</th>\n",
              "      <td>(0, 3583)</td>\n",
              "      <td>1</td>\n",
              "    </tr>\n",
              "    <tr>\n",
              "      <th>657</th>\n",
              "      <td>(1, 7250)</td>\n",
              "      <td>1</td>\n",
              "    </tr>\n",
              "    <tr>\n",
              "      <th>658</th>\n",
              "      <td>(0, 5583)</td>\n",
              "      <td>1</td>\n",
              "    </tr>\n",
              "    <tr>\n",
              "      <th>659</th>\n",
              "      <td>(0, 5666)</td>\n",
              "      <td>1</td>\n",
              "    </tr>\n",
              "    <tr>\n",
              "      <th>660</th>\n",
              "      <td>(0, 9259)</td>\n",
              "      <td>1</td>\n",
              "    </tr>\n",
              "  </tbody>\n",
              "</table>\n",
              "<p>661 rows × 2 columns</p>\n",
              "</div>"
            ],
            "text/plain": [
              "              x      y\n",
              "0    (1, 10000)  95332\n",
              "1        (0, 0)  79796\n",
              "2     (0, 8000)   7976\n",
              "3    (0, 10000)   4508\n",
              "4        (1, 0)   2726\n",
              "..          ...    ...\n",
              "656   (0, 3583)      1\n",
              "657   (1, 7250)      1\n",
              "658   (0, 5583)      1\n",
              "659   (0, 5666)      1\n",
              "660   (0, 9259)      1\n",
              "\n",
              "[661 rows x 2 columns]"
            ]
          },
          "metadata": {
            "tags": []
          },
          "execution_count": 71
        }
      ]
    },
    {
      "cell_type": "markdown",
      "metadata": {
        "id": "qC3EIhlva-We"
      },
      "source": [
        "##Tạo dataframe số lượng user_id kết với problem_id"
      ]
    },
    {
      "cell_type": "markdown",
      "metadata": {
        "id": "WKir_GG0KyMs"
      },
      "source": [
        "features:\n",
        "\n",
        "+ số lần nộp bài để pass(theo problem_id, user_id )\n",
        "+ time last submit - time first submit ( theo pro_id, user_id)\n",
        "+ max (pre_score) (theo pro_id, user_id)\n",
        "+ is_final = max(data_wecode['is_final']\n",
        "\n",
        "features table\n",
        "\n",
        "user_id | problem_id | số lần nộp | is_final | max(pre_score)|time|\n",
        "--------|------------|------------|------|----------------|--------|"
      ]
    },
    {
      "cell_type": "code",
      "metadata": {
        "id": "Oq88EPl95F_D"
      },
      "source": [
        "first_feature = {'user_id': data_wecode['user_id'], 'problem_id': data_wecode['problem_id']}\n",
        "first_feature = pd.DataFrame(first_feature, columns = ['user_id', 'problem_id'])\n",
        "\n",
        "#Đếm submit theo user_id và problem_id\n",
        "count_submit = Counter(zip(first_feature['user_id'], first_feature['problem_id'])).items()\n",
        "user_feature = pd.DataFrame(count_submit, columns=['user_id, problem_id', 'amount_submit'])#lúc này có user_id và problem_id chung 1 column\n",
        "\n",
        "#sắp xếp lại data - tách user_id và problem_id\n",
        "temp = pd.DataFrame(user_feature['user_id, problem_id'].tolist(), columns = ['user_id','problem_id']) #tạo temp = 2 cột user_id và problem_id khi tác ra\n",
        "del user_feature['user_id, problem_id'] #Xóa cột\n",
        "user_feature['user_id'], user_feature['problem_id'] = temp['user_id'], temp['problem_id']#thêm lại 2 cột\n",
        "cols = user_feature.columns.tolist()#sếp xếp lại\n",
        "cols = cols[-2:] + cols[:1]\n",
        "user_feature = user_feature[cols]\n",
        "#sort theo user_id_problem_id và set index\n",
        "user_feature = user_feature.sort_values(by=['user_id', 'problem_id']).set_index(pd.Index(range(len(user_feature))))"
      ],
      "execution_count": null,
      "outputs": []
    },
    {
      "cell_type": "markdown",
      "metadata": {
        "id": "xlLkSlPAiag8"
      },
      "source": [
        ">Lấy max điểm, time, is_final cho từng user_problem_id"
      ]
    },
    {
      "cell_type": "code",
      "metadata": {
        "id": "gByMKECqhqHN"
      },
      "source": [
        "other_feature_user = {'user_problem_id': pd.Series(zip(data_wecode['user_id'], data_wecode['problem_id'])), 'is_final': data_wecode['is_final'],\n",
        "                      'pre_score': data_wecode['pre_score'], 'time': data_wecode['updated_at']}\n",
        "other_feature_user = pd.DataFrame(other_feature_user, columns=['user_problem_id', 'is_final', 'pre_score', 'time'])\n",
        "other_feature_user = other_feature_user.sort_values(by='user_problem_id').set_index(pd.Index(range(len(other_feature_user))))\n",
        "other_feature = other_feature_user.groupby(['user_problem_id'], as_index=False).agg('max')"
      ],
      "execution_count": null,
      "outputs": []
    },
    {
      "cell_type": "code",
      "metadata": {
        "colab": {
          "base_uri": "https://localhost:8080/",
          "height": 419
        },
        "id": "nmnaY9FDq5bm",
        "outputId": "a016b8d4-62cc-46b9-d744-321d38932be7"
      },
      "source": [
        "#Đưa cột pre_score vào user_feature. Vì 2 bảng sort giống nhau nên việc thêm vào sẽ ko sai vị trí\n",
        "user_feature['is_final'], user_feature['pre_score'], user_feature['time'] = other_feature['is_final'], other_feature['pre_score'], other_feature['time']\n",
        "user_feature"
      ],
      "execution_count": null,
      "outputs": [
        {
          "output_type": "execute_result",
          "data": {
            "text/html": [
              "<div>\n",
              "<style scoped>\n",
              "    .dataframe tbody tr th:only-of-type {\n",
              "        vertical-align: middle;\n",
              "    }\n",
              "\n",
              "    .dataframe tbody tr th {\n",
              "        vertical-align: top;\n",
              "    }\n",
              "\n",
              "    .dataframe thead th {\n",
              "        text-align: right;\n",
              "    }\n",
              "</style>\n",
              "<table border=\"1\" class=\"dataframe\">\n",
              "  <thead>\n",
              "    <tr style=\"text-align: right;\">\n",
              "      <th></th>\n",
              "      <th>user_id</th>\n",
              "      <th>problem_id</th>\n",
              "      <th>amount_submit</th>\n",
              "      <th>is_final</th>\n",
              "      <th>pre_score</th>\n",
              "      <th>time</th>\n",
              "    </tr>\n",
              "  </thead>\n",
              "  <tbody>\n",
              "    <tr>\n",
              "      <th>0</th>\n",
              "      <td>1</td>\n",
              "      <td>81</td>\n",
              "      <td>1</td>\n",
              "      <td>1</td>\n",
              "      <td>0</td>\n",
              "      <td>2020-11-08 16:50:50</td>\n",
              "    </tr>\n",
              "    <tr>\n",
              "      <th>1</th>\n",
              "      <td>1</td>\n",
              "      <td>370</td>\n",
              "      <td>1</td>\n",
              "      <td>1</td>\n",
              "      <td>10000</td>\n",
              "      <td>2020-12-01 2:00:05</td>\n",
              "    </tr>\n",
              "    <tr>\n",
              "      <th>2</th>\n",
              "      <td>4</td>\n",
              "      <td>3</td>\n",
              "      <td>1</td>\n",
              "      <td>1</td>\n",
              "      <td>10000</td>\n",
              "      <td>2020-10-30 10:58:19</td>\n",
              "    </tr>\n",
              "    <tr>\n",
              "      <th>3</th>\n",
              "      <td>4</td>\n",
              "      <td>4</td>\n",
              "      <td>1</td>\n",
              "      <td>1</td>\n",
              "      <td>10000</td>\n",
              "      <td>2020-10-30 11:07:17</td>\n",
              "    </tr>\n",
              "    <tr>\n",
              "      <th>4</th>\n",
              "      <td>4</td>\n",
              "      <td>5</td>\n",
              "      <td>5</td>\n",
              "      <td>1</td>\n",
              "      <td>10000</td>\n",
              "      <td>2020-10-30 11:23:36</td>\n",
              "    </tr>\n",
              "    <tr>\n",
              "      <th>...</th>\n",
              "      <td>...</td>\n",
              "      <td>...</td>\n",
              "      <td>...</td>\n",
              "      <td>...</td>\n",
              "      <td>...</td>\n",
              "      <td>...</td>\n",
              "    </tr>\n",
              "    <tr>\n",
              "      <th>97185</th>\n",
              "      <td>1868</td>\n",
              "      <td>637</td>\n",
              "      <td>4</td>\n",
              "      <td>1</td>\n",
              "      <td>10000</td>\n",
              "      <td>2021-01-22 15:23:21</td>\n",
              "    </tr>\n",
              "    <tr>\n",
              "      <th>97186</th>\n",
              "      <td>1868</td>\n",
              "      <td>638</td>\n",
              "      <td>4</td>\n",
              "      <td>1</td>\n",
              "      <td>10000</td>\n",
              "      <td>2021-01-22 15:38:20</td>\n",
              "    </tr>\n",
              "    <tr>\n",
              "      <th>97187</th>\n",
              "      <td>1868</td>\n",
              "      <td>639</td>\n",
              "      <td>2</td>\n",
              "      <td>1</td>\n",
              "      <td>10000</td>\n",
              "      <td>2021-01-22 15:44:30</td>\n",
              "    </tr>\n",
              "    <tr>\n",
              "      <th>97188</th>\n",
              "      <td>1868</td>\n",
              "      <td>640</td>\n",
              "      <td>2</td>\n",
              "      <td>1</td>\n",
              "      <td>10000</td>\n",
              "      <td>2021-01-22 15:49:31</td>\n",
              "    </tr>\n",
              "    <tr>\n",
              "      <th>97189</th>\n",
              "      <td>1868</td>\n",
              "      <td>641</td>\n",
              "      <td>4</td>\n",
              "      <td>1</td>\n",
              "      <td>10000</td>\n",
              "      <td>2021-01-22 16:03:18</td>\n",
              "    </tr>\n",
              "  </tbody>\n",
              "</table>\n",
              "<p>97190 rows × 6 columns</p>\n",
              "</div>"
            ],
            "text/plain": [
              "       user_id  problem_id  ...  pre_score                 time\n",
              "0            1          81  ...          0  2020-11-08 16:50:50\n",
              "1            1         370  ...      10000   2020-12-01 2:00:05\n",
              "2            4           3  ...      10000  2020-10-30 10:58:19\n",
              "3            4           4  ...      10000  2020-10-30 11:07:17\n",
              "4            4           5  ...      10000  2020-10-30 11:23:36\n",
              "...        ...         ...  ...        ...                  ...\n",
              "97185     1868         637  ...      10000  2021-01-22 15:23:21\n",
              "97186     1868         638  ...      10000  2021-01-22 15:38:20\n",
              "97187     1868         639  ...      10000  2021-01-22 15:44:30\n",
              "97188     1868         640  ...      10000  2021-01-22 15:49:31\n",
              "97189     1868         641  ...      10000  2021-01-22 16:03:18\n",
              "\n",
              "[97190 rows x 6 columns]"
            ]
          },
          "metadata": {
            "tags": []
          },
          "execution_count": 15
        }
      ]
    },
    {
      "cell_type": "code",
      "metadata": {
        "id": "SSVSyPTIuoqp"
      },
      "source": [
        "#Lưu bằng vào driver-> chủ yếu khỏi chạy lại đoạn code trên vì code trên chạy lâu\n",
        "from google.colab import drive\n",
        "drive.mount('/content/drive')\n",
        "with open('/content/drive/MyDrive/Colab Notebooks/user_feature.csv', 'w') as f:\n",
        "  user_feature.to_csv(f, index=False)"
      ],
      "execution_count": null,
      "outputs": []
    },
    {
      "cell_type": "markdown",
      "metadata": {
        "id": "tjFz_KGH6tHk"
      },
      "source": [
        "##Continute"
      ]
    },
    {
      "cell_type": "code",
      "metadata": {
        "colab": {
          "base_uri": "https://localhost:8080/"
        },
        "id": "JoVCPQYJ67c4",
        "outputId": "84672d08-ece0-4f3a-c836-d3fa60428f34"
      },
      "source": [
        "\n",
        "from google.colab import drive\n",
        "drive.mount('/content/drive')"
      ],
      "execution_count": 6,
      "outputs": [
        {
          "output_type": "stream",
          "text": [
            "Mounted at /content/drive\n"
          ],
          "name": "stdout"
        }
      ]
    },
    {
      "cell_type": "code",
      "metadata": {
        "colab": {
          "base_uri": "https://localhost:8080/",
          "height": 419
        },
        "id": "Q9CxU-en7DoK",
        "outputId": "bd71e55d-1b8e-4131-ec36-b02ec7458e08"
      },
      "source": [
        "user_feature = pd.read_csv('/content/drive/MyDrive/Colab Notebooks/user_feature.csv')\n",
        "user_feature"
      ],
      "execution_count": 19,
      "outputs": [
        {
          "output_type": "execute_result",
          "data": {
            "text/html": [
              "<div>\n",
              "<style scoped>\n",
              "    .dataframe tbody tr th:only-of-type {\n",
              "        vertical-align: middle;\n",
              "    }\n",
              "\n",
              "    .dataframe tbody tr th {\n",
              "        vertical-align: top;\n",
              "    }\n",
              "\n",
              "    .dataframe thead th {\n",
              "        text-align: right;\n",
              "    }\n",
              "</style>\n",
              "<table border=\"1\" class=\"dataframe\">\n",
              "  <thead>\n",
              "    <tr style=\"text-align: right;\">\n",
              "      <th></th>\n",
              "      <th>user_id</th>\n",
              "      <th>problem_id</th>\n",
              "      <th>amount_submit</th>\n",
              "      <th>is_final</th>\n",
              "      <th>pre_score</th>\n",
              "      <th>time</th>\n",
              "    </tr>\n",
              "  </thead>\n",
              "  <tbody>\n",
              "    <tr>\n",
              "      <th>0</th>\n",
              "      <td>1</td>\n",
              "      <td>81</td>\n",
              "      <td>1</td>\n",
              "      <td>1</td>\n",
              "      <td>0</td>\n",
              "      <td>2020-11-08 16:50:50</td>\n",
              "    </tr>\n",
              "    <tr>\n",
              "      <th>1</th>\n",
              "      <td>1</td>\n",
              "      <td>370</td>\n",
              "      <td>1</td>\n",
              "      <td>1</td>\n",
              "      <td>10000</td>\n",
              "      <td>2020-12-01 2:00:05</td>\n",
              "    </tr>\n",
              "    <tr>\n",
              "      <th>2</th>\n",
              "      <td>4</td>\n",
              "      <td>3</td>\n",
              "      <td>1</td>\n",
              "      <td>1</td>\n",
              "      <td>10000</td>\n",
              "      <td>2020-10-30 10:58:19</td>\n",
              "    </tr>\n",
              "    <tr>\n",
              "      <th>3</th>\n",
              "      <td>4</td>\n",
              "      <td>4</td>\n",
              "      <td>1</td>\n",
              "      <td>1</td>\n",
              "      <td>10000</td>\n",
              "      <td>2020-10-30 11:07:17</td>\n",
              "    </tr>\n",
              "    <tr>\n",
              "      <th>4</th>\n",
              "      <td>4</td>\n",
              "      <td>5</td>\n",
              "      <td>5</td>\n",
              "      <td>1</td>\n",
              "      <td>10000</td>\n",
              "      <td>2020-10-30 11:23:36</td>\n",
              "    </tr>\n",
              "    <tr>\n",
              "      <th>...</th>\n",
              "      <td>...</td>\n",
              "      <td>...</td>\n",
              "      <td>...</td>\n",
              "      <td>...</td>\n",
              "      <td>...</td>\n",
              "      <td>...</td>\n",
              "    </tr>\n",
              "    <tr>\n",
              "      <th>97185</th>\n",
              "      <td>1868</td>\n",
              "      <td>637</td>\n",
              "      <td>4</td>\n",
              "      <td>1</td>\n",
              "      <td>10000</td>\n",
              "      <td>2021-01-22 15:23:21</td>\n",
              "    </tr>\n",
              "    <tr>\n",
              "      <th>97186</th>\n",
              "      <td>1868</td>\n",
              "      <td>638</td>\n",
              "      <td>4</td>\n",
              "      <td>1</td>\n",
              "      <td>10000</td>\n",
              "      <td>2021-01-22 15:38:20</td>\n",
              "    </tr>\n",
              "    <tr>\n",
              "      <th>97187</th>\n",
              "      <td>1868</td>\n",
              "      <td>639</td>\n",
              "      <td>2</td>\n",
              "      <td>1</td>\n",
              "      <td>10000</td>\n",
              "      <td>2021-01-22 15:44:30</td>\n",
              "    </tr>\n",
              "    <tr>\n",
              "      <th>97188</th>\n",
              "      <td>1868</td>\n",
              "      <td>640</td>\n",
              "      <td>2</td>\n",
              "      <td>1</td>\n",
              "      <td>10000</td>\n",
              "      <td>2021-01-22 15:49:31</td>\n",
              "    </tr>\n",
              "    <tr>\n",
              "      <th>97189</th>\n",
              "      <td>1868</td>\n",
              "      <td>641</td>\n",
              "      <td>4</td>\n",
              "      <td>1</td>\n",
              "      <td>10000</td>\n",
              "      <td>2021-01-22 16:03:18</td>\n",
              "    </tr>\n",
              "  </tbody>\n",
              "</table>\n",
              "<p>97190 rows × 6 columns</p>\n",
              "</div>"
            ],
            "text/plain": [
              "       user_id  problem_id  ...  pre_score                 time\n",
              "0            1          81  ...          0  2020-11-08 16:50:50\n",
              "1            1         370  ...      10000   2020-12-01 2:00:05\n",
              "2            4           3  ...      10000  2020-10-30 10:58:19\n",
              "3            4           4  ...      10000  2020-10-30 11:07:17\n",
              "4            4           5  ...      10000  2020-10-30 11:23:36\n",
              "...        ...         ...  ...        ...                  ...\n",
              "97185     1868         637  ...      10000  2021-01-22 15:23:21\n",
              "97186     1868         638  ...      10000  2021-01-22 15:38:20\n",
              "97187     1868         639  ...      10000  2021-01-22 15:44:30\n",
              "97188     1868         640  ...      10000  2021-01-22 15:49:31\n",
              "97189     1868         641  ...      10000  2021-01-22 16:03:18\n",
              "\n",
              "[97190 rows x 6 columns]"
            ]
          },
          "metadata": {
            "tags": []
          },
          "execution_count": 19
        }
      ]
    },
    {
      "cell_type": "markdown",
      "metadata": {
        "id": "JW_HmqDcBHjn"
      },
      "source": [
        "##Xử lý user_features"
      ]
    },
    {
      "cell_type": "markdown",
      "metadata": {
        "id": "LEkBP1iiDTl1"
      },
      "source": [
        "> Biến đổi về theo user_id để có thể ánh xạ với feature_score\n"
      ]
    },
    {
      "cell_type": "code",
      "metadata": {
        "id": "HN4AT6mh9Jbq"
      },
      "source": [
        "synthetic = user_feature.groupby(['user_id'], as_index=False).agg(list)"
      ],
      "execution_count": 20,
      "outputs": []
    },
    {
      "cell_type": "code",
      "metadata": {
        "colab": {
          "base_uri": "https://localhost:8080/",
          "height": 589
        },
        "id": "0BYgsCu6-B0N",
        "outputId": "f9e0b7ec-5d25-46cd-c23a-b679b0d8d175"
      },
      "source": [
        "synthetic"
      ],
      "execution_count": 21,
      "outputs": [
        {
          "output_type": "execute_result",
          "data": {
            "text/html": [
              "<div>\n",
              "<style scoped>\n",
              "    .dataframe tbody tr th:only-of-type {\n",
              "        vertical-align: middle;\n",
              "    }\n",
              "\n",
              "    .dataframe tbody tr th {\n",
              "        vertical-align: top;\n",
              "    }\n",
              "\n",
              "    .dataframe thead th {\n",
              "        text-align: right;\n",
              "    }\n",
              "</style>\n",
              "<table border=\"1\" class=\"dataframe\">\n",
              "  <thead>\n",
              "    <tr style=\"text-align: right;\">\n",
              "      <th></th>\n",
              "      <th>user_id</th>\n",
              "      <th>problem_id</th>\n",
              "      <th>amount_submit</th>\n",
              "      <th>is_final</th>\n",
              "      <th>pre_score</th>\n",
              "      <th>time</th>\n",
              "    </tr>\n",
              "  </thead>\n",
              "  <tbody>\n",
              "    <tr>\n",
              "      <th>0</th>\n",
              "      <td>1</td>\n",
              "      <td>[81, 370]</td>\n",
              "      <td>[1, 1]</td>\n",
              "      <td>[1, 1]</td>\n",
              "      <td>[0, 10000]</td>\n",
              "      <td>[2020-11-08 16:50:50, 2020-12-01 2:00:05]</td>\n",
              "    </tr>\n",
              "    <tr>\n",
              "      <th>1</th>\n",
              "      <td>4</td>\n",
              "      <td>[3, 4, 5, 6, 7, 8, 9, 81, 101, 104, 106, 107, ...</td>\n",
              "      <td>[1, 1, 5, 1, 1, 1, 1, 1, 2, 1, 1, 1, 1, 1, 1, ...</td>\n",
              "      <td>[1, 1, 1, 1, 1, 1, 1, 1, 1, 1, 1, 1, 1, 1, 1, ...</td>\n",
              "      <td>[10000, 10000, 10000, 10000, 10000, 10000, 100...</td>\n",
              "      <td>[2020-10-30 10:58:19, 2020-10-30 11:07:17, 202...</td>\n",
              "    </tr>\n",
              "    <tr>\n",
              "      <th>2</th>\n",
              "      <td>5</td>\n",
              "      <td>[1, 4, 81, 176, 243]</td>\n",
              "      <td>[1, 1, 1, 1, 2]</td>\n",
              "      <td>[1, 1, 1, 1, 1]</td>\n",
              "      <td>[10000, 10000, 0, 10000, 0]</td>\n",
              "      <td>[2020-11-20 3:01:22, 2020-11-20 8:58:15, 2020-...</td>\n",
              "    </tr>\n",
              "    <tr>\n",
              "      <th>3</th>\n",
              "      <td>6</td>\n",
              "      <td>[1, 3, 9, 80, 81, 82, 83, 84, 85, 86, 87, 88, ...</td>\n",
              "      <td>[2, 2, 1, 5, 2, 1, 4, 1, 1, 1, 4, 3, 3, 2, 1, ...</td>\n",
              "      <td>[1, 1, 1, 1, 1, 1, 1, 1, 1, 1, 1, 1, 1, 1, 1, ...</td>\n",
              "      <td>[0, 10000, 0, 10000, 10000, 10000, 10000, 1000...</td>\n",
              "      <td>[2020-11-05 3:30:52, 2020-11-05 5:22:57, 2020-...</td>\n",
              "    </tr>\n",
              "    <tr>\n",
              "      <th>4</th>\n",
              "      <td>7</td>\n",
              "      <td>[265, 390]</td>\n",
              "      <td>[2, 3]</td>\n",
              "      <td>[1, 1]</td>\n",
              "      <td>[8571, 638]</td>\n",
              "      <td>[2020-12-26 3:38:17, 2020-12-30 3:26:50]</td>\n",
              "    </tr>\n",
              "    <tr>\n",
              "      <th>...</th>\n",
              "      <td>...</td>\n",
              "      <td>...</td>\n",
              "      <td>...</td>\n",
              "      <td>...</td>\n",
              "      <td>...</td>\n",
              "      <td>...</td>\n",
              "    </tr>\n",
              "    <tr>\n",
              "      <th>1154</th>\n",
              "      <td>1860</td>\n",
              "      <td>[3, 4, 5, 7, 8, 9, 11, 25, 174, 175, 176, 177,...</td>\n",
              "      <td>[1, 2, 2, 3, 2, 1, 2, 2, 1, 2, 2, 4, 2, 1, 2, ...</td>\n",
              "      <td>[1, 1, 1, 1, 1, 1, 1, 1, 1, 1, 1, 1, 1, 1, 1, ...</td>\n",
              "      <td>[10000, 0, 10000, 0, 10000, 0, 0, 10000, 0, 10...</td>\n",
              "      <td>[2020-11-27 7:58:08, 2020-11-27 8:05:30, 2020-...</td>\n",
              "    </tr>\n",
              "    <tr>\n",
              "      <th>1155</th>\n",
              "      <td>1862</td>\n",
              "      <td>[1, 10, 11, 176, 181, 182]</td>\n",
              "      <td>[4, 2, 3, 1, 1, 1]</td>\n",
              "      <td>[1, 1, 1, 1, 1, 1]</td>\n",
              "      <td>[10000, 0, 0, 10000, 10000, 10000]</td>\n",
              "      <td>[2020-11-27 15:12:08, 2020-11-27 15:16:28, 202...</td>\n",
              "    </tr>\n",
              "    <tr>\n",
              "      <th>1156</th>\n",
              "      <td>1864</td>\n",
              "      <td>[1, 3, 4, 5, 6, 7, 8, 10, 11, 80, 81, 82, 84, ...</td>\n",
              "      <td>[5, 6, 10, 1, 3, 5, 5, 3, 12, 4, 5, 3, 2, 1, 1...</td>\n",
              "      <td>[1, 1, 1, 1, 1, 1, 1, 1, 1, 1, 1, 1, 1, 1, 1, ...</td>\n",
              "      <td>[10000, 10000, 10000, 10000, 0, 10000, 10000, ...</td>\n",
              "      <td>[2020-12-15 7:31:30, 2020-12-15 7:51:11, 2020-...</td>\n",
              "    </tr>\n",
              "    <tr>\n",
              "      <th>1157</th>\n",
              "      <td>1865</td>\n",
              "      <td>[343, 344, 345, 346, 347, 348, 349, 352, 353, ...</td>\n",
              "      <td>[6, 5, 10, 9, 8, 12, 5, 6, 1, 3, 7, 7, 3, 2, 1...</td>\n",
              "      <td>[1, 1, 1, 1, 1, 1, 1, 1, 1, 1, 1, 1, 1, 1, 1, ...</td>\n",
              "      <td>[1000, 1000, 1000, 10000, 10000, 10000, 10000,...</td>\n",
              "      <td>[2021-01-12 15:42:25, 2021-01-12 15:26:02, 202...</td>\n",
              "    </tr>\n",
              "    <tr>\n",
              "      <th>1158</th>\n",
              "      <td>1868</td>\n",
              "      <td>[569, 575, 576, 583, 584, 585, 586, 615, 616, ...</td>\n",
              "      <td>[2, 2, 3, 2, 2, 3, 5, 3, 2, 1, 1, 1, 2, 1, 1, ...</td>\n",
              "      <td>[1, 1, 1, 1, 1, 1, 1, 1, 1, 1, 1, 1, 1, 1, 1, ...</td>\n",
              "      <td>[10000, 10000, 10000, 10000, 10000, 10000, 100...</td>\n",
              "      <td>[2021-01-21 6:19:21, 2021-01-21 6:25:00, 2021-...</td>\n",
              "    </tr>\n",
              "  </tbody>\n",
              "</table>\n",
              "<p>1159 rows × 6 columns</p>\n",
              "</div>"
            ],
            "text/plain": [
              "      user_id  ...                                               time\n",
              "0           1  ...          [2020-11-08 16:50:50, 2020-12-01 2:00:05]\n",
              "1           4  ...  [2020-10-30 10:58:19, 2020-10-30 11:07:17, 202...\n",
              "2           5  ...  [2020-11-20 3:01:22, 2020-11-20 8:58:15, 2020-...\n",
              "3           6  ...  [2020-11-05 3:30:52, 2020-11-05 5:22:57, 2020-...\n",
              "4           7  ...           [2020-12-26 3:38:17, 2020-12-30 3:26:50]\n",
              "...       ...  ...                                                ...\n",
              "1154     1860  ...  [2020-11-27 7:58:08, 2020-11-27 8:05:30, 2020-...\n",
              "1155     1862  ...  [2020-11-27 15:12:08, 2020-11-27 15:16:28, 202...\n",
              "1156     1864  ...  [2020-12-15 7:31:30, 2020-12-15 7:51:11, 2020-...\n",
              "1157     1865  ...  [2021-01-12 15:42:25, 2021-01-12 15:26:02, 202...\n",
              "1158     1868  ...  [2021-01-21 6:19:21, 2021-01-21 6:25:00, 2021-...\n",
              "\n",
              "[1159 rows x 6 columns]"
            ]
          },
          "metadata": {
            "tags": []
          },
          "execution_count": 21
        }
      ]
    },
    {
      "cell_type": "code",
      "metadata": {
        "id": "oTCoKYT6QP9S"
      },
      "source": [
        "count_sb_problem = Counter(data_wecode['problem_id']).items()\n",
        "score_table = pd.DataFrame(count_sb_problem, columns=['problem_id', 'amount_submit'])\n",
        "max_submit = max(score_table['amount_submit'])\n",
        "score_table['score'] = score_table['amount_submit'] * 10 / max_submit\n",
        "score_table = score_table.set_index('problem_id')"
      ],
      "execution_count": 13,
      "outputs": []
    },
    {
      "cell_type": "code",
      "metadata": {
        "id": "EUllqTQgaFo3",
        "colab": {
          "base_uri": "https://localhost:8080/",
          "height": 450
        },
        "outputId": "c3d8c9d2-dfd8-4757-97b4-7735e42edb29"
      },
      "source": [
        "score_table"
      ],
      "execution_count": 14,
      "outputs": [
        {
          "output_type": "execute_result",
          "data": {
            "text/html": [
              "<div>\n",
              "<style scoped>\n",
              "    .dataframe tbody tr th:only-of-type {\n",
              "        vertical-align: middle;\n",
              "    }\n",
              "\n",
              "    .dataframe tbody tr th {\n",
              "        vertical-align: top;\n",
              "    }\n",
              "\n",
              "    .dataframe thead th {\n",
              "        text-align: right;\n",
              "    }\n",
              "</style>\n",
              "<table border=\"1\" class=\"dataframe\">\n",
              "  <thead>\n",
              "    <tr style=\"text-align: right;\">\n",
              "      <th></th>\n",
              "      <th>amount_submit</th>\n",
              "      <th>score</th>\n",
              "    </tr>\n",
              "    <tr>\n",
              "      <th>problem_id</th>\n",
              "      <th></th>\n",
              "      <th></th>\n",
              "    </tr>\n",
              "  </thead>\n",
              "  <tbody>\n",
              "    <tr>\n",
              "      <th>3</th>\n",
              "      <td>2992</td>\n",
              "      <td>6.322908</td>\n",
              "    </tr>\n",
              "    <tr>\n",
              "      <th>4</th>\n",
              "      <td>4213</td>\n",
              "      <td>8.903212</td>\n",
              "    </tr>\n",
              "    <tr>\n",
              "      <th>5</th>\n",
              "      <td>1271</td>\n",
              "      <td>2.685968</td>\n",
              "    </tr>\n",
              "    <tr>\n",
              "      <th>6</th>\n",
              "      <td>4417</td>\n",
              "      <td>9.334320</td>\n",
              "    </tr>\n",
              "    <tr>\n",
              "      <th>7</th>\n",
              "      <td>1821</td>\n",
              "      <td>3.848267</td>\n",
              "    </tr>\n",
              "    <tr>\n",
              "      <th>...</th>\n",
              "      <td>...</td>\n",
              "      <td>...</td>\n",
              "    </tr>\n",
              "    <tr>\n",
              "      <th>692</th>\n",
              "      <td>5</td>\n",
              "      <td>0.010566</td>\n",
              "    </tr>\n",
              "    <tr>\n",
              "      <th>697</th>\n",
              "      <td>23</td>\n",
              "      <td>0.048605</td>\n",
              "    </tr>\n",
              "    <tr>\n",
              "      <th>698</th>\n",
              "      <td>17</td>\n",
              "      <td>0.035926</td>\n",
              "    </tr>\n",
              "    <tr>\n",
              "      <th>695</th>\n",
              "      <td>29</td>\n",
              "      <td>0.061285</td>\n",
              "    </tr>\n",
              "    <tr>\n",
              "      <th>696</th>\n",
              "      <td>20</td>\n",
              "      <td>0.042265</td>\n",
              "    </tr>\n",
              "  </tbody>\n",
              "</table>\n",
              "<p>634 rows × 2 columns</p>\n",
              "</div>"
            ],
            "text/plain": [
              "            amount_submit     score\n",
              "problem_id                         \n",
              "3                    2992  6.322908\n",
              "4                    4213  8.903212\n",
              "5                    1271  2.685968\n",
              "6                    4417  9.334320\n",
              "7                    1821  3.848267\n",
              "...                   ...       ...\n",
              "692                     5  0.010566\n",
              "697                    23  0.048605\n",
              "698                    17  0.035926\n",
              "695                    29  0.061285\n",
              "696                    20  0.042265\n",
              "\n",
              "[634 rows x 2 columns]"
            ]
          },
          "metadata": {
            "tags": []
          },
          "execution_count": 14
        }
      ]
    },
    {
      "cell_type": "markdown",
      "metadata": {
        "id": "PHdqxSakSK8r"
      },
      "source": [
        "#**Score Data**"
      ]
    },
    {
      "cell_type": "code",
      "metadata": {
        "id": "FYnWBoyh_bES"
      },
      "source": [
        "features_score = {'id': data_score['id'], 'CK': data_score['CK']}\n",
        "features_score = pd.DataFrame(features_score, columns = ['id', 'CK'])"
      ],
      "execution_count": 28,
      "outputs": []
    },
    {
      "cell_type": "code",
      "metadata": {
        "id": "T7jQ3pEC_4yd",
        "colab": {
          "base_uri": "https://localhost:8080/",
          "height": 419
        },
        "outputId": "3dd40eec-1b88-4606-d111-ce618683a431"
      },
      "source": [
        "features_score"
      ],
      "execution_count": 29,
      "outputs": [
        {
          "output_type": "execute_result",
          "data": {
            "text/html": [
              "<div>\n",
              "<style scoped>\n",
              "    .dataframe tbody tr th:only-of-type {\n",
              "        vertical-align: middle;\n",
              "    }\n",
              "\n",
              "    .dataframe tbody tr th {\n",
              "        vertical-align: top;\n",
              "    }\n",
              "\n",
              "    .dataframe thead th {\n",
              "        text-align: right;\n",
              "    }\n",
              "</style>\n",
              "<table border=\"1\" class=\"dataframe\">\n",
              "  <thead>\n",
              "    <tr style=\"text-align: right;\">\n",
              "      <th></th>\n",
              "      <th>id</th>\n",
              "      <th>CK</th>\n",
              "    </tr>\n",
              "  </thead>\n",
              "  <tbody>\n",
              "    <tr>\n",
              "      <th>0</th>\n",
              "      <td>22</td>\n",
              "      <td>8.5</td>\n",
              "    </tr>\n",
              "    <tr>\n",
              "      <th>1</th>\n",
              "      <td>24</td>\n",
              "      <td>9.5</td>\n",
              "    </tr>\n",
              "    <tr>\n",
              "      <th>2</th>\n",
              "      <td>27</td>\n",
              "      <td>10</td>\n",
              "    </tr>\n",
              "    <tr>\n",
              "      <th>3</th>\n",
              "      <td>28</td>\n",
              "      <td>9.5</td>\n",
              "    </tr>\n",
              "    <tr>\n",
              "      <th>4</th>\n",
              "      <td>29</td>\n",
              "      <td>8.5</td>\n",
              "    </tr>\n",
              "    <tr>\n",
              "      <th>...</th>\n",
              "      <td>...</td>\n",
              "      <td>...</td>\n",
              "    </tr>\n",
              "    <tr>\n",
              "      <th>970</th>\n",
              "      <td>1857</td>\n",
              "      <td>4</td>\n",
              "    </tr>\n",
              "    <tr>\n",
              "      <th>971</th>\n",
              "      <td>1859</td>\n",
              "      <td>1.5</td>\n",
              "    </tr>\n",
              "    <tr>\n",
              "      <th>972</th>\n",
              "      <td>1862</td>\n",
              "      <td>7.5</td>\n",
              "    </tr>\n",
              "    <tr>\n",
              "      <th>973</th>\n",
              "      <td>1865</td>\n",
              "      <td>7.5</td>\n",
              "    </tr>\n",
              "    <tr>\n",
              "      <th>974</th>\n",
              "      <td>1866</td>\n",
              "      <td>5</td>\n",
              "    </tr>\n",
              "  </tbody>\n",
              "</table>\n",
              "<p>975 rows × 2 columns</p>\n",
              "</div>"
            ],
            "text/plain": [
              "       id   CK\n",
              "0      22  8.5\n",
              "1      24  9.5\n",
              "2      27   10\n",
              "3      28  9.5\n",
              "4      29  8.5\n",
              "..    ...  ...\n",
              "970  1857    4\n",
              "971  1859  1.5\n",
              "972  1862  7.5\n",
              "973  1865  7.5\n",
              "974  1866    5\n",
              "\n",
              "[975 rows x 2 columns]"
            ]
          },
          "metadata": {
            "tags": []
          },
          "execution_count": 29
        }
      ]
    },
    {
      "cell_type": "markdown",
      "metadata": {
        "id": "FdK7-GYD-KLq"
      },
      "source": [
        "# **Nhận Xét**"
      ]
    }
  ]
}