{
  "nbformat": 4,
  "nbformat_minor": 0,
  "metadata": {
    "colab": {
      "name": "draft.ipynb",
      "provenance": [],
      "collapsed_sections": [],
      "include_colab_link": true
    },
    "kernelspec": {
      "display_name": "Python 3",
      "name": "python3"
    }
  },
  "cells": [
    {
      "cell_type": "markdown",
      "metadata": {
        "id": "view-in-github",
        "colab_type": "text"
      },
      "source": [
        "<a href=\"https://colab.research.google.com/github/phutaekwondo/CS114.L21/blob/main/duDoanDiemCuoiKy_homeWork/draft.ipynb\" target=\"_parent\"><img src=\"https://colab.research.google.com/assets/colab-badge.svg\" alt=\"Open In Colab\"/></a>"
      ]
    },
    {
      "cell_type": "markdown",
      "metadata": {
        "id": "upq6wNNY-eYa"
      },
      "source": [
        "># **Data Discovery**\n",
        "\n",
        "---"
      ]
    },
    {
      "cell_type": "markdown",
      "metadata": {
        "id": "xRkHA3Vd-eSR"
      },
      "source": [
        "##**Nhóm thực hiện**\n",
        "1. Lại Nguyễn Vĩnh Phú - 19522020\n",
        "2. Nguyễn Chí Cường - 19521299\n",
        "3. Trương Thế Trương - 19522447"
      ]
    },
    {
      "cell_type": "markdown",
      "metadata": {
        "id": "X1nVySPM-eKi"
      },
      "source": [
        "##***Dữ liệu***\n",
        "\n",
        "1. [We code](https://github.com/phutaekwondo/CS114.L21/blob/main/duDoanDiemCuoiKy_homeWork/wecode.csv)\n",
        "2. [score training](https://github.com/phutaekwondo/CS114.L21/blob/main/duDoanDiemCuoiKy_homeWork/score.csv)"
      ]
    },
    {
      "cell_type": "markdown",
      "metadata": {
        "id": "WKir_GG0KyMs"
      },
      "source": [
        "features:\n",
        "\n",
        "+ số lần nộp bài để pass(theo problem_id, user_id )\n",
        "+ time last submit - time first submit ( theo pro_id, user_id)\n",
        "+ max (pre_score) (theo pro_id, user_id)\n",
        "\n",
        "features table\n",
        "\n",
        "user_id | problem_id | số lần nộp | time | max(pre_score) |\n",
        "--------|------------|------------|------|----------------|"
      ]
    },
    {
      "cell_type": "code",
      "metadata": {
        "id": "wbGN1BmsB6Lm"
      },
      "source": [
        "import pandas as pd\n",
        "import numpy as np"
      ],
      "execution_count": null,
      "outputs": []
    },
    {
      "cell_type": "code",
      "metadata": {
        "colab": {
          "base_uri": "https://localhost:8080/"
        },
        "id": "l4_YOjbO9USj",
        "outputId": "763997b7-1fc4-4819-b79c-96c8e3fce784"
      },
      "source": [
        "!git clone https://github.com/phutaekwondo/CS114.L21"
      ],
      "execution_count": 66,
      "outputs": [
        {
          "output_type": "stream",
          "text": [
            "fatal: destination path 'CS114.L21' already exists and is not an empty directory.\n"
          ],
          "name": "stdout"
        }
      ]
    },
    {
      "cell_type": "code",
      "metadata": {
        "id": "Pb0iK2ee9l46"
      },
      "source": [
        "url_wecode = '/content/CS114.L21/duDoanDiemCuoiKy_homeWork/wecode.csv'\n",
        "url_score = '/content/CS114.L21/duDoanDiemCuoiKy_homeWork/score.csv'"
      ],
      "execution_count": 67,
      "outputs": []
    },
    {
      "cell_type": "code",
      "metadata": {
        "id": "7jqODf6oE9yf"
      },
      "source": [
        "data_wecode = pd.read_csv(url_wecode)\n",
        "data_score = pd.read_csv(url_score)"
      ],
      "execution_count": 68,
      "outputs": []
    },
    {
      "cell_type": "code",
      "metadata": {
        "colab": {
          "base_uri": "https://localhost:8080/",
          "height": 609
        },
        "id": "1QRuDwg8udFS",
        "outputId": "939763a0-8a65-4252-815e-448177dcd4cb"
      },
      "source": [
        "data_wecode"
      ],
      "execution_count": 69,
      "outputs": [
        {
          "output_type": "execute_result",
          "data": {
            "text/html": [
              "<div>\n",
              "<style scoped>\n",
              "    .dataframe tbody tr th:only-of-type {\n",
              "        vertical-align: middle;\n",
              "    }\n",
              "\n",
              "    .dataframe tbody tr th {\n",
              "        vertical-align: top;\n",
              "    }\n",
              "\n",
              "    .dataframe thead th {\n",
              "        text-align: right;\n",
              "    }\n",
              "</style>\n",
              "<table border=\"1\" class=\"dataframe\">\n",
              "  <thead>\n",
              "    <tr style=\"text-align: right;\">\n",
              "      <th></th>\n",
              "      <th>id</th>\n",
              "      <th>assignment_id</th>\n",
              "      <th>problem_id</th>\n",
              "      <th>user_id</th>\n",
              "      <th>is_final</th>\n",
              "      <th>status</th>\n",
              "      <th>pre_score</th>\n",
              "      <th>coefficient</th>\n",
              "      <th>file_name</th>\n",
              "      <th>language_id</th>\n",
              "      <th>created_at</th>\n",
              "      <th>updated_at</th>\n",
              "    </tr>\n",
              "  </thead>\n",
              "  <tbody>\n",
              "    <tr>\n",
              "      <th>0</th>\n",
              "      <td>4</td>\n",
              "      <td>0</td>\n",
              "      <td>3</td>\n",
              "      <td>4</td>\n",
              "      <td>1</td>\n",
              "      <td>SCORE</td>\n",
              "      <td>10000</td>\n",
              "      <td>100</td>\n",
              "      <td>solution-0</td>\n",
              "      <td>2</td>\n",
              "      <td>2020-10-30 10:58:11</td>\n",
              "      <td>2020-10-30 10:58:19</td>\n",
              "    </tr>\n",
              "    <tr>\n",
              "      <th>1</th>\n",
              "      <td>5</td>\n",
              "      <td>0</td>\n",
              "      <td>4</td>\n",
              "      <td>4</td>\n",
              "      <td>1</td>\n",
              "      <td>SCORE</td>\n",
              "      <td>10000</td>\n",
              "      <td>100</td>\n",
              "      <td>solution-1</td>\n",
              "      <td>2</td>\n",
              "      <td>2020-10-30 11:07:09</td>\n",
              "      <td>2020-10-30 11:07:17</td>\n",
              "    </tr>\n",
              "    <tr>\n",
              "      <th>2</th>\n",
              "      <td>6</td>\n",
              "      <td>0</td>\n",
              "      <td>5</td>\n",
              "      <td>4</td>\n",
              "      <td>0</td>\n",
              "      <td>Compilation Error</td>\n",
              "      <td>0</td>\n",
              "      <td>100</td>\n",
              "      <td>solution-2</td>\n",
              "      <td>2</td>\n",
              "      <td>2020-10-30 11:08:01</td>\n",
              "      <td>2020-10-30 11:23:36</td>\n",
              "    </tr>\n",
              "    <tr>\n",
              "      <th>3</th>\n",
              "      <td>7</td>\n",
              "      <td>0</td>\n",
              "      <td>5</td>\n",
              "      <td>4</td>\n",
              "      <td>0</td>\n",
              "      <td>Compilation Error</td>\n",
              "      <td>0</td>\n",
              "      <td>100</td>\n",
              "      <td>solution-3</td>\n",
              "      <td>2</td>\n",
              "      <td>2020-10-30 11:11:41</td>\n",
              "      <td>2020-10-30 11:11:42</td>\n",
              "    </tr>\n",
              "    <tr>\n",
              "      <th>4</th>\n",
              "      <td>8</td>\n",
              "      <td>0</td>\n",
              "      <td>5</td>\n",
              "      <td>4</td>\n",
              "      <td>0</td>\n",
              "      <td>Compilation Error</td>\n",
              "      <td>0</td>\n",
              "      <td>100</td>\n",
              "      <td>solution-4</td>\n",
              "      <td>2</td>\n",
              "      <td>2020-10-30 11:15:06</td>\n",
              "      <td>2020-10-30 11:15:07</td>\n",
              "    </tr>\n",
              "    <tr>\n",
              "      <th>...</th>\n",
              "      <td>...</td>\n",
              "      <td>...</td>\n",
              "      <td>...</td>\n",
              "      <td>...</td>\n",
              "      <td>...</td>\n",
              "      <td>...</td>\n",
              "      <td>...</td>\n",
              "      <td>...</td>\n",
              "      <td>...</td>\n",
              "      <td>...</td>\n",
              "      <td>...</td>\n",
              "      <td>...</td>\n",
              "    </tr>\n",
              "    <tr>\n",
              "      <th>264601</th>\n",
              "      <td>266667</td>\n",
              "      <td>0</td>\n",
              "      <td>25</td>\n",
              "      <td>1796</td>\n",
              "      <td>0</td>\n",
              "      <td>SCORE</td>\n",
              "      <td>0</td>\n",
              "      <td>100</td>\n",
              "      <td>solution-3977</td>\n",
              "      <td>4</td>\n",
              "      <td>2021-04-28 9:34:20</td>\n",
              "      <td>2021-04-28 9:34:27</td>\n",
              "    </tr>\n",
              "    <tr>\n",
              "      <th>264602</th>\n",
              "      <td>266668</td>\n",
              "      <td>0</td>\n",
              "      <td>25</td>\n",
              "      <td>1796</td>\n",
              "      <td>0</td>\n",
              "      <td>Compilation Error</td>\n",
              "      <td>0</td>\n",
              "      <td>100</td>\n",
              "      <td>solution-3978</td>\n",
              "      <td>2</td>\n",
              "      <td>2021-04-28 9:35:07</td>\n",
              "      <td>2021-04-28 9:35:08</td>\n",
              "    </tr>\n",
              "    <tr>\n",
              "      <th>264603</th>\n",
              "      <td>266669</td>\n",
              "      <td>0</td>\n",
              "      <td>25</td>\n",
              "      <td>1796</td>\n",
              "      <td>1</td>\n",
              "      <td>SCORE</td>\n",
              "      <td>10000</td>\n",
              "      <td>100</td>\n",
              "      <td>solution-3979</td>\n",
              "      <td>4</td>\n",
              "      <td>2021-04-28 9:35:15</td>\n",
              "      <td>2021-04-28 9:35:21</td>\n",
              "    </tr>\n",
              "    <tr>\n",
              "      <th>264604</th>\n",
              "      <td>266670</td>\n",
              "      <td>0</td>\n",
              "      <td>150</td>\n",
              "      <td>255</td>\n",
              "      <td>1</td>\n",
              "      <td>SCORE</td>\n",
              "      <td>6250</td>\n",
              "      <td>100</td>\n",
              "      <td>solution-3980</td>\n",
              "      <td>2</td>\n",
              "      <td>2021-05-11 1:34:57</td>\n",
              "      <td>2021-05-11 1:35:28</td>\n",
              "    </tr>\n",
              "    <tr>\n",
              "      <th>264605</th>\n",
              "      <td>266671</td>\n",
              "      <td>21</td>\n",
              "      <td>24</td>\n",
              "      <td>1568</td>\n",
              "      <td>0</td>\n",
              "      <td>SCORE</td>\n",
              "      <td>10000</td>\n",
              "      <td>100</td>\n",
              "      <td>solution-609</td>\n",
              "      <td>4</td>\n",
              "      <td>2021-05-13 17:17:17</td>\n",
              "      <td>2021-05-13 17:17:40</td>\n",
              "    </tr>\n",
              "  </tbody>\n",
              "</table>\n",
              "<p>264606 rows × 12 columns</p>\n",
              "</div>"
            ],
            "text/plain": [
              "            id  assignment_id  ...           created_at           updated_at\n",
              "0            4              0  ...  2020-10-30 10:58:11  2020-10-30 10:58:19\n",
              "1            5              0  ...  2020-10-30 11:07:09  2020-10-30 11:07:17\n",
              "2            6              0  ...  2020-10-30 11:08:01  2020-10-30 11:23:36\n",
              "3            7              0  ...  2020-10-30 11:11:41  2020-10-30 11:11:42\n",
              "4            8              0  ...  2020-10-30 11:15:06  2020-10-30 11:15:07\n",
              "...        ...            ...  ...                  ...                  ...\n",
              "264601  266667              0  ...   2021-04-28 9:34:20   2021-04-28 9:34:27\n",
              "264602  266668              0  ...   2021-04-28 9:35:07   2021-04-28 9:35:08\n",
              "264603  266669              0  ...   2021-04-28 9:35:15   2021-04-28 9:35:21\n",
              "264604  266670              0  ...   2021-05-11 1:34:57   2021-05-11 1:35:28\n",
              "264605  266671             21  ...  2021-05-13 17:17:17  2021-05-13 17:17:40\n",
              "\n",
              "[264606 rows x 12 columns]"
            ]
          },
          "metadata": {
            "tags": []
          },
          "execution_count": 69
        }
      ]
    },
    {
      "cell_type": "code",
      "metadata": {
        "id": "Famp8fOfJ4TT"
      },
      "source": [
        "features_wecode = {'user_id': data_wecode['user_id'], 'problem_id': data_wecode['problem_id']}\n",
        "features_wecode = pd.DataFrame(features_wecode, columns = ['user_id', 'problem_id'])"
      ],
      "execution_count": 76,
      "outputs": []
    },
    {
      "cell_type": "code",
      "metadata": {
        "colab": {
          "base_uri": "https://localhost:8080/",
          "height": 419
        },
        "id": "D6WeQCcDOJqZ",
        "outputId": "81911adf-5028-4637-de01-ecb2f55b8a5e"
      },
      "source": [
        "features_wecode"
      ],
      "execution_count": 72,
      "outputs": [
        {
          "output_type": "execute_result",
          "data": {
            "text/html": [
              "<div>\n",
              "<style scoped>\n",
              "    .dataframe tbody tr th:only-of-type {\n",
              "        vertical-align: middle;\n",
              "    }\n",
              "\n",
              "    .dataframe tbody tr th {\n",
              "        vertical-align: top;\n",
              "    }\n",
              "\n",
              "    .dataframe thead th {\n",
              "        text-align: right;\n",
              "    }\n",
              "</style>\n",
              "<table border=\"1\" class=\"dataframe\">\n",
              "  <thead>\n",
              "    <tr style=\"text-align: right;\">\n",
              "      <th></th>\n",
              "      <th>user_id</th>\n",
              "      <th>problem_id</th>\n",
              "    </tr>\n",
              "  </thead>\n",
              "  <tbody>\n",
              "    <tr>\n",
              "      <th>0</th>\n",
              "      <td>4</td>\n",
              "      <td>3</td>\n",
              "    </tr>\n",
              "    <tr>\n",
              "      <th>1</th>\n",
              "      <td>4</td>\n",
              "      <td>4</td>\n",
              "    </tr>\n",
              "    <tr>\n",
              "      <th>2</th>\n",
              "      <td>4</td>\n",
              "      <td>5</td>\n",
              "    </tr>\n",
              "    <tr>\n",
              "      <th>3</th>\n",
              "      <td>4</td>\n",
              "      <td>5</td>\n",
              "    </tr>\n",
              "    <tr>\n",
              "      <th>4</th>\n",
              "      <td>4</td>\n",
              "      <td>5</td>\n",
              "    </tr>\n",
              "    <tr>\n",
              "      <th>...</th>\n",
              "      <td>...</td>\n",
              "      <td>...</td>\n",
              "    </tr>\n",
              "    <tr>\n",
              "      <th>264601</th>\n",
              "      <td>1796</td>\n",
              "      <td>25</td>\n",
              "    </tr>\n",
              "    <tr>\n",
              "      <th>264602</th>\n",
              "      <td>1796</td>\n",
              "      <td>25</td>\n",
              "    </tr>\n",
              "    <tr>\n",
              "      <th>264603</th>\n",
              "      <td>1796</td>\n",
              "      <td>25</td>\n",
              "    </tr>\n",
              "    <tr>\n",
              "      <th>264604</th>\n",
              "      <td>255</td>\n",
              "      <td>150</td>\n",
              "    </tr>\n",
              "    <tr>\n",
              "      <th>264605</th>\n",
              "      <td>1568</td>\n",
              "      <td>24</td>\n",
              "    </tr>\n",
              "  </tbody>\n",
              "</table>\n",
              "<p>264606 rows × 2 columns</p>\n",
              "</div>"
            ],
            "text/plain": [
              "        user_id  problem_id\n",
              "0             4           3\n",
              "1             4           4\n",
              "2             4           5\n",
              "3             4           5\n",
              "4             4           5\n",
              "...         ...         ...\n",
              "264601     1796          25\n",
              "264602     1796          25\n",
              "264603     1796          25\n",
              "264604      255         150\n",
              "264605     1568          24\n",
              "\n",
              "[264606 rows x 2 columns]"
            ]
          },
          "metadata": {
            "tags": []
          },
          "execution_count": 72
        }
      ]
    },
    {
      "cell_type": "code",
      "metadata": {
        "id": "Oq88EPl95F_D"
      },
      "source": [
        "from collections import Counter\n",
        "count_submit = Counter(features_wecode['user_id']).items()"
      ],
      "execution_count": 78,
      "outputs": []
    },
    {
      "cell_type": "code",
      "metadata": {
        "id": "E-RNA4re5KBa"
      },
      "source": [
        "count_submit\n",
        "data_submit = pd.DataFrame(count_submit, columns=['user_id', 'amount_submit'])"
      ],
      "execution_count": 83,
      "outputs": []
    },
    {
      "cell_type": "code",
      "metadata": {
        "colab": {
          "base_uri": "https://localhost:8080/",
          "height": 419
        },
        "id": "H2DpMVthATDD",
        "outputId": "c9bd650d-b7de-44a3-ef11-4d72d5f8e4a5"
      },
      "source": [
        "data_submit"
      ],
      "execution_count": 84,
      "outputs": [
        {
          "output_type": "execute_result",
          "data": {
            "text/html": [
              "<div>\n",
              "<style scoped>\n",
              "    .dataframe tbody tr th:only-of-type {\n",
              "        vertical-align: middle;\n",
              "    }\n",
              "\n",
              "    .dataframe tbody tr th {\n",
              "        vertical-align: top;\n",
              "    }\n",
              "\n",
              "    .dataframe thead th {\n",
              "        text-align: right;\n",
              "    }\n",
              "</style>\n",
              "<table border=\"1\" class=\"dataframe\">\n",
              "  <thead>\n",
              "    <tr style=\"text-align: right;\">\n",
              "      <th></th>\n",
              "      <th>user_id</th>\n",
              "      <th>amount_submit</th>\n",
              "    </tr>\n",
              "  </thead>\n",
              "  <tbody>\n",
              "    <tr>\n",
              "      <th>0</th>\n",
              "      <td>4</td>\n",
              "      <td>54</td>\n",
              "    </tr>\n",
              "    <tr>\n",
              "      <th>1</th>\n",
              "      <td>1439</td>\n",
              "      <td>268</td>\n",
              "    </tr>\n",
              "    <tr>\n",
              "      <th>2</th>\n",
              "      <td>1549</td>\n",
              "      <td>216</td>\n",
              "    </tr>\n",
              "    <tr>\n",
              "      <th>3</th>\n",
              "      <td>1517</td>\n",
              "      <td>420</td>\n",
              "    </tr>\n",
              "    <tr>\n",
              "      <th>4</th>\n",
              "      <td>715</td>\n",
              "      <td>239</td>\n",
              "    </tr>\n",
              "    <tr>\n",
              "      <th>...</th>\n",
              "      <td>...</td>\n",
              "      <td>...</td>\n",
              "    </tr>\n",
              "    <tr>\n",
              "      <th>1154</th>\n",
              "      <td>644</td>\n",
              "      <td>57</td>\n",
              "    </tr>\n",
              "    <tr>\n",
              "      <th>1155</th>\n",
              "      <td>1575</td>\n",
              "      <td>15</td>\n",
              "    </tr>\n",
              "    <tr>\n",
              "      <th>1156</th>\n",
              "      <td>1125</td>\n",
              "      <td>14</td>\n",
              "    </tr>\n",
              "    <tr>\n",
              "      <th>1157</th>\n",
              "      <td>1556</td>\n",
              "      <td>64</td>\n",
              "    </tr>\n",
              "    <tr>\n",
              "      <th>1158</th>\n",
              "      <td>1452</td>\n",
              "      <td>63</td>\n",
              "    </tr>\n",
              "  </tbody>\n",
              "</table>\n",
              "<p>1159 rows × 2 columns</p>\n",
              "</div>"
            ],
            "text/plain": [
              "      user_id  amount_submit\n",
              "0           4             54\n",
              "1        1439            268\n",
              "2        1549            216\n",
              "3        1517            420\n",
              "4         715            239\n",
              "...       ...            ...\n",
              "1154      644             57\n",
              "1155     1575             15\n",
              "1156     1125             14\n",
              "1157     1556             64\n",
              "1158     1452             63\n",
              "\n",
              "[1159 rows x 2 columns]"
            ]
          },
          "metadata": {
            "tags": []
          },
          "execution_count": 84
        }
      ]
    },
    {
      "cell_type": "code",
      "metadata": {
        "colab": {
          "base_uri": "https://localhost:8080/",
          "height": 419
        },
        "id": "fEI0i2Nl_Oph",
        "outputId": "ef7d1bbd-e019-4f06-959a-45c564bf4bf5"
      },
      "source": [
        "data_score"
      ],
      "execution_count": 75,
      "outputs": [
        {
          "output_type": "execute_result",
          "data": {
            "text/html": [
              "<div>\n",
              "<style scoped>\n",
              "    .dataframe tbody tr th:only-of-type {\n",
              "        vertical-align: middle;\n",
              "    }\n",
              "\n",
              "    .dataframe tbody tr th {\n",
              "        vertical-align: top;\n",
              "    }\n",
              "\n",
              "    .dataframe thead th {\n",
              "        text-align: right;\n",
              "    }\n",
              "</style>\n",
              "<table border=\"1\" class=\"dataframe\">\n",
              "  <thead>\n",
              "    <tr style=\"text-align: right;\">\n",
              "      <th></th>\n",
              "      <th>id</th>\n",
              "      <th>QT</th>\n",
              "      <th>GK</th>\n",
              "      <th>TH</th>\n",
              "      <th>CK</th>\n",
              "      <th>TBM</th>\n",
              "      <th>TBTL</th>\n",
              "    </tr>\n",
              "  </thead>\n",
              "  <tbody>\n",
              "    <tr>\n",
              "      <th>0</th>\n",
              "      <td>22</td>\n",
              "      <td>10</td>\n",
              "      <td>9</td>\n",
              "      <td>8.5</td>\n",
              "      <td>8.5</td>\n",
              "      <td>8.8</td>\n",
              "      <td>8.52</td>\n",
              "    </tr>\n",
              "    <tr>\n",
              "      <th>1</th>\n",
              "      <td>24</td>\n",
              "      <td>10</td>\n",
              "      <td>8</td>\n",
              "      <td>10</td>\n",
              "      <td>9.5</td>\n",
              "      <td>9.4</td>\n",
              "      <td>8.41</td>\n",
              "    </tr>\n",
              "    <tr>\n",
              "      <th>2</th>\n",
              "      <td>27</td>\n",
              "      <td>10</td>\n",
              "      <td>10</td>\n",
              "      <td>10</td>\n",
              "      <td>10</td>\n",
              "      <td>10</td>\n",
              "      <td>8.67</td>\n",
              "    </tr>\n",
              "    <tr>\n",
              "      <th>3</th>\n",
              "      <td>28</td>\n",
              "      <td>10</td>\n",
              "      <td>9.5</td>\n",
              "      <td>7.5</td>\n",
              "      <td>9.5</td>\n",
              "      <td>9.2</td>\n",
              "      <td>7.39</td>\n",
              "    </tr>\n",
              "    <tr>\n",
              "      <th>4</th>\n",
              "      <td>29</td>\n",
              "      <td>10</td>\n",
              "      <td>9.5</td>\n",
              "      <td>5</td>\n",
              "      <td>8.5</td>\n",
              "      <td>8.2</td>\n",
              "      <td>8.05</td>\n",
              "    </tr>\n",
              "    <tr>\n",
              "      <th>...</th>\n",
              "      <td>...</td>\n",
              "      <td>...</td>\n",
              "      <td>...</td>\n",
              "      <td>...</td>\n",
              "      <td>...</td>\n",
              "      <td>...</td>\n",
              "      <td>...</td>\n",
              "    </tr>\n",
              "    <tr>\n",
              "      <th>970</th>\n",
              "      <td>1857</td>\n",
              "      <td>5</td>\n",
              "      <td>4.5</td>\n",
              "      <td>10</td>\n",
              "      <td>4</td>\n",
              "      <td>6</td>\n",
              "      <td>6.03</td>\n",
              "    </tr>\n",
              "    <tr>\n",
              "      <th>971</th>\n",
              "      <td>1859</td>\n",
              "      <td>8</td>\n",
              "      <td>5</td>\n",
              "      <td>10</td>\n",
              "      <td>1.5</td>\n",
              "      <td>5.4</td>\n",
              "      <td>5.06</td>\n",
              "    </tr>\n",
              "    <tr>\n",
              "      <th>972</th>\n",
              "      <td>1862</td>\n",
              "      <td>5</td>\n",
              "      <td>6.5</td>\n",
              "      <td>1</td>\n",
              "      <td>7.5</td>\n",
              "      <td>5.1</td>\n",
              "      <td>4.71</td>\n",
              "    </tr>\n",
              "    <tr>\n",
              "      <th>973</th>\n",
              "      <td>1865</td>\n",
              "      <td>6.5</td>\n",
              "      <td></td>\n",
              "      <td>3</td>\n",
              "      <td>7.5</td>\n",
              "      <td></td>\n",
              "      <td>6.89</td>\n",
              "    </tr>\n",
              "    <tr>\n",
              "      <th>974</th>\n",
              "      <td>1866</td>\n",
              "      <td>9</td>\n",
              "      <td>7.5</td>\n",
              "      <td>2</td>\n",
              "      <td>5</td>\n",
              "      <td>5</td>\n",
              "      <td>7.05</td>\n",
              "    </tr>\n",
              "  </tbody>\n",
              "</table>\n",
              "<p>975 rows × 7 columns</p>\n",
              "</div>"
            ],
            "text/plain": [
              "       id   QT   GK   TH   CK  TBM  TBTL\n",
              "0      22   10    9  8.5  8.5  8.8  8.52\n",
              "1      24   10    8   10  9.5  9.4  8.41\n",
              "2      27   10   10   10   10   10  8.67\n",
              "3      28   10  9.5  7.5  9.5  9.2  7.39\n",
              "4      29   10  9.5    5  8.5  8.2  8.05\n",
              "..    ...  ...  ...  ...  ...  ...   ...\n",
              "970  1857    5  4.5   10    4    6  6.03\n",
              "971  1859    8    5   10  1.5  5.4  5.06\n",
              "972  1862    5  6.5    1  7.5  5.1  4.71\n",
              "973  1865  6.5         3  7.5       6.89\n",
              "974  1866    9  7.5    2    5    5  7.05\n",
              "\n",
              "[975 rows x 7 columns]"
            ]
          },
          "metadata": {
            "tags": []
          },
          "execution_count": 75
        }
      ]
    },
    {
      "cell_type": "code",
      "metadata": {
        "id": "FYnWBoyh_bES"
      },
      "source": [
        "features_score = {'id': data_score['id'], 'CK': data_score['CK']}\n",
        "features_score = pd.DataFrame(features_score, columns = ['id', 'CK'])"
      ],
      "execution_count": 79,
      "outputs": []
    },
    {
      "cell_type": "code",
      "metadata": {
        "colab": {
          "base_uri": "https://localhost:8080/",
          "height": 419
        },
        "id": "T7jQ3pEC_4yd",
        "outputId": "63529644-baa8-4f96-9d3b-3891446c317a"
      },
      "source": [
        "features_score"
      ],
      "execution_count": 80,
      "outputs": [
        {
          "output_type": "execute_result",
          "data": {
            "text/html": [
              "<div>\n",
              "<style scoped>\n",
              "    .dataframe tbody tr th:only-of-type {\n",
              "        vertical-align: middle;\n",
              "    }\n",
              "\n",
              "    .dataframe tbody tr th {\n",
              "        vertical-align: top;\n",
              "    }\n",
              "\n",
              "    .dataframe thead th {\n",
              "        text-align: right;\n",
              "    }\n",
              "</style>\n",
              "<table border=\"1\" class=\"dataframe\">\n",
              "  <thead>\n",
              "    <tr style=\"text-align: right;\">\n",
              "      <th></th>\n",
              "      <th>id</th>\n",
              "      <th>CK</th>\n",
              "    </tr>\n",
              "  </thead>\n",
              "  <tbody>\n",
              "    <tr>\n",
              "      <th>0</th>\n",
              "      <td>22</td>\n",
              "      <td>8.5</td>\n",
              "    </tr>\n",
              "    <tr>\n",
              "      <th>1</th>\n",
              "      <td>24</td>\n",
              "      <td>9.5</td>\n",
              "    </tr>\n",
              "    <tr>\n",
              "      <th>2</th>\n",
              "      <td>27</td>\n",
              "      <td>10</td>\n",
              "    </tr>\n",
              "    <tr>\n",
              "      <th>3</th>\n",
              "      <td>28</td>\n",
              "      <td>9.5</td>\n",
              "    </tr>\n",
              "    <tr>\n",
              "      <th>4</th>\n",
              "      <td>29</td>\n",
              "      <td>8.5</td>\n",
              "    </tr>\n",
              "    <tr>\n",
              "      <th>...</th>\n",
              "      <td>...</td>\n",
              "      <td>...</td>\n",
              "    </tr>\n",
              "    <tr>\n",
              "      <th>970</th>\n",
              "      <td>1857</td>\n",
              "      <td>4</td>\n",
              "    </tr>\n",
              "    <tr>\n",
              "      <th>971</th>\n",
              "      <td>1859</td>\n",
              "      <td>1.5</td>\n",
              "    </tr>\n",
              "    <tr>\n",
              "      <th>972</th>\n",
              "      <td>1862</td>\n",
              "      <td>7.5</td>\n",
              "    </tr>\n",
              "    <tr>\n",
              "      <th>973</th>\n",
              "      <td>1865</td>\n",
              "      <td>7.5</td>\n",
              "    </tr>\n",
              "    <tr>\n",
              "      <th>974</th>\n",
              "      <td>1866</td>\n",
              "      <td>5</td>\n",
              "    </tr>\n",
              "  </tbody>\n",
              "</table>\n",
              "<p>975 rows × 2 columns</p>\n",
              "</div>"
            ],
            "text/plain": [
              "       id   CK\n",
              "0      22  8.5\n",
              "1      24  9.5\n",
              "2      27   10\n",
              "3      28  9.5\n",
              "4      29  8.5\n",
              "..    ...  ...\n",
              "970  1857    4\n",
              "971  1859  1.5\n",
              "972  1862  7.5\n",
              "973  1865  7.5\n",
              "974  1866    5\n",
              "\n",
              "[975 rows x 2 columns]"
            ]
          },
          "metadata": {
            "tags": []
          },
          "execution_count": 80
        }
      ]
    },
    {
      "cell_type": "markdown",
      "metadata": {
        "id": "FdK7-GYD-KLq"
      },
      "source": [
        "# **Nhận Xét**"
      ]
    }
  ]
}