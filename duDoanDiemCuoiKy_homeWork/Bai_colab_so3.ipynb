{
  "nbformat": 4,
  "nbformat_minor": 0,
  "metadata": {
    "colab": {
      "name": "Bai_colab_so3.ipynb",
      "provenance": [],
      "collapsed_sections": [
        "05BxBt7Ka5rQ"
      ],
      "toc_visible": true,
      "include_colab_link": true
    },
    "kernelspec": {
      "display_name": "Python 3",
      "name": "python3"
    },
    "accelerator": "GPU"
  },
  "cells": [
    {
      "cell_type": "markdown",
      "metadata": {
        "id": "view-in-github",
        "colab_type": "text"
      },
      "source": [
        "<a href=\"https://colab.research.google.com/github/phutaekwondo/CS114.L21/blob/main/duDoanDiemCuoiKy_homeWork/Bai_colab_so3.ipynb\" target=\"_parent\"><img src=\"https://colab.research.google.com/assets/colab-badge.svg\" alt=\"Open In Colab\"/></a>"
      ]
    },
    {
      "cell_type": "markdown",
      "metadata": {
        "id": "upq6wNNY-eYa"
      },
      "source": [
        "># **Data Discovery**\n",
        "\n",
        "---"
      ]
    },
    {
      "cell_type": "markdown",
      "metadata": {
        "id": "xRkHA3Vd-eSR"
      },
      "source": [
        "##**Nhóm thực hiện**\n",
        "1. Lại Nguyễn Vĩnh Phú - 19522020\n",
        "2. Nguyễn Chí Cường - 19521299\n",
        "3. Trương Thế Trương - 19522447"
      ]
    },
    {
      "cell_type": "markdown",
      "metadata": {
        "id": "X1nVySPM-eKi"
      },
      "source": [
        "##***Dữ liệu***\n",
        "\n",
        "1. [We code](https://github.com/phutaekwondo/CS114.L21/blob/main/duDoanDiemCuoiKy_homeWork/wecode.csv)\n",
        "2. [score training](https://github.com/phutaekwondo/CS114.L21/blob/main/duDoanDiemCuoiKy_homeWork/score.csv)"
      ]
    },
    {
      "cell_type": "code",
      "metadata": {
        "id": "wbGN1BmsB6Lm"
      },
      "source": [
        "import pandas as pd\n",
        "import numpy as np\n",
        "from collections import Counter"
      ],
      "execution_count": 1,
      "outputs": []
    },
    {
      "cell_type": "code",
      "metadata": {
        "id": "l4_YOjbO9USj",
        "colab": {
          "base_uri": "https://localhost:8080/"
        },
        "outputId": "f7c768fc-f24c-4592-9b28-754af2dcc1f7"
      },
      "source": [
        "!git clone https://github.com/phutaekwondo/CS114.L21.git"
      ],
      "execution_count": 2,
      "outputs": [
        {
          "output_type": "stream",
          "text": [
            "Cloning into 'CS114.L21'...\n",
            "remote: Enumerating objects: 231, done.\u001b[K\n",
            "remote: Counting objects: 100% (231/231), done.\u001b[K\n",
            "remote: Compressing objects: 100% (209/209), done.\u001b[K\n",
            "remote: Total 231 (delta 110), reused 35 (delta 9), pack-reused 0\u001b[K\n",
            "Receiving objects: 100% (231/231), 11.32 MiB | 15.75 MiB/s, done.\n",
            "Resolving deltas: 100% (110/110), done.\n"
          ],
          "name": "stdout"
        }
      ]
    },
    {
      "cell_type": "code",
      "metadata": {
        "id": "Pb0iK2ee9l46"
      },
      "source": [
        "url_wecode = '/content/CS114.L21/duDoanDiemCuoiKy_homeWork/wecode.csv'\n",
        "url_score = '/content/CS114.L21/duDoanDiemCuoiKy_homeWork/score.csv'"
      ],
      "execution_count": 3,
      "outputs": []
    },
    {
      "cell_type": "code",
      "metadata": {
        "id": "7jqODf6oE9yf"
      },
      "source": [
        "data_wecode = pd.read_csv(url_wecode)\n",
        "data_score = pd.read_csv(url_score)"
      ],
      "execution_count": 4,
      "outputs": []
    },
    {
      "cell_type": "code",
      "metadata": {
        "id": "4NlNcyFc5ZFB",
        "colab": {
          "base_uri": "https://localhost:8080/",
          "height": 609
        },
        "outputId": "484fd9d0-b9c4-495c-d502-af28d18d0b81"
      },
      "source": [
        "data_wecode"
      ],
      "execution_count": 5,
      "outputs": [
        {
          "output_type": "execute_result",
          "data": {
            "text/html": [
              "<div>\n",
              "<style scoped>\n",
              "    .dataframe tbody tr th:only-of-type {\n",
              "        vertical-align: middle;\n",
              "    }\n",
              "\n",
              "    .dataframe tbody tr th {\n",
              "        vertical-align: top;\n",
              "    }\n",
              "\n",
              "    .dataframe thead th {\n",
              "        text-align: right;\n",
              "    }\n",
              "</style>\n",
              "<table border=\"1\" class=\"dataframe\">\n",
              "  <thead>\n",
              "    <tr style=\"text-align: right;\">\n",
              "      <th></th>\n",
              "      <th>id</th>\n",
              "      <th>assignment_id</th>\n",
              "      <th>problem_id</th>\n",
              "      <th>user_id</th>\n",
              "      <th>is_final</th>\n",
              "      <th>status</th>\n",
              "      <th>pre_score</th>\n",
              "      <th>coefficient</th>\n",
              "      <th>file_name</th>\n",
              "      <th>language_id</th>\n",
              "      <th>created_at</th>\n",
              "      <th>updated_at</th>\n",
              "    </tr>\n",
              "  </thead>\n",
              "  <tbody>\n",
              "    <tr>\n",
              "      <th>0</th>\n",
              "      <td>4</td>\n",
              "      <td>0</td>\n",
              "      <td>3</td>\n",
              "      <td>4</td>\n",
              "      <td>1</td>\n",
              "      <td>SCORE</td>\n",
              "      <td>10000</td>\n",
              "      <td>100</td>\n",
              "      <td>solution-0</td>\n",
              "      <td>2</td>\n",
              "      <td>2020-10-30 10:58:11</td>\n",
              "      <td>2020-10-30 10:58:19</td>\n",
              "    </tr>\n",
              "    <tr>\n",
              "      <th>1</th>\n",
              "      <td>5</td>\n",
              "      <td>0</td>\n",
              "      <td>4</td>\n",
              "      <td>4</td>\n",
              "      <td>1</td>\n",
              "      <td>SCORE</td>\n",
              "      <td>10000</td>\n",
              "      <td>100</td>\n",
              "      <td>solution-1</td>\n",
              "      <td>2</td>\n",
              "      <td>2020-10-30 11:07:09</td>\n",
              "      <td>2020-10-30 11:07:17</td>\n",
              "    </tr>\n",
              "    <tr>\n",
              "      <th>2</th>\n",
              "      <td>6</td>\n",
              "      <td>0</td>\n",
              "      <td>5</td>\n",
              "      <td>4</td>\n",
              "      <td>0</td>\n",
              "      <td>Compilation Error</td>\n",
              "      <td>0</td>\n",
              "      <td>100</td>\n",
              "      <td>solution-2</td>\n",
              "      <td>2</td>\n",
              "      <td>2020-10-30 11:08:01</td>\n",
              "      <td>2020-10-30 11:23:36</td>\n",
              "    </tr>\n",
              "    <tr>\n",
              "      <th>3</th>\n",
              "      <td>7</td>\n",
              "      <td>0</td>\n",
              "      <td>5</td>\n",
              "      <td>4</td>\n",
              "      <td>0</td>\n",
              "      <td>Compilation Error</td>\n",
              "      <td>0</td>\n",
              "      <td>100</td>\n",
              "      <td>solution-3</td>\n",
              "      <td>2</td>\n",
              "      <td>2020-10-30 11:11:41</td>\n",
              "      <td>2020-10-30 11:11:42</td>\n",
              "    </tr>\n",
              "    <tr>\n",
              "      <th>4</th>\n",
              "      <td>8</td>\n",
              "      <td>0</td>\n",
              "      <td>5</td>\n",
              "      <td>4</td>\n",
              "      <td>0</td>\n",
              "      <td>Compilation Error</td>\n",
              "      <td>0</td>\n",
              "      <td>100</td>\n",
              "      <td>solution-4</td>\n",
              "      <td>2</td>\n",
              "      <td>2020-10-30 11:15:06</td>\n",
              "      <td>2020-10-30 11:15:07</td>\n",
              "    </tr>\n",
              "    <tr>\n",
              "      <th>...</th>\n",
              "      <td>...</td>\n",
              "      <td>...</td>\n",
              "      <td>...</td>\n",
              "      <td>...</td>\n",
              "      <td>...</td>\n",
              "      <td>...</td>\n",
              "      <td>...</td>\n",
              "      <td>...</td>\n",
              "      <td>...</td>\n",
              "      <td>...</td>\n",
              "      <td>...</td>\n",
              "      <td>...</td>\n",
              "    </tr>\n",
              "    <tr>\n",
              "      <th>264601</th>\n",
              "      <td>266667</td>\n",
              "      <td>0</td>\n",
              "      <td>25</td>\n",
              "      <td>1796</td>\n",
              "      <td>0</td>\n",
              "      <td>SCORE</td>\n",
              "      <td>0</td>\n",
              "      <td>100</td>\n",
              "      <td>solution-3977</td>\n",
              "      <td>4</td>\n",
              "      <td>2021-04-28 9:34:20</td>\n",
              "      <td>2021-04-28 9:34:27</td>\n",
              "    </tr>\n",
              "    <tr>\n",
              "      <th>264602</th>\n",
              "      <td>266668</td>\n",
              "      <td>0</td>\n",
              "      <td>25</td>\n",
              "      <td>1796</td>\n",
              "      <td>0</td>\n",
              "      <td>Compilation Error</td>\n",
              "      <td>0</td>\n",
              "      <td>100</td>\n",
              "      <td>solution-3978</td>\n",
              "      <td>2</td>\n",
              "      <td>2021-04-28 9:35:07</td>\n",
              "      <td>2021-04-28 9:35:08</td>\n",
              "    </tr>\n",
              "    <tr>\n",
              "      <th>264603</th>\n",
              "      <td>266669</td>\n",
              "      <td>0</td>\n",
              "      <td>25</td>\n",
              "      <td>1796</td>\n",
              "      <td>1</td>\n",
              "      <td>SCORE</td>\n",
              "      <td>10000</td>\n",
              "      <td>100</td>\n",
              "      <td>solution-3979</td>\n",
              "      <td>4</td>\n",
              "      <td>2021-04-28 9:35:15</td>\n",
              "      <td>2021-04-28 9:35:21</td>\n",
              "    </tr>\n",
              "    <tr>\n",
              "      <th>264604</th>\n",
              "      <td>266670</td>\n",
              "      <td>0</td>\n",
              "      <td>150</td>\n",
              "      <td>255</td>\n",
              "      <td>1</td>\n",
              "      <td>SCORE</td>\n",
              "      <td>6250</td>\n",
              "      <td>100</td>\n",
              "      <td>solution-3980</td>\n",
              "      <td>2</td>\n",
              "      <td>2021-05-11 1:34:57</td>\n",
              "      <td>2021-05-11 1:35:28</td>\n",
              "    </tr>\n",
              "    <tr>\n",
              "      <th>264605</th>\n",
              "      <td>266671</td>\n",
              "      <td>21</td>\n",
              "      <td>24</td>\n",
              "      <td>1568</td>\n",
              "      <td>0</td>\n",
              "      <td>SCORE</td>\n",
              "      <td>10000</td>\n",
              "      <td>100</td>\n",
              "      <td>solution-609</td>\n",
              "      <td>4</td>\n",
              "      <td>2021-05-13 17:17:17</td>\n",
              "      <td>2021-05-13 17:17:40</td>\n",
              "    </tr>\n",
              "  </tbody>\n",
              "</table>\n",
              "<p>264606 rows × 12 columns</p>\n",
              "</div>"
            ],
            "text/plain": [
              "            id  assignment_id  ...           created_at           updated_at\n",
              "0            4              0  ...  2020-10-30 10:58:11  2020-10-30 10:58:19\n",
              "1            5              0  ...  2020-10-30 11:07:09  2020-10-30 11:07:17\n",
              "2            6              0  ...  2020-10-30 11:08:01  2020-10-30 11:23:36\n",
              "3            7              0  ...  2020-10-30 11:11:41  2020-10-30 11:11:42\n",
              "4            8              0  ...  2020-10-30 11:15:06  2020-10-30 11:15:07\n",
              "...        ...            ...  ...                  ...                  ...\n",
              "264601  266667              0  ...   2021-04-28 9:34:20   2021-04-28 9:34:27\n",
              "264602  266668              0  ...   2021-04-28 9:35:07   2021-04-28 9:35:08\n",
              "264603  266669              0  ...   2021-04-28 9:35:15   2021-04-28 9:35:21\n",
              "264604  266670              0  ...   2021-05-11 1:34:57   2021-05-11 1:35:28\n",
              "264605  266671             21  ...  2021-05-13 17:17:17  2021-05-13 17:17:40\n",
              "\n",
              "[264606 rows x 12 columns]"
            ]
          },
          "metadata": {
            "tags": []
          },
          "execution_count": 5
        }
      ]
    },
    {
      "cell_type": "markdown",
      "metadata": {
        "id": "05BxBt7Ka5rQ"
      },
      "source": [
        "##Khám phá mục score"
      ]
    },
    {
      "cell_type": "code",
      "metadata": {
        "id": "1QRuDwg8udFS"
      },
      "source": [
        "discove_score = {'is_final': data_wecode['is_final'], 'pre_score': data_wecode['pre_score']}\n",
        "discove_score = pd.DataFrame(discove_score, columns=['is_final', 'pre_score'])"
      ],
      "execution_count": null,
      "outputs": []
    },
    {
      "cell_type": "code",
      "metadata": {
        "id": "aqiD2iOy6LdZ",
        "colab": {
          "base_uri": "https://localhost:8080/"
        },
        "outputId": "fe33adc4-74f2-448a-c2c8-ec70b56660fd"
      },
      "source": [
        "count_score = Counter(zip(discove_score['is_final'],discove_score['pre_score'])).items()\n",
        "show_score = pd.DataFrame(count_score, columns=['x', 'y'])\n",
        "show_score"
      ],
      "execution_count": null,
      "outputs": [
        {
          "output_type": "execute_result",
          "data": {
            "text/html": [
              "<div>\n",
              "<style scoped>\n",
              "    .dataframe tbody tr th:only-of-type {\n",
              "        vertical-align: middle;\n",
              "    }\n",
              "\n",
              "    .dataframe tbody tr th {\n",
              "        vertical-align: top;\n",
              "    }\n",
              "\n",
              "    .dataframe thead th {\n",
              "        text-align: right;\n",
              "    }\n",
              "</style>\n",
              "<table border=\"1\" class=\"dataframe\">\n",
              "  <thead>\n",
              "    <tr style=\"text-align: right;\">\n",
              "      <th></th>\n",
              "      <th>x</th>\n",
              "      <th>y</th>\n",
              "    </tr>\n",
              "  </thead>\n",
              "  <tbody>\n",
              "    <tr>\n",
              "      <th>0</th>\n",
              "      <td>(1, 10000)</td>\n",
              "      <td>95332</td>\n",
              "    </tr>\n",
              "    <tr>\n",
              "      <th>1</th>\n",
              "      <td>(0, 0)</td>\n",
              "      <td>79796</td>\n",
              "    </tr>\n",
              "    <tr>\n",
              "      <th>2</th>\n",
              "      <td>(0, 8000)</td>\n",
              "      <td>7976</td>\n",
              "    </tr>\n",
              "    <tr>\n",
              "      <th>3</th>\n",
              "      <td>(0, 10000)</td>\n",
              "      <td>4508</td>\n",
              "    </tr>\n",
              "    <tr>\n",
              "      <th>4</th>\n",
              "      <td>(1, 0)</td>\n",
              "      <td>2726</td>\n",
              "    </tr>\n",
              "    <tr>\n",
              "      <th>...</th>\n",
              "      <td>...</td>\n",
              "      <td>...</td>\n",
              "    </tr>\n",
              "    <tr>\n",
              "      <th>656</th>\n",
              "      <td>(0, 3583)</td>\n",
              "      <td>1</td>\n",
              "    </tr>\n",
              "    <tr>\n",
              "      <th>657</th>\n",
              "      <td>(1, 7250)</td>\n",
              "      <td>1</td>\n",
              "    </tr>\n",
              "    <tr>\n",
              "      <th>658</th>\n",
              "      <td>(0, 5583)</td>\n",
              "      <td>1</td>\n",
              "    </tr>\n",
              "    <tr>\n",
              "      <th>659</th>\n",
              "      <td>(0, 5666)</td>\n",
              "      <td>1</td>\n",
              "    </tr>\n",
              "    <tr>\n",
              "      <th>660</th>\n",
              "      <td>(0, 9259)</td>\n",
              "      <td>1</td>\n",
              "    </tr>\n",
              "  </tbody>\n",
              "</table>\n",
              "<p>661 rows × 2 columns</p>\n",
              "</div>"
            ],
            "text/plain": [
              "              x      y\n",
              "0    (1, 10000)  95332\n",
              "1        (0, 0)  79796\n",
              "2     (0, 8000)   7976\n",
              "3    (0, 10000)   4508\n",
              "4        (1, 0)   2726\n",
              "..          ...    ...\n",
              "656   (0, 3583)      1\n",
              "657   (1, 7250)      1\n",
              "658   (0, 5583)      1\n",
              "659   (0, 5666)      1\n",
              "660   (0, 9259)      1\n",
              "\n",
              "[661 rows x 2 columns]"
            ]
          },
          "metadata": {
            "tags": []
          },
          "execution_count": 92
        }
      ]
    },
    {
      "cell_type": "markdown",
      "metadata": {
        "id": "qC3EIhlva-We"
      },
      "source": [
        "##Tạo dataframe số lượng user_id kết với problem_id"
      ]
    },
    {
      "cell_type": "markdown",
      "metadata": {
        "id": "WKir_GG0KyMs"
      },
      "source": [
        "features:\n",
        "\n",
        "+ số lần nộp bài để pass(theo problem_id, user_id )\n",
        "+ time last submit - time first submit ( theo pro_id, user_id)\n",
        "+ max (pre_score) (theo pro_id, user_id)\n",
        "+ is_final = max(data_wecode['is_final']\n",
        "\n",
        "features table\n",
        "\n",
        "user_id | problem_id | số lần nộp | is_final | max(pre_score)|time|\n",
        "--------|------------|------------|------|----------------|--------|"
      ]
    },
    {
      "cell_type": "code",
      "metadata": {
        "id": "Oq88EPl95F_D"
      },
      "source": [
        "first_feature = {'user_id': data_wecode['user_id'], 'problem_id': data_wecode['problem_id']}\n",
        "first_feature = pd.DataFrame(first_feature, columns = ['user_id', 'problem_id'])\n",
        "\n",
        "#Đếm submit theo user_id và problem_id\n",
        "count_submit = Counter(zip(first_feature['user_id'], first_feature['problem_id'])).items()\n",
        "user_feature = pd.DataFrame(count_submit, columns=['user_id, problem_id', 'amount_submit'])#lúc này có user_id và problem_id chung 1 column\n",
        "\n",
        "#sắp xếp lại data - tách user_id và problem_id\n",
        "temp = pd.DataFrame(user_feature['user_id, problem_id'].tolist(), columns = ['user_id','problem_id']) #tạo temp = 2 cột user_id và problem_id khi tác ra\n",
        "del user_feature['user_id, problem_id'] #Xóa cột\n",
        "user_feature['user_id'], user_feature['problem_id'] = temp['user_id'], temp['problem_id']#thêm lại 2 cột\n",
        "cols = user_feature.columns.tolist()#sếp xếp lại\n",
        "cols = cols[-2:] + cols[:1]\n",
        "user_feature = user_feature[cols]\n",
        "#sort theo user_id_problem_id và set index\n",
        "user_feature = user_feature.sort_values(by=['user_id', 'problem_id']).set_index(pd.Index(range(len(user_feature))))"
      ],
      "execution_count": null,
      "outputs": []
    },
    {
      "cell_type": "markdown",
      "metadata": {
        "id": "xlLkSlPAiag8"
      },
      "source": [
        ">Lấy max điểm, time, is_final cho từng user_problem_id"
      ]
    },
    {
      "cell_type": "code",
      "metadata": {
        "id": "gByMKECqhqHN"
      },
      "source": [
        "#Lấy các features pre_score, is_final, time_max\n",
        "other_feature_user = {'user_problem_id': pd.Series(zip(data_wecode['user_id'], data_wecode['problem_id'])), 'is_final': data_wecode['is_final'],\n",
        "                      'pre_score': data_wecode['pre_score'], 'diffirence_time': data_wecode['updated_at']}\n",
        "other_feature_user = pd.DataFrame(other_feature_user, columns=['user_problem_id', 'is_final', 'pre_score', 'diffirence_time'])\n",
        "other_feature_user = other_feature_user.sort_values(by='user_problem_id').set_index(pd.Index(range(len(other_feature_user))))\n",
        "other_feature = other_feature_user.groupby(['user_problem_id'], as_index=False).agg('max')"
      ],
      "execution_count": null,
      "outputs": []
    },
    {
      "cell_type": "code",
      "metadata": {
        "colab": {
          "base_uri": "https://localhost:8080/",
          "height": 402
        },
        "id": "iI18jl5aioVo",
        "outputId": "ee010a76-58f8-4d45-9c02-ea71f425c4b8"
      },
      "source": [
        "#Lấy time_min, sau đó tạo thành diffirence_time với time_max với công thức diffirence_time = tim_max - time_min\n",
        "time_min = {'user_problem_id': pd.Series(zip(data_wecode['user_id'], data_wecode['problem_id'])), 'time_min': data_wecode['updated_at']}\n",
        "time_min = pd.DataFrame(time_min, columns=['user_problem_id', 'time_min'])\n",
        "time_min = time_min.sort_values(by='user_problem_id').set_index(pd.Index(range(len(time_min))))\n",
        "time_min = time_min.groupby(['user_problem_id'], as_index=False).agg('min')\n",
        "other_feature['diffirence_time'] = pd.to_datetime(other_feature['diffirence_time']) - pd.to_datetime(time_min['time_min'])\n",
        "other_feature"
      ],
      "execution_count": null,
      "outputs": [
        {
          "output_type": "execute_result",
          "data": {
            "text/html": [
              "<div>\n",
              "<style scoped>\n",
              "    .dataframe tbody tr th:only-of-type {\n",
              "        vertical-align: middle;\n",
              "    }\n",
              "\n",
              "    .dataframe tbody tr th {\n",
              "        vertical-align: top;\n",
              "    }\n",
              "\n",
              "    .dataframe thead th {\n",
              "        text-align: right;\n",
              "    }\n",
              "</style>\n",
              "<table border=\"1\" class=\"dataframe\">\n",
              "  <thead>\n",
              "    <tr style=\"text-align: right;\">\n",
              "      <th></th>\n",
              "      <th>user_problem_id</th>\n",
              "      <th>is_final</th>\n",
              "      <th>pre_score</th>\n",
              "      <th>diffirence_time</th>\n",
              "    </tr>\n",
              "  </thead>\n",
              "  <tbody>\n",
              "    <tr>\n",
              "      <th>0</th>\n",
              "      <td>(1, 81)</td>\n",
              "      <td>1</td>\n",
              "      <td>0</td>\n",
              "      <td>0 days 00:00:00</td>\n",
              "    </tr>\n",
              "    <tr>\n",
              "      <th>1</th>\n",
              "      <td>(1, 370)</td>\n",
              "      <td>1</td>\n",
              "      <td>10000</td>\n",
              "      <td>0 days 00:00:00</td>\n",
              "    </tr>\n",
              "    <tr>\n",
              "      <th>2</th>\n",
              "      <td>(4, 3)</td>\n",
              "      <td>1</td>\n",
              "      <td>10000</td>\n",
              "      <td>0 days 00:00:00</td>\n",
              "    </tr>\n",
              "    <tr>\n",
              "      <th>3</th>\n",
              "      <td>(4, 4)</td>\n",
              "      <td>1</td>\n",
              "      <td>10000</td>\n",
              "      <td>0 days 00:00:00</td>\n",
              "    </tr>\n",
              "    <tr>\n",
              "      <th>4</th>\n",
              "      <td>(4, 5)</td>\n",
              "      <td>1</td>\n",
              "      <td>10000</td>\n",
              "      <td>0 days 00:11:54</td>\n",
              "    </tr>\n",
              "    <tr>\n",
              "      <th>...</th>\n",
              "      <td>...</td>\n",
              "      <td>...</td>\n",
              "      <td>...</td>\n",
              "      <td>...</td>\n",
              "    </tr>\n",
              "    <tr>\n",
              "      <th>97185</th>\n",
              "      <td>(1868, 637)</td>\n",
              "      <td>1</td>\n",
              "      <td>10000</td>\n",
              "      <td>1 days 02:20:53</td>\n",
              "    </tr>\n",
              "    <tr>\n",
              "      <th>97186</th>\n",
              "      <td>(1868, 638)</td>\n",
              "      <td>1</td>\n",
              "      <td>10000</td>\n",
              "      <td>1 days 01:39:31</td>\n",
              "    </tr>\n",
              "    <tr>\n",
              "      <th>97187</th>\n",
              "      <td>(1868, 639)</td>\n",
              "      <td>1</td>\n",
              "      <td>10000</td>\n",
              "      <td>1 days 01:22:57</td>\n",
              "    </tr>\n",
              "    <tr>\n",
              "      <th>97188</th>\n",
              "      <td>(1868, 640)</td>\n",
              "      <td>1</td>\n",
              "      <td>10000</td>\n",
              "      <td>1 days 00:43:16</td>\n",
              "    </tr>\n",
              "    <tr>\n",
              "      <th>97189</th>\n",
              "      <td>(1868, 641)</td>\n",
              "      <td>1</td>\n",
              "      <td>10000</td>\n",
              "      <td>1 days 00:13:10</td>\n",
              "    </tr>\n",
              "  </tbody>\n",
              "</table>\n",
              "<p>97190 rows × 4 columns</p>\n",
              "</div>"
            ],
            "text/plain": [
              "      user_problem_id  is_final  pre_score diffirence_time\n",
              "0             (1, 81)         1          0 0 days 00:00:00\n",
              "1            (1, 370)         1      10000 0 days 00:00:00\n",
              "2              (4, 3)         1      10000 0 days 00:00:00\n",
              "3              (4, 4)         1      10000 0 days 00:00:00\n",
              "4              (4, 5)         1      10000 0 days 00:11:54\n",
              "...               ...       ...        ...             ...\n",
              "97185     (1868, 637)         1      10000 1 days 02:20:53\n",
              "97186     (1868, 638)         1      10000 1 days 01:39:31\n",
              "97187     (1868, 639)         1      10000 1 days 01:22:57\n",
              "97188     (1868, 640)         1      10000 1 days 00:43:16\n",
              "97189     (1868, 641)         1      10000 1 days 00:13:10\n",
              "\n",
              "[97190 rows x 4 columns]"
            ]
          },
          "metadata": {
            "tags": []
          },
          "execution_count": 95
        }
      ]
    },
    {
      "cell_type": "code",
      "metadata": {
        "colab": {
          "base_uri": "https://localhost:8080/",
          "height": 402
        },
        "id": "YUjnsjLsnQte",
        "outputId": "d67c7d57-48c6-4645-d261-1de721f76013"
      },
      "source": [
        "def covert_time(time):\n",
        "  day_to_seconds = time.days * 24 * 60 * 60\n",
        "  return day_to_seconds + time.seconds\n",
        "user_feature['is_final'], user_feature['pre_score'] = other_feature['is_final'], other_feature['pre_score']\n",
        "user_feature['diffirence_time'] = other_feature['diffirence_time'].apply(covert_time)\n",
        "user_feature"
      ],
      "execution_count": null,
      "outputs": [
        {
          "output_type": "execute_result",
          "data": {
            "text/html": [
              "<div>\n",
              "<style scoped>\n",
              "    .dataframe tbody tr th:only-of-type {\n",
              "        vertical-align: middle;\n",
              "    }\n",
              "\n",
              "    .dataframe tbody tr th {\n",
              "        vertical-align: top;\n",
              "    }\n",
              "\n",
              "    .dataframe thead th {\n",
              "        text-align: right;\n",
              "    }\n",
              "</style>\n",
              "<table border=\"1\" class=\"dataframe\">\n",
              "  <thead>\n",
              "    <tr style=\"text-align: right;\">\n",
              "      <th></th>\n",
              "      <th>user_id</th>\n",
              "      <th>problem_id</th>\n",
              "      <th>amount_submit</th>\n",
              "      <th>is_final</th>\n",
              "      <th>pre_score</th>\n",
              "      <th>diffirence_time</th>\n",
              "    </tr>\n",
              "  </thead>\n",
              "  <tbody>\n",
              "    <tr>\n",
              "      <th>0</th>\n",
              "      <td>1</td>\n",
              "      <td>81</td>\n",
              "      <td>1</td>\n",
              "      <td>1</td>\n",
              "      <td>0</td>\n",
              "      <td>0</td>\n",
              "    </tr>\n",
              "    <tr>\n",
              "      <th>1</th>\n",
              "      <td>1</td>\n",
              "      <td>370</td>\n",
              "      <td>1</td>\n",
              "      <td>1</td>\n",
              "      <td>10000</td>\n",
              "      <td>0</td>\n",
              "    </tr>\n",
              "    <tr>\n",
              "      <th>2</th>\n",
              "      <td>4</td>\n",
              "      <td>3</td>\n",
              "      <td>1</td>\n",
              "      <td>1</td>\n",
              "      <td>10000</td>\n",
              "      <td>0</td>\n",
              "    </tr>\n",
              "    <tr>\n",
              "      <th>3</th>\n",
              "      <td>4</td>\n",
              "      <td>4</td>\n",
              "      <td>1</td>\n",
              "      <td>1</td>\n",
              "      <td>10000</td>\n",
              "      <td>0</td>\n",
              "    </tr>\n",
              "    <tr>\n",
              "      <th>4</th>\n",
              "      <td>4</td>\n",
              "      <td>5</td>\n",
              "      <td>5</td>\n",
              "      <td>1</td>\n",
              "      <td>10000</td>\n",
              "      <td>714</td>\n",
              "    </tr>\n",
              "    <tr>\n",
              "      <th>...</th>\n",
              "      <td>...</td>\n",
              "      <td>...</td>\n",
              "      <td>...</td>\n",
              "      <td>...</td>\n",
              "      <td>...</td>\n",
              "      <td>...</td>\n",
              "    </tr>\n",
              "    <tr>\n",
              "      <th>97185</th>\n",
              "      <td>1868</td>\n",
              "      <td>637</td>\n",
              "      <td>4</td>\n",
              "      <td>1</td>\n",
              "      <td>10000</td>\n",
              "      <td>94853</td>\n",
              "    </tr>\n",
              "    <tr>\n",
              "      <th>97186</th>\n",
              "      <td>1868</td>\n",
              "      <td>638</td>\n",
              "      <td>4</td>\n",
              "      <td>1</td>\n",
              "      <td>10000</td>\n",
              "      <td>92371</td>\n",
              "    </tr>\n",
              "    <tr>\n",
              "      <th>97187</th>\n",
              "      <td>1868</td>\n",
              "      <td>639</td>\n",
              "      <td>2</td>\n",
              "      <td>1</td>\n",
              "      <td>10000</td>\n",
              "      <td>91377</td>\n",
              "    </tr>\n",
              "    <tr>\n",
              "      <th>97188</th>\n",
              "      <td>1868</td>\n",
              "      <td>640</td>\n",
              "      <td>2</td>\n",
              "      <td>1</td>\n",
              "      <td>10000</td>\n",
              "      <td>88996</td>\n",
              "    </tr>\n",
              "    <tr>\n",
              "      <th>97189</th>\n",
              "      <td>1868</td>\n",
              "      <td>641</td>\n",
              "      <td>4</td>\n",
              "      <td>1</td>\n",
              "      <td>10000</td>\n",
              "      <td>87190</td>\n",
              "    </tr>\n",
              "  </tbody>\n",
              "</table>\n",
              "<p>97190 rows × 6 columns</p>\n",
              "</div>"
            ],
            "text/plain": [
              "       user_id  problem_id  amount_submit  is_final  pre_score  diffirence_time\n",
              "0            1          81              1         1          0                0\n",
              "1            1         370              1         1      10000                0\n",
              "2            4           3              1         1      10000                0\n",
              "3            4           4              1         1      10000                0\n",
              "4            4           5              5         1      10000              714\n",
              "...        ...         ...            ...       ...        ...              ...\n",
              "97185     1868         637              4         1      10000            94853\n",
              "97186     1868         638              4         1      10000            92371\n",
              "97187     1868         639              2         1      10000            91377\n",
              "97188     1868         640              2         1      10000            88996\n",
              "97189     1868         641              4         1      10000            87190\n",
              "\n",
              "[97190 rows x 6 columns]"
            ]
          },
          "metadata": {
            "tags": []
          },
          "execution_count": 96
        }
      ]
    },
    {
      "cell_type": "code",
      "metadata": {
        "id": "-pl0nWlKsb7T"
      },
      "source": [
        "user_feature.to_csv(\"/content/CS114.L21/duDoanDiemCuoiKy_homeWork/user_feature.csv\")"
      ],
      "execution_count": null,
      "outputs": []
    },
    {
      "cell_type": "markdown",
      "metadata": {
        "id": "tjFz_KGH6tHk"
      },
      "source": [
        "##Continute"
      ]
    },
    {
      "cell_type": "code",
      "metadata": {
        "colab": {
          "base_uri": "https://localhost:8080/",
          "height": 419
        },
        "id": "Q9CxU-en7DoK",
        "outputId": "26addec4-6a1e-42ee-90b0-c240cfaa5513"
      },
      "source": [
        "url_feature = '/content/CS114.L21/duDoanDiemCuoiKy_homeWork/user_feature.csv'\n",
        "user_feature = pd.read_csv('/content/CS114.L21/duDoanDiemCuoiKy_homeWork/user_feature.csv')\n",
        "del user_feature['Unnamed: 0']\n",
        "user_feature"
      ],
      "execution_count": 6,
      "outputs": [
        {
          "output_type": "execute_result",
          "data": {
            "text/html": [
              "<div>\n",
              "<style scoped>\n",
              "    .dataframe tbody tr th:only-of-type {\n",
              "        vertical-align: middle;\n",
              "    }\n",
              "\n",
              "    .dataframe tbody tr th {\n",
              "        vertical-align: top;\n",
              "    }\n",
              "\n",
              "    .dataframe thead th {\n",
              "        text-align: right;\n",
              "    }\n",
              "</style>\n",
              "<table border=\"1\" class=\"dataframe\">\n",
              "  <thead>\n",
              "    <tr style=\"text-align: right;\">\n",
              "      <th></th>\n",
              "      <th>user_id</th>\n",
              "      <th>problem_id</th>\n",
              "      <th>amount_submit</th>\n",
              "      <th>is_final</th>\n",
              "      <th>pre_score</th>\n",
              "      <th>diffirence_time</th>\n",
              "    </tr>\n",
              "  </thead>\n",
              "  <tbody>\n",
              "    <tr>\n",
              "      <th>0</th>\n",
              "      <td>1</td>\n",
              "      <td>81</td>\n",
              "      <td>1</td>\n",
              "      <td>1</td>\n",
              "      <td>0</td>\n",
              "      <td>0</td>\n",
              "    </tr>\n",
              "    <tr>\n",
              "      <th>1</th>\n",
              "      <td>1</td>\n",
              "      <td>370</td>\n",
              "      <td>1</td>\n",
              "      <td>1</td>\n",
              "      <td>10000</td>\n",
              "      <td>0</td>\n",
              "    </tr>\n",
              "    <tr>\n",
              "      <th>2</th>\n",
              "      <td>4</td>\n",
              "      <td>3</td>\n",
              "      <td>1</td>\n",
              "      <td>1</td>\n",
              "      <td>10000</td>\n",
              "      <td>0</td>\n",
              "    </tr>\n",
              "    <tr>\n",
              "      <th>3</th>\n",
              "      <td>4</td>\n",
              "      <td>4</td>\n",
              "      <td>1</td>\n",
              "      <td>1</td>\n",
              "      <td>10000</td>\n",
              "      <td>0</td>\n",
              "    </tr>\n",
              "    <tr>\n",
              "      <th>4</th>\n",
              "      <td>4</td>\n",
              "      <td>5</td>\n",
              "      <td>5</td>\n",
              "      <td>1</td>\n",
              "      <td>10000</td>\n",
              "      <td>714</td>\n",
              "    </tr>\n",
              "    <tr>\n",
              "      <th>...</th>\n",
              "      <td>...</td>\n",
              "      <td>...</td>\n",
              "      <td>...</td>\n",
              "      <td>...</td>\n",
              "      <td>...</td>\n",
              "      <td>...</td>\n",
              "    </tr>\n",
              "    <tr>\n",
              "      <th>97185</th>\n",
              "      <td>1868</td>\n",
              "      <td>637</td>\n",
              "      <td>4</td>\n",
              "      <td>1</td>\n",
              "      <td>10000</td>\n",
              "      <td>94853</td>\n",
              "    </tr>\n",
              "    <tr>\n",
              "      <th>97186</th>\n",
              "      <td>1868</td>\n",
              "      <td>638</td>\n",
              "      <td>4</td>\n",
              "      <td>1</td>\n",
              "      <td>10000</td>\n",
              "      <td>92371</td>\n",
              "    </tr>\n",
              "    <tr>\n",
              "      <th>97187</th>\n",
              "      <td>1868</td>\n",
              "      <td>639</td>\n",
              "      <td>2</td>\n",
              "      <td>1</td>\n",
              "      <td>10000</td>\n",
              "      <td>91377</td>\n",
              "    </tr>\n",
              "    <tr>\n",
              "      <th>97188</th>\n",
              "      <td>1868</td>\n",
              "      <td>640</td>\n",
              "      <td>2</td>\n",
              "      <td>1</td>\n",
              "      <td>10000</td>\n",
              "      <td>88996</td>\n",
              "    </tr>\n",
              "    <tr>\n",
              "      <th>97189</th>\n",
              "      <td>1868</td>\n",
              "      <td>641</td>\n",
              "      <td>4</td>\n",
              "      <td>1</td>\n",
              "      <td>10000</td>\n",
              "      <td>87190</td>\n",
              "    </tr>\n",
              "  </tbody>\n",
              "</table>\n",
              "<p>97190 rows × 6 columns</p>\n",
              "</div>"
            ],
            "text/plain": [
              "       user_id  problem_id  amount_submit  is_final  pre_score  diffirence_time\n",
              "0            1          81              1         1          0                0\n",
              "1            1         370              1         1      10000                0\n",
              "2            4           3              1         1      10000                0\n",
              "3            4           4              1         1      10000                0\n",
              "4            4           5              5         1      10000              714\n",
              "...        ...         ...            ...       ...        ...              ...\n",
              "97185     1868         637              4         1      10000            94853\n",
              "97186     1868         638              4         1      10000            92371\n",
              "97187     1868         639              2         1      10000            91377\n",
              "97188     1868         640              2         1      10000            88996\n",
              "97189     1868         641              4         1      10000            87190\n",
              "\n",
              "[97190 rows x 6 columns]"
            ]
          },
          "metadata": {
            "tags": []
          },
          "execution_count": 6
        }
      ]
    },
    {
      "cell_type": "markdown",
      "metadata": {
        "id": "JW_HmqDcBHjn"
      },
      "source": [
        "##Xử lý user_features"
      ]
    },
    {
      "cell_type": "markdown",
      "metadata": {
        "id": "LEkBP1iiDTl1"
      },
      "source": [
        "> Biến đổi về theo user_id để có thể ánh xạ với feature_score\n"
      ]
    },
    {
      "cell_type": "code",
      "metadata": {
        "id": "HN4AT6mh9Jbq"
      },
      "source": [
        "synthetic = user_feature.groupby(['user_id']).agg(list)"
      ],
      "execution_count": 12,
      "outputs": []
    },
    {
      "cell_type": "code",
      "metadata": {
        "colab": {
          "base_uri": "https://localhost:8080/",
          "height": 569
        },
        "id": "0BYgsCu6-B0N",
        "outputId": "ebe19d05-08f3-4fbd-8fb7-99c0ecb9336d"
      },
      "source": [
        "synthetic"
      ],
      "execution_count": 13,
      "outputs": [
        {
          "output_type": "execute_result",
          "data": {
            "text/html": [
              "<div>\n",
              "<style scoped>\n",
              "    .dataframe tbody tr th:only-of-type {\n",
              "        vertical-align: middle;\n",
              "    }\n",
              "\n",
              "    .dataframe tbody tr th {\n",
              "        vertical-align: top;\n",
              "    }\n",
              "\n",
              "    .dataframe thead th {\n",
              "        text-align: right;\n",
              "    }\n",
              "</style>\n",
              "<table border=\"1\" class=\"dataframe\">\n",
              "  <thead>\n",
              "    <tr style=\"text-align: right;\">\n",
              "      <th></th>\n",
              "      <th>problem_id</th>\n",
              "      <th>amount_submit</th>\n",
              "      <th>is_final</th>\n",
              "      <th>pre_score</th>\n",
              "      <th>diffirence_time</th>\n",
              "    </tr>\n",
              "    <tr>\n",
              "      <th>user_id</th>\n",
              "      <th></th>\n",
              "      <th></th>\n",
              "      <th></th>\n",
              "      <th></th>\n",
              "      <th></th>\n",
              "    </tr>\n",
              "  </thead>\n",
              "  <tbody>\n",
              "    <tr>\n",
              "      <th>1</th>\n",
              "      <td>[81, 370]</td>\n",
              "      <td>[1, 1]</td>\n",
              "      <td>[1, 1]</td>\n",
              "      <td>[0, 10000]</td>\n",
              "      <td>[0, 0]</td>\n",
              "    </tr>\n",
              "    <tr>\n",
              "      <th>4</th>\n",
              "      <td>[3, 4, 5, 6, 7, 8, 9, 81, 101, 104, 106, 107, ...</td>\n",
              "      <td>[1, 1, 5, 1, 1, 1, 1, 1, 2, 1, 1, 1, 1, 1, 1, ...</td>\n",
              "      <td>[1, 1, 1, 1, 1, 1, 1, 1, 1, 1, 1, 1, 1, 1, 1, ...</td>\n",
              "      <td>[10000, 10000, 10000, 10000, 10000, 10000, 100...</td>\n",
              "      <td>[0, 0, 714, 0, 0, 0, 0, 0, 119, 0, 0, 0, 0, 0,...</td>\n",
              "    </tr>\n",
              "    <tr>\n",
              "      <th>5</th>\n",
              "      <td>[1, 4, 81, 176, 243]</td>\n",
              "      <td>[1, 1, 1, 1, 2]</td>\n",
              "      <td>[1, 1, 1, 1, 1]</td>\n",
              "      <td>[10000, 10000, 0, 10000, 0]</td>\n",
              "      <td>[0, 0, 0, 0, 38]</td>\n",
              "    </tr>\n",
              "    <tr>\n",
              "      <th>6</th>\n",
              "      <td>[1, 3, 9, 80, 81, 82, 83, 84, 85, 86, 87, 88, ...</td>\n",
              "      <td>[2, 2, 1, 5, 2, 1, 4, 1, 1, 1, 4, 3, 3, 2, 1, ...</td>\n",
              "      <td>[1, 1, 1, 1, 1, 1, 1, 1, 1, 1, 1, 1, 1, 1, 1, ...</td>\n",
              "      <td>[0, 10000, 0, 10000, 10000, 10000, 10000, 1000...</td>\n",
              "      <td>[105, 0, 0, 6068, 0, 0, 183, 0, 0, 0, 417, 812...</td>\n",
              "    </tr>\n",
              "    <tr>\n",
              "      <th>7</th>\n",
              "      <td>[265, 390]</td>\n",
              "      <td>[2, 3]</td>\n",
              "      <td>[1, 1]</td>\n",
              "      <td>[8571, 638]</td>\n",
              "      <td>[598, 283]</td>\n",
              "    </tr>\n",
              "    <tr>\n",
              "      <th>...</th>\n",
              "      <td>...</td>\n",
              "      <td>...</td>\n",
              "      <td>...</td>\n",
              "      <td>...</td>\n",
              "      <td>...</td>\n",
              "    </tr>\n",
              "    <tr>\n",
              "      <th>1860</th>\n",
              "      <td>[3, 4, 5, 7, 8, 9, 11, 25, 174, 175, 176, 177,...</td>\n",
              "      <td>[1, 2, 2, 3, 2, 1, 2, 2, 1, 2, 2, 4, 2, 1, 2, ...</td>\n",
              "      <td>[1, 1, 1, 1, 1, 1, 1, 1, 1, 1, 1, 1, 1, 1, 1, ...</td>\n",
              "      <td>[10000, 0, 10000, 0, 10000, 0, 0, 10000, 0, 10...</td>\n",
              "      <td>[0, 115, 0, 86, 0, 0, 54, 0, 0, 50, 223291, 22...</td>\n",
              "    </tr>\n",
              "    <tr>\n",
              "      <th>1862</th>\n",
              "      <td>[1, 10, 11, 176, 181, 182]</td>\n",
              "      <td>[4, 2, 3, 1, 1, 1]</td>\n",
              "      <td>[1, 1, 1, 1, 1, 1]</td>\n",
              "      <td>[10000, 0, 0, 10000, 10000, 10000]</td>\n",
              "      <td>[2188, 113, 359, 0, 0, 0]</td>\n",
              "    </tr>\n",
              "    <tr>\n",
              "      <th>1864</th>\n",
              "      <td>[1, 3, 4, 5, 6, 7, 8, 10, 11, 80, 81, 82, 84, ...</td>\n",
              "      <td>[5, 6, 10, 1, 3, 5, 5, 3, 12, 4, 5, 3, 2, 1, 1...</td>\n",
              "      <td>[1, 1, 1, 1, 1, 1, 1, 1, 1, 1, 1, 1, 1, 1, 1, ...</td>\n",
              "      <td>[10000, 10000, 10000, 10000, 0, 10000, 10000, ...</td>\n",
              "      <td>[160979, 161000, 160963, 0, 386, 1260, 183, 10...</td>\n",
              "    </tr>\n",
              "    <tr>\n",
              "      <th>1865</th>\n",
              "      <td>[343, 344, 345, 346, 347, 348, 349, 352, 353, ...</td>\n",
              "      <td>[6, 5, 10, 9, 8, 12, 5, 6, 1, 3, 7, 7, 3, 2, 1...</td>\n",
              "      <td>[1, 1, 1, 1, 1, 1, 1, 1, 1, 1, 1, 1, 1, 1, 1, ...</td>\n",
              "      <td>[1000, 1000, 1000, 10000, 10000, 10000, 10000,...</td>\n",
              "      <td>[390, 1194, 59685, 135126, 721, 7359, 569, 234...</td>\n",
              "    </tr>\n",
              "    <tr>\n",
              "      <th>1868</th>\n",
              "      <td>[569, 575, 576, 583, 584, 585, 586, 615, 616, ...</td>\n",
              "      <td>[2, 2, 3, 2, 2, 3, 5, 3, 2, 1, 1, 1, 2, 1, 1, ...</td>\n",
              "      <td>[1, 1, 1, 1, 1, 1, 1, 1, 1, 1, 1, 1, 1, 1, 1, ...</td>\n",
              "      <td>[10000, 10000, 10000, 10000, 10000, 10000, 100...</td>\n",
              "      <td>[741546, 649153, 730584, 590044, 566241, 64773...</td>\n",
              "    </tr>\n",
              "  </tbody>\n",
              "</table>\n",
              "<p>1159 rows × 5 columns</p>\n",
              "</div>"
            ],
            "text/plain": [
              "                                                problem_id  ...                                    diffirence_time\n",
              "user_id                                                     ...                                                   \n",
              "1                                                [81, 370]  ...                                             [0, 0]\n",
              "4        [3, 4, 5, 6, 7, 8, 9, 81, 101, 104, 106, 107, ...  ...  [0, 0, 714, 0, 0, 0, 0, 0, 119, 0, 0, 0, 0, 0,...\n",
              "5                                     [1, 4, 81, 176, 243]  ...                                   [0, 0, 0, 0, 38]\n",
              "6        [1, 3, 9, 80, 81, 82, 83, 84, 85, 86, 87, 88, ...  ...  [105, 0, 0, 6068, 0, 0, 183, 0, 0, 0, 417, 812...\n",
              "7                                               [265, 390]  ...                                         [598, 283]\n",
              "...                                                    ...  ...                                                ...\n",
              "1860     [3, 4, 5, 7, 8, 9, 11, 25, 174, 175, 176, 177,...  ...  [0, 115, 0, 86, 0, 0, 54, 0, 0, 50, 223291, 22...\n",
              "1862                            [1, 10, 11, 176, 181, 182]  ...                          [2188, 113, 359, 0, 0, 0]\n",
              "1864     [1, 3, 4, 5, 6, 7, 8, 10, 11, 80, 81, 82, 84, ...  ...  [160979, 161000, 160963, 0, 386, 1260, 183, 10...\n",
              "1865     [343, 344, 345, 346, 347, 348, 349, 352, 353, ...  ...  [390, 1194, 59685, 135126, 721, 7359, 569, 234...\n",
              "1868     [569, 575, 576, 583, 584, 585, 586, 615, 616, ...  ...  [741546, 649153, 730584, 590044, 566241, 64773...\n",
              "\n",
              "[1159 rows x 5 columns]"
            ]
          },
          "metadata": {
            "tags": []
          },
          "execution_count": 13
        }
      ]
    },
    {
      "cell_type": "markdown",
      "metadata": {
        "id": "kzNf687RoQeu"
      },
      "source": [
        ">Bảng điểm cho problem_id"
      ]
    },
    {
      "cell_type": "code",
      "metadata": {
        "id": "oTCoKYT6QP9S"
      },
      "source": [
        "#tried_feature\n",
        "count_sb_problem = Counter(data_wecode['problem_id']).items()\n",
        "score_table = pd.DataFrame(count_sb_problem, columns=['problem_id', 'tried'])\n",
        "score_table = score_table.sort_values('problem_id')\n",
        "score_table = score_table.set_index('problem_id')\n",
        "#solved_feature\n",
        "solved_feature = {'problem_id': data_wecode['problem_id'], 'solved': data_wecode['is_final']}\n",
        "solved_feature = pd.DataFrame(solved_feature, columns=['problem_id', 'solved'])\n",
        "solved_feature = solved_feature.groupby(['problem_id']).agg('sum')"
      ],
      "execution_count": 14,
      "outputs": []
    },
    {
      "cell_type": "code",
      "metadata": {
        "colab": {
          "base_uri": "https://localhost:8080/",
          "height": 450
        },
        "id": "BBPy7UDGX3a3",
        "outputId": "515b7432-dc02-4380-c437-24d9d35bba80"
      },
      "source": [
        "score_table['solved'] = solved_feature['solved']\n",
        "score_table['Tried/Solved'] = score_table['tried']/solved_feature['solved']\n",
        "score_table = score_table.replace(max(score_table['Tried/Solved']), 0) #thay những Tried/Solved = number/0 thành 0. Vì không có ai giải được cũng không tính điểm thôi\n",
        "score_table"
      ],
      "execution_count": 15,
      "outputs": [
        {
          "output_type": "execute_result",
          "data": {
            "text/html": [
              "<div>\n",
              "<style scoped>\n",
              "    .dataframe tbody tr th:only-of-type {\n",
              "        vertical-align: middle;\n",
              "    }\n",
              "\n",
              "    .dataframe tbody tr th {\n",
              "        vertical-align: top;\n",
              "    }\n",
              "\n",
              "    .dataframe thead th {\n",
              "        text-align: right;\n",
              "    }\n",
              "</style>\n",
              "<table border=\"1\" class=\"dataframe\">\n",
              "  <thead>\n",
              "    <tr style=\"text-align: right;\">\n",
              "      <th></th>\n",
              "      <th>tried</th>\n",
              "      <th>solved</th>\n",
              "      <th>Tried/Solved</th>\n",
              "    </tr>\n",
              "    <tr>\n",
              "      <th>problem_id</th>\n",
              "      <th></th>\n",
              "      <th></th>\n",
              "      <th></th>\n",
              "    </tr>\n",
              "  </thead>\n",
              "  <tbody>\n",
              "    <tr>\n",
              "      <th>1</th>\n",
              "      <td>3249</td>\n",
              "      <td>1001</td>\n",
              "      <td>3.245754</td>\n",
              "    </tr>\n",
              "    <tr>\n",
              "      <th>2</th>\n",
              "      <td>231</td>\n",
              "      <td>53</td>\n",
              "      <td>4.358491</td>\n",
              "    </tr>\n",
              "    <tr>\n",
              "      <th>3</th>\n",
              "      <td>2992</td>\n",
              "      <td>988</td>\n",
              "      <td>3.028340</td>\n",
              "    </tr>\n",
              "    <tr>\n",
              "      <th>4</th>\n",
              "      <td>4213</td>\n",
              "      <td>899</td>\n",
              "      <td>4.686318</td>\n",
              "    </tr>\n",
              "    <tr>\n",
              "      <th>5</th>\n",
              "      <td>1271</td>\n",
              "      <td>840</td>\n",
              "      <td>1.513095</td>\n",
              "    </tr>\n",
              "    <tr>\n",
              "      <th>...</th>\n",
              "      <td>...</td>\n",
              "      <td>...</td>\n",
              "      <td>...</td>\n",
              "    </tr>\n",
              "    <tr>\n",
              "      <th>692</th>\n",
              "      <td>5</td>\n",
              "      <td>2</td>\n",
              "      <td>2.500000</td>\n",
              "    </tr>\n",
              "    <tr>\n",
              "      <th>695</th>\n",
              "      <td>29</td>\n",
              "      <td>8</td>\n",
              "      <td>3.625000</td>\n",
              "    </tr>\n",
              "    <tr>\n",
              "      <th>696</th>\n",
              "      <td>20</td>\n",
              "      <td>3</td>\n",
              "      <td>6.666667</td>\n",
              "    </tr>\n",
              "    <tr>\n",
              "      <th>697</th>\n",
              "      <td>23</td>\n",
              "      <td>3</td>\n",
              "      <td>7.666667</td>\n",
              "    </tr>\n",
              "    <tr>\n",
              "      <th>698</th>\n",
              "      <td>17</td>\n",
              "      <td>8</td>\n",
              "      <td>2.125000</td>\n",
              "    </tr>\n",
              "  </tbody>\n",
              "</table>\n",
              "<p>634 rows × 3 columns</p>\n",
              "</div>"
            ],
            "text/plain": [
              "            tried  solved  Tried/Solved\n",
              "problem_id                             \n",
              "1            3249    1001      3.245754\n",
              "2             231      53      4.358491\n",
              "3            2992     988      3.028340\n",
              "4            4213     899      4.686318\n",
              "5            1271     840      1.513095\n",
              "...           ...     ...           ...\n",
              "692             5       2      2.500000\n",
              "695            29       8      3.625000\n",
              "696            20       3      6.666667\n",
              "697            23       3      7.666667\n",
              "698            17       8      2.125000\n",
              "\n",
              "[634 rows x 3 columns]"
            ]
          },
          "metadata": {
            "tags": []
          },
          "execution_count": 15
        }
      ]
    },
    {
      "cell_type": "code",
      "metadata": {
        "colab": {
          "base_uri": "https://localhost:8080/",
          "height": 419
        },
        "id": "EQCFso_UO81D",
        "outputId": "c3209171-738a-4e82-9981-82b50d91013e"
      },
      "source": [
        "def newFeature(x):\n",
        "  return score_table['Tried/Solved'][x]\n",
        "extract = {'user_id': user_feature['user_id'], 'problem_id': user_feature['problem_id'],\n",
        "           'amount_submit': user_feature['amount_submit'], 'is_final': user_feature['is_final']}\n",
        "extract = pd.DataFrame(extract)\n",
        "extract['score'] = extract['problem_id'].apply(newFeature) * extract['is_final']\n",
        "extract['score'] = extract['score']/extract['amount_submit']\n",
        "del extract['amount_submit'], extract['problem_id'], extract['is_final']\n",
        "extract = extract.groupby('user_id').agg('sum')\n",
        "extract = extract.reset_index()\n",
        "extract"
      ],
      "execution_count": 16,
      "outputs": [
        {
          "output_type": "execute_result",
          "data": {
            "text/html": [
              "<div>\n",
              "<style scoped>\n",
              "    .dataframe tbody tr th:only-of-type {\n",
              "        vertical-align: middle;\n",
              "    }\n",
              "\n",
              "    .dataframe tbody tr th {\n",
              "        vertical-align: top;\n",
              "    }\n",
              "\n",
              "    .dataframe thead th {\n",
              "        text-align: right;\n",
              "    }\n",
              "</style>\n",
              "<table border=\"1\" class=\"dataframe\">\n",
              "  <thead>\n",
              "    <tr style=\"text-align: right;\">\n",
              "      <th></th>\n",
              "      <th>user_id</th>\n",
              "      <th>score</th>\n",
              "    </tr>\n",
              "  </thead>\n",
              "  <tbody>\n",
              "    <tr>\n",
              "      <th>0</th>\n",
              "      <td>1</td>\n",
              "      <td>4.409615</td>\n",
              "    </tr>\n",
              "    <tr>\n",
              "      <th>1</th>\n",
              "      <td>4</td>\n",
              "      <td>76.330802</td>\n",
              "    </tr>\n",
              "    <tr>\n",
              "      <th>2</th>\n",
              "      <td>5</td>\n",
              "      <td>13.610509</td>\n",
              "    </tr>\n",
              "    <tr>\n",
              "      <th>3</th>\n",
              "      <td>6</td>\n",
              "      <td>184.542450</td>\n",
              "    </tr>\n",
              "    <tr>\n",
              "      <th>4</th>\n",
              "      <td>7</td>\n",
              "      <td>4.161111</td>\n",
              "    </tr>\n",
              "    <tr>\n",
              "      <th>...</th>\n",
              "      <td>...</td>\n",
              "      <td>...</td>\n",
              "    </tr>\n",
              "    <tr>\n",
              "      <th>1154</th>\n",
              "      <td>1860</td>\n",
              "      <td>64.666583</td>\n",
              "    </tr>\n",
              "    <tr>\n",
              "      <th>1155</th>\n",
              "      <td>1862</td>\n",
              "      <td>8.455327</td>\n",
              "    </tr>\n",
              "    <tr>\n",
              "      <th>1156</th>\n",
              "      <td>1864</td>\n",
              "      <td>87.652435</td>\n",
              "    </tr>\n",
              "    <tr>\n",
              "      <th>1157</th>\n",
              "      <td>1865</td>\n",
              "      <td>11.998391</td>\n",
              "    </tr>\n",
              "    <tr>\n",
              "      <th>1158</th>\n",
              "      <td>1868</td>\n",
              "      <td>24.737180</td>\n",
              "    </tr>\n",
              "  </tbody>\n",
              "</table>\n",
              "<p>1159 rows × 2 columns</p>\n",
              "</div>"
            ],
            "text/plain": [
              "      user_id       score\n",
              "0           1    4.409615\n",
              "1           4   76.330802\n",
              "2           5   13.610509\n",
              "3           6  184.542450\n",
              "4           7    4.161111\n",
              "...       ...         ...\n",
              "1154     1860   64.666583\n",
              "1155     1862    8.455327\n",
              "1156     1864   87.652435\n",
              "1157     1865   11.998391\n",
              "1158     1868   24.737180\n",
              "\n",
              "[1159 rows x 2 columns]"
            ]
          },
          "metadata": {
            "tags": []
          },
          "execution_count": 16
        }
      ]
    },
    {
      "cell_type": "markdown",
      "metadata": {
        "id": "_lM8dkyRujKm"
      },
      "source": [
        "Idea: từ DataFrame **synthetic** và **score_table** tạo feature bằng cách tính điểm\n",
        "\n",
        "Vd: user_id = 1 giải problem 81 và 370 chiếu qua DataFrame score_table lấy Tried/Solved của problem 81 và 370 chia amount_submit của tường thằng the user_id cộng lại.\n",
        "\n",
        "Hoặc có thể dùng môt số công thức khác."
      ]
    },
    {
      "cell_type": "markdown",
      "metadata": {
        "id": "PHdqxSakSK8r"
      },
      "source": [
        "#**Score Data**"
      ]
    },
    {
      "cell_type": "code",
      "metadata": {
        "colab": {
          "base_uri": "https://localhost:8080/",
          "height": 419
        },
        "id": "OGcswZqFxIH8",
        "outputId": "f577a2e5-4f7b-4796-aeed-c46b299d7e91"
      },
      "source": [
        "data_score"
      ],
      "execution_count": 9,
      "outputs": [
        {
          "output_type": "execute_result",
          "data": {
            "text/html": [
              "<div>\n",
              "<style scoped>\n",
              "    .dataframe tbody tr th:only-of-type {\n",
              "        vertical-align: middle;\n",
              "    }\n",
              "\n",
              "    .dataframe tbody tr th {\n",
              "        vertical-align: top;\n",
              "    }\n",
              "\n",
              "    .dataframe thead th {\n",
              "        text-align: right;\n",
              "    }\n",
              "</style>\n",
              "<table border=\"1\" class=\"dataframe\">\n",
              "  <thead>\n",
              "    <tr style=\"text-align: right;\">\n",
              "      <th></th>\n",
              "      <th>id</th>\n",
              "      <th>QT</th>\n",
              "      <th>GK</th>\n",
              "      <th>TH</th>\n",
              "      <th>CK</th>\n",
              "      <th>TBM</th>\n",
              "      <th>TBTL</th>\n",
              "    </tr>\n",
              "  </thead>\n",
              "  <tbody>\n",
              "    <tr>\n",
              "      <th>0</th>\n",
              "      <td>22</td>\n",
              "      <td>10</td>\n",
              "      <td>9</td>\n",
              "      <td>8.5</td>\n",
              "      <td>8.5</td>\n",
              "      <td>8.8</td>\n",
              "      <td>8.52</td>\n",
              "    </tr>\n",
              "    <tr>\n",
              "      <th>1</th>\n",
              "      <td>24</td>\n",
              "      <td>10</td>\n",
              "      <td>8</td>\n",
              "      <td>10</td>\n",
              "      <td>9.5</td>\n",
              "      <td>9.4</td>\n",
              "      <td>8.41</td>\n",
              "    </tr>\n",
              "    <tr>\n",
              "      <th>2</th>\n",
              "      <td>27</td>\n",
              "      <td>10</td>\n",
              "      <td>10</td>\n",
              "      <td>10</td>\n",
              "      <td>10</td>\n",
              "      <td>10</td>\n",
              "      <td>8.67</td>\n",
              "    </tr>\n",
              "    <tr>\n",
              "      <th>3</th>\n",
              "      <td>28</td>\n",
              "      <td>10</td>\n",
              "      <td>9.5</td>\n",
              "      <td>7.5</td>\n",
              "      <td>9.5</td>\n",
              "      <td>9.2</td>\n",
              "      <td>7.39</td>\n",
              "    </tr>\n",
              "    <tr>\n",
              "      <th>4</th>\n",
              "      <td>29</td>\n",
              "      <td>10</td>\n",
              "      <td>9.5</td>\n",
              "      <td>5</td>\n",
              "      <td>8.5</td>\n",
              "      <td>8.2</td>\n",
              "      <td>8.05</td>\n",
              "    </tr>\n",
              "    <tr>\n",
              "      <th>...</th>\n",
              "      <td>...</td>\n",
              "      <td>...</td>\n",
              "      <td>...</td>\n",
              "      <td>...</td>\n",
              "      <td>...</td>\n",
              "      <td>...</td>\n",
              "      <td>...</td>\n",
              "    </tr>\n",
              "    <tr>\n",
              "      <th>970</th>\n",
              "      <td>1857</td>\n",
              "      <td>5</td>\n",
              "      <td>4.5</td>\n",
              "      <td>10</td>\n",
              "      <td>4</td>\n",
              "      <td>6</td>\n",
              "      <td>6.03</td>\n",
              "    </tr>\n",
              "    <tr>\n",
              "      <th>971</th>\n",
              "      <td>1859</td>\n",
              "      <td>8</td>\n",
              "      <td>5</td>\n",
              "      <td>10</td>\n",
              "      <td>1.5</td>\n",
              "      <td>5.4</td>\n",
              "      <td>5.06</td>\n",
              "    </tr>\n",
              "    <tr>\n",
              "      <th>972</th>\n",
              "      <td>1862</td>\n",
              "      <td>5</td>\n",
              "      <td>6.5</td>\n",
              "      <td>1</td>\n",
              "      <td>7.5</td>\n",
              "      <td>5.1</td>\n",
              "      <td>4.71</td>\n",
              "    </tr>\n",
              "    <tr>\n",
              "      <th>973</th>\n",
              "      <td>1865</td>\n",
              "      <td>6.5</td>\n",
              "      <td></td>\n",
              "      <td>3</td>\n",
              "      <td>7.5</td>\n",
              "      <td></td>\n",
              "      <td>6.89</td>\n",
              "    </tr>\n",
              "    <tr>\n",
              "      <th>974</th>\n",
              "      <td>1866</td>\n",
              "      <td>9</td>\n",
              "      <td>7.5</td>\n",
              "      <td>2</td>\n",
              "      <td>5</td>\n",
              "      <td>5</td>\n",
              "      <td>7.05</td>\n",
              "    </tr>\n",
              "  </tbody>\n",
              "</table>\n",
              "<p>975 rows × 7 columns</p>\n",
              "</div>"
            ],
            "text/plain": [
              "       id   QT   GK   TH   CK  TBM  TBTL\n",
              "0      22   10    9  8.5  8.5  8.8  8.52\n",
              "1      24   10    8   10  9.5  9.4  8.41\n",
              "2      27   10   10   10   10   10  8.67\n",
              "3      28   10  9.5  7.5  9.5  9.2  7.39\n",
              "4      29   10  9.5    5  8.5  8.2  8.05\n",
              "..    ...  ...  ...  ...  ...  ...   ...\n",
              "970  1857    5  4.5   10    4    6  6.03\n",
              "971  1859    8    5   10  1.5  5.4  5.06\n",
              "972  1862    5  6.5    1  7.5  5.1  4.71\n",
              "973  1865  6.5         3  7.5       6.89\n",
              "974  1866    9  7.5    2    5    5  7.05\n",
              "\n",
              "[975 rows x 7 columns]"
            ]
          },
          "metadata": {
            "tags": []
          },
          "execution_count": 9
        }
      ]
    },
    {
      "cell_type": "code",
      "metadata": {
        "id": "FYnWBoyh_bES"
      },
      "source": [
        "features_score = {'id': data_score['id'], 'CK': data_score['CK']}\n",
        "features_score = pd.DataFrame(features_score, columns = ['id', 'CK'])"
      ],
      "execution_count": 10,
      "outputs": []
    },
    {
      "cell_type": "code",
      "metadata": {
        "id": "T7jQ3pEC_4yd",
        "colab": {
          "base_uri": "https://localhost:8080/",
          "height": 419
        },
        "outputId": "2024cf96-bc19-4540-cc76-ca4394ce6341"
      },
      "source": [
        "features_score"
      ],
      "execution_count": 11,
      "outputs": [
        {
          "output_type": "execute_result",
          "data": {
            "text/html": [
              "<div>\n",
              "<style scoped>\n",
              "    .dataframe tbody tr th:only-of-type {\n",
              "        vertical-align: middle;\n",
              "    }\n",
              "\n",
              "    .dataframe tbody tr th {\n",
              "        vertical-align: top;\n",
              "    }\n",
              "\n",
              "    .dataframe thead th {\n",
              "        text-align: right;\n",
              "    }\n",
              "</style>\n",
              "<table border=\"1\" class=\"dataframe\">\n",
              "  <thead>\n",
              "    <tr style=\"text-align: right;\">\n",
              "      <th></th>\n",
              "      <th>id</th>\n",
              "      <th>CK</th>\n",
              "    </tr>\n",
              "  </thead>\n",
              "  <tbody>\n",
              "    <tr>\n",
              "      <th>0</th>\n",
              "      <td>22</td>\n",
              "      <td>8.5</td>\n",
              "    </tr>\n",
              "    <tr>\n",
              "      <th>1</th>\n",
              "      <td>24</td>\n",
              "      <td>9.5</td>\n",
              "    </tr>\n",
              "    <tr>\n",
              "      <th>2</th>\n",
              "      <td>27</td>\n",
              "      <td>10</td>\n",
              "    </tr>\n",
              "    <tr>\n",
              "      <th>3</th>\n",
              "      <td>28</td>\n",
              "      <td>9.5</td>\n",
              "    </tr>\n",
              "    <tr>\n",
              "      <th>4</th>\n",
              "      <td>29</td>\n",
              "      <td>8.5</td>\n",
              "    </tr>\n",
              "    <tr>\n",
              "      <th>...</th>\n",
              "      <td>...</td>\n",
              "      <td>...</td>\n",
              "    </tr>\n",
              "    <tr>\n",
              "      <th>970</th>\n",
              "      <td>1857</td>\n",
              "      <td>4</td>\n",
              "    </tr>\n",
              "    <tr>\n",
              "      <th>971</th>\n",
              "      <td>1859</td>\n",
              "      <td>1.5</td>\n",
              "    </tr>\n",
              "    <tr>\n",
              "      <th>972</th>\n",
              "      <td>1862</td>\n",
              "      <td>7.5</td>\n",
              "    </tr>\n",
              "    <tr>\n",
              "      <th>973</th>\n",
              "      <td>1865</td>\n",
              "      <td>7.5</td>\n",
              "    </tr>\n",
              "    <tr>\n",
              "      <th>974</th>\n",
              "      <td>1866</td>\n",
              "      <td>5</td>\n",
              "    </tr>\n",
              "  </tbody>\n",
              "</table>\n",
              "<p>975 rows × 2 columns</p>\n",
              "</div>"
            ],
            "text/plain": [
              "       id   CK\n",
              "0      22  8.5\n",
              "1      24  9.5\n",
              "2      27   10\n",
              "3      28  9.5\n",
              "4      29  8.5\n",
              "..    ...  ...\n",
              "970  1857    4\n",
              "971  1859  1.5\n",
              "972  1862  7.5\n",
              "973  1865  7.5\n",
              "974  1866    5\n",
              "\n",
              "[975 rows x 2 columns]"
            ]
          },
          "metadata": {
            "tags": []
          },
          "execution_count": 11
        }
      ]
    },
    {
      "cell_type": "markdown",
      "metadata": {
        "id": "vE0ko2Bop_aq"
      },
      "source": [
        "#**Vẽ (scatter plot)**"
      ]
    },
    {
      "cell_type": "code",
      "metadata": {
        "id": "1njALgMM11hr"
      },
      "source": [
        "# define scatter plot method\n",
        "# function has two agurment\n",
        "# 1 feature, 1 score\n",
        "# both agurment are DataFrame\n",
        "# each has an \"id\" column, a \"somthing\" column\n",
        "# example:\n",
        "#    DataFrame feature:\n",
        "#    |-id-|-feature-|\n",
        "#    |----|---------|\n",
        "#    | 2  | 2.5     |\n",
        "#    | 3  | 2.0     |\n",
        "#    | 6  | 1.0     |\n",
        "#    | 69 | 6.9     |\n",
        "#    | ...| ...     |\n",
        "# data's type must be number, like int, float. \n",
        "\n",
        "import matplotlib.pyplot as plt\n",
        "\n",
        "def scatter_plot_1feat_1score( feat, score ):\n",
        "    _whole_data = pd.merge( feat, score, on=\"id\", how=\"inner\" )\n",
        "    _np_data = _whole_data.to_numpy()\n",
        "\n",
        "    _plt_X = _np_data[:,1]\n",
        "    _plt_Xlabel = _whole_data.columns[1]\n",
        "    _plt_y = _np_data[:,2]\n",
        "    _plt_ylabel = _whole_data.columns[2]\n",
        "\n",
        "    plt.plot( _plt_X, _plt_y, \"x\" )\n",
        "    plt.xlabel( _plt_Xlabel )\n",
        "    plt.ylabel( _plt_ylabel )\n",
        "    plt.show()\n"
      ],
      "execution_count": 17,
      "outputs": []
    },
    {
      "cell_type": "code",
      "metadata": {
        "id": "TNH2DwSz3_lb"
      },
      "source": [
        "_feat = extract.rename( columns={\"user_id\":\"id\"})\n",
        "_score = features_score.loc[ features_score[\"CK\"] != \"\\xa0\" ]\n",
        "_score = _score.astype( {\"CK\":float} )"
      ],
      "execution_count": 18,
      "outputs": []
    },
    {
      "cell_type": "code",
      "metadata": {
        "id": "jihO_K5u4wt_",
        "colab": {
          "base_uri": "https://localhost:8080/",
          "height": 279
        },
        "outputId": "8674bf75-dbd9-4425-852c-690ffd2b8a07"
      },
      "source": [
        "scatter_plot_1feat_1score( _feat, _score )"
      ],
      "execution_count": 19,
      "outputs": [
        {
          "output_type": "display_data",
          "data": {
            "image/png": "[encoded data removed]",
            "text/plain": [
              "<Figure size 432x288 with 1 Axes>"
            ]
          },
          "metadata": {
            "tags": [],
            "needs_background": "light"
          }
        }
      ]
    },
    {
      "cell_type": "markdown",
      "metadata": {
        "id": "POVVAwiFrgAa"
      },
      "source": [
        "Thấy feature không đẹp, thế này chắc chỉ có thêm feature mới giải quyết được vấn đề"
      ]
    },
    {
      "cell_type": "markdown",
      "metadata": {
        "id": "B3LhC9Zlj4CJ"
      },
      "source": [
        "#**Lấy các Feature khác**"
      ]
    },
    {
      "cell_type": "markdown",
      "metadata": {
        "id": "XRY3vppR1eOW"
      },
      "source": [
        "##Feature \"Số problem đã solved\" "
      ]
    },
    {
      "cell_type": "code",
      "metadata": {
        "id": "y7971AkC1q1w"
      },
      "source": [
        "df_solved = data_wecode[ data_wecode[\"is_final\"] == 1 ]\n",
        "df_solved = df_solved[ df_solved[\"pre_score\"] == 10000 ]"
      ],
      "execution_count": 20,
      "outputs": []
    },
    {
      "cell_type": "code",
      "metadata": {
        "id": "bl9G8XrY316g"
      },
      "source": [
        "count_df_score = df_solved.set_index([\"assignment_id\", \"problem_id\", \"user_id\"]).count( level =\"user_id\" )"
      ],
      "execution_count": 21,
      "outputs": []
    },
    {
      "cell_type": "code",
      "metadata": {
        "id": "jChSqOC9--oO"
      },
      "source": [
        "df_count_df_score = count_df_score[\"id\"].to_frame()"
      ],
      "execution_count": 22,
      "outputs": []
    },
    {
      "cell_type": "code",
      "metadata": {
        "id": "lin1KYpvDr9e"
      },
      "source": [
        "df_count_df_score = df_count_df_score.reset_index()\n",
        "df_count_df_score = df_count_df_score.rename( columns={\"id\":\"solved\", \"user_id\":\"id\"})"
      ],
      "execution_count": 23,
      "outputs": []
    },
    {
      "cell_type": "code",
      "metadata": {
        "id": "efPsi8ESEeA4",
        "colab": {
          "base_uri": "https://localhost:8080/",
          "height": 279
        },
        "outputId": "f53380ee-7026-4a70-8541-beb7aae9ad4c"
      },
      "source": [
        "scatter_plot_1feat_1score( df_count_df_score, _score )"
      ],
      "execution_count": 24,
      "outputs": [
        {
          "output_type": "display_data",
          "data": {
            "image/png": "[encoded data removed]",
            "text/plain": [
              "<Figure size 432x288 with 1 Axes>"
            ]
          },
          "metadata": {
            "tags": [],
            "needs_background": "light"
          }
        }
      ]
    },
    {
      "cell_type": "markdown",
      "metadata": {
        "id": "2O_lBZ0HrJ2F"
      },
      "source": [
        "##Feature \"tổng pre_score của submit cuối của các problem\""
      ]
    },
    {
      "cell_type": "code",
      "metadata": {
        "id": "aGORYDXIr2ru"
      },
      "source": [
        "df_prescore = data_wecode.loc[ data_wecode[\"is_final\"] == 1 ][[\"user_id\",\"pre_score\"]]\n",
        "df_prescore = df_prescore.groupby([\"user_id\"]).sum()\n",
        "df_prescore = df_prescore.reset_index().rename( columns={\"user_id\":\"id\"} )"
      ],
      "execution_count": 25,
      "outputs": []
    },
    {
      "cell_type": "code",
      "metadata": {
        "id": "ElDv2gvp9T00",
        "colab": {
          "base_uri": "https://localhost:8080/",
          "height": 279
        },
        "outputId": "37c01c42-2074-461d-c249-5ce2add0cec0"
      },
      "source": [
        "scatter_plot_1feat_1score( df_prescore, _score )"
      ],
      "execution_count": 26,
      "outputs": [
        {
          "output_type": "display_data",
          "data": {
            "image/png": "[encoded data removed]",
            "text/plain": [
              "<Figure size 432x288 with 1 Axes>"
            ]
          },
          "metadata": {
            "tags": [],
            "needs_background": "light"
          }
        }
      ]
    },
    {
      "cell_type": "markdown",
      "metadata": {
        "id": "AhnOjFx69deg"
      },
      "source": [
        "Nhận xét : \n",
        "+ feature này gần như giống với feature \"số problem đã giải\".\n",
        "+ chỉ khác feature nhắc ở trên ở vài điểm do feature này tính luôn các problem chưa giải được của sv."
      ]
    },
    {
      "cell_type": "markdown",
      "metadata": {
        "id": "0Y_jCBs3rhfp"
      },
      "source": [
        "##Feature \"số problem/số submit của 1 sv\""
      ]
    },
    {
      "cell_type": "code",
      "metadata": {
        "id": "VW7J1mXFrz8p"
      },
      "source": [
        "#data số problem 1 sv có submit\n",
        "df_problem = data_wecode[[\"id\", \"user_id\", \"problem_id\", \"assignment_id\"]].drop_duplicates( subset = [\"user_id\", \"problem_id\", \"assignment_id\"], keep=\"first\" )\n",
        "df_problem = df_problem.set_index( [\"user_id\", \"problem_id\", \"assignment_id\"]).count(level=\"user_id\")\n",
        "df_problem = df_problem.reset_index()\n",
        "df_problem = df_problem.rename( columns = {\"id\":\"problems\", \"user_id\": \"id\" })"
      ],
      "execution_count": 27,
      "outputs": []
    },
    {
      "cell_type": "code",
      "metadata": {
        "id": "ky5tVza-xooI"
      },
      "source": [
        "#data số submit của 1 sv\n",
        "df_submit = data_wecode[[\"id\", \"user_id\", \"problem_id\", \"assignment_id\"]]\n",
        "df_submit = df_submit.set_index( [\"user_id\", \"problem_id\", \"assignment_id\"]).count(level=\"user_id\")\n",
        "df_submit = df_submit.reset_index()\n",
        "df_submit = df_submit.rename( columns = {\"id\":\"submits\", \"user_id\": \"id\" })"
      ],
      "execution_count": 28,
      "outputs": []
    },
    {
      "cell_type": "code",
      "metadata": {
        "id": "x1KKWkyv3VcV"
      },
      "source": [
        "df_problem_div_submit = pd.merge( df_problem, df_submit, on=\"id\", how = \"inner\")\n",
        "df_problem_div_submit[\"div\"] = df_problem_div_submit[\"problems\"] / df_problem_div_submit[\"submits\"]"
      ],
      "execution_count": 29,
      "outputs": []
    },
    {
      "cell_type": "code",
      "metadata": {
        "id": "pA5R9Tci5EaR",
        "colab": {
          "base_uri": "https://localhost:8080/",
          "height": 279
        },
        "outputId": "419a2700-044a-4dff-e81d-d174fbba3aa6"
      },
      "source": [
        "scatter_plot_1feat_1score( df_problem_div_submit[[\"id\", \"div\"]] , _score)"
      ],
      "execution_count": 30,
      "outputs": [
        {
          "output_type": "display_data",
          "data": {
            "image/png": "[encoded data removed]",
            "text/plain": [
              "<Figure size 432x288 with 1 Axes>"
            ]
          },
          "metadata": {
            "tags": [],
            "needs_background": "light"
          }
        }
      ]
    },
    {
      "cell_type": "markdown",
      "metadata": {
        "id": "WBpQ1TJHig4n"
      },
      "source": [
        "##Feature \"tổng số submision\" "
      ]
    },
    {
      "cell_type": "code",
      "metadata": {
        "id": "TzZqnoQRkkEV",
        "colab": {
          "base_uri": "https://localhost:8080/",
          "height": 279
        },
        "outputId": "e408acfe-9916-4d3e-c853-5cdaa234f1b8"
      },
      "source": [
        "scatter_plot_1feat_1score( df_submit, _score )"
      ],
      "execution_count": 31,
      "outputs": [
        {
          "output_type": "display_data",
          "data": {
            "image/png": "[encoded data removed]",
            "text/plain": [
              "<Figure size 432x288 with 1 Axes>"
            ]
          },
          "metadata": {
            "tags": [],
            "needs_background": "light"
          }
        }
      ]
    },
    {
      "cell_type": "markdown",
      "metadata": {
        "id": "Ep4rKvqW4X1U"
      },
      "source": [
        "#Build model linear regression và train"
      ]
    },
    {
      "cell_type": "markdown",
      "metadata": {
        "id": "3ni6Lys14nrK"
      },
      "source": [
        "data sẽ có các feature sau\n",
        "+ feat gì đó của cường ( Trương hãy sửa dòng này )\n",
        "+ số problem đã solved\n",
        "+ số problem/số submit của 1 sv\n",
        "+ tổng số submision"
      ]
    },
    {
      "cell_type": "code",
      "metadata": {
        "id": "rDs_bs274gnN",
        "colab": {
          "base_uri": "https://localhost:8080/",
          "height": 419
        },
        "outputId": "decdd447-7d1d-4a96-812c-06a2c1a4e699"
      },
      "source": [
        "wecode_feature = _feat # feat of Cuong\n",
        "wecode_feature = pd.merge( wecode_feature, df_count_df_score, on=\"id\", how=\"inner\" ) # feat solved\n",
        "wecode_feature = pd.merge( wecode_feature, df_problem_div_submit[[\"id\", \"div\"]], on=\"id\", how=\"inner\" ) # feat problem/sunmit\n",
        "wecode_feature = pd.merge( wecode_feature, df_submit, on=\"id\", how=\"inner\" ) # feat submits\n",
        "\n",
        "wecode_feature = pd.merge( wecode_feature, _score, on=\"id\", how=\"inner\" ) # output\n",
        "\n",
        "wecode_feature = wecode_feature.dropna()\n",
        "\n",
        "wecode_feature\n"
      ],
      "execution_count": 32,
      "outputs": [
        {
          "output_type": "execute_result",
          "data": {
            "text/html": [
              "<div>\n",
              "<style scoped>\n",
              "    .dataframe tbody tr th:only-of-type {\n",
              "        vertical-align: middle;\n",
              "    }\n",
              "\n",
              "    .dataframe tbody tr th {\n",
              "        vertical-align: top;\n",
              "    }\n",
              "\n",
              "    .dataframe thead th {\n",
              "        text-align: right;\n",
              "    }\n",
              "</style>\n",
              "<table border=\"1\" class=\"dataframe\">\n",
              "  <thead>\n",
              "    <tr style=\"text-align: right;\">\n",
              "      <th></th>\n",
              "      <th>id</th>\n",
              "      <th>score</th>\n",
              "      <th>solved</th>\n",
              "      <th>div</th>\n",
              "      <th>submits</th>\n",
              "      <th>CK</th>\n",
              "    </tr>\n",
              "  </thead>\n",
              "  <tbody>\n",
              "    <tr>\n",
              "      <th>0</th>\n",
              "      <td>24</td>\n",
              "      <td>128.489527</td>\n",
              "      <td>72</td>\n",
              "      <td>0.475610</td>\n",
              "      <td>164</td>\n",
              "      <td>9.5</td>\n",
              "    </tr>\n",
              "    <tr>\n",
              "      <th>1</th>\n",
              "      <td>27</td>\n",
              "      <td>6.027100</td>\n",
              "      <td>3</td>\n",
              "      <td>0.384615</td>\n",
              "      <td>13</td>\n",
              "      <td>10.0</td>\n",
              "    </tr>\n",
              "    <tr>\n",
              "      <th>2</th>\n",
              "      <td>29</td>\n",
              "      <td>118.021749</td>\n",
              "      <td>72</td>\n",
              "      <td>0.402010</td>\n",
              "      <td>199</td>\n",
              "      <td>8.5</td>\n",
              "    </tr>\n",
              "    <tr>\n",
              "      <th>3</th>\n",
              "      <td>34</td>\n",
              "      <td>128.575499</td>\n",
              "      <td>81</td>\n",
              "      <td>0.385321</td>\n",
              "      <td>218</td>\n",
              "      <td>6.5</td>\n",
              "    </tr>\n",
              "    <tr>\n",
              "      <th>4</th>\n",
              "      <td>35</td>\n",
              "      <td>241.752533</td>\n",
              "      <td>145</td>\n",
              "      <td>0.511785</td>\n",
              "      <td>297</td>\n",
              "      <td>4.5</td>\n",
              "    </tr>\n",
              "    <tr>\n",
              "      <th>...</th>\n",
              "      <td>...</td>\n",
              "      <td>...</td>\n",
              "      <td>...</td>\n",
              "      <td>...</td>\n",
              "      <td>...</td>\n",
              "      <td>...</td>\n",
              "    </tr>\n",
              "    <tr>\n",
              "      <th>791</th>\n",
              "      <td>1856</td>\n",
              "      <td>46.895253</td>\n",
              "      <td>23</td>\n",
              "      <td>0.484375</td>\n",
              "      <td>64</td>\n",
              "      <td>7.5</td>\n",
              "    </tr>\n",
              "    <tr>\n",
              "      <th>792</th>\n",
              "      <td>1857</td>\n",
              "      <td>61.589848</td>\n",
              "      <td>37</td>\n",
              "      <td>0.727273</td>\n",
              "      <td>55</td>\n",
              "      <td>4.0</td>\n",
              "    </tr>\n",
              "    <tr>\n",
              "      <th>793</th>\n",
              "      <td>1859</td>\n",
              "      <td>70.451292</td>\n",
              "      <td>3</td>\n",
              "      <td>0.967742</td>\n",
              "      <td>31</td>\n",
              "      <td>1.5</td>\n",
              "    </tr>\n",
              "    <tr>\n",
              "      <th>794</th>\n",
              "      <td>1862</td>\n",
              "      <td>8.455327</td>\n",
              "      <td>4</td>\n",
              "      <td>0.500000</td>\n",
              "      <td>12</td>\n",
              "      <td>7.5</td>\n",
              "    </tr>\n",
              "    <tr>\n",
              "      <th>795</th>\n",
              "      <td>1865</td>\n",
              "      <td>11.998391</td>\n",
              "      <td>10</td>\n",
              "      <td>0.171717</td>\n",
              "      <td>99</td>\n",
              "      <td>7.5</td>\n",
              "    </tr>\n",
              "  </tbody>\n",
              "</table>\n",
              "<p>795 rows × 6 columns</p>\n",
              "</div>"
            ],
            "text/plain": [
              "       id       score  solved       div  submits    CK\n",
              "0      24  128.489527      72  0.475610      164   9.5\n",
              "1      27    6.027100       3  0.384615       13  10.0\n",
              "2      29  118.021749      72  0.402010      199   8.5\n",
              "3      34  128.575499      81  0.385321      218   6.5\n",
              "4      35  241.752533     145  0.511785      297   4.5\n",
              "..    ...         ...     ...       ...      ...   ...\n",
              "791  1856   46.895253      23  0.484375       64   7.5\n",
              "792  1857   61.589848      37  0.727273       55   4.0\n",
              "793  1859   70.451292       3  0.967742       31   1.5\n",
              "794  1862    8.455327       4  0.500000       12   7.5\n",
              "795  1865   11.998391      10  0.171717       99   7.5\n",
              "\n",
              "[795 rows x 6 columns]"
            ]
          },
          "metadata": {
            "tags": []
          },
          "execution_count": 32
        }
      ]
    },
    {
      "cell_type": "code",
      "metadata": {
        "id": "qcFoLsM_X8dE"
      },
      "source": [
        "# split data\n",
        "\n",
        "_train_percent = 80\n",
        "_number_of_rows = len( wecode_feature )\n",
        "\n",
        "_number_train = _number_of_rows//100 * _train_percent\n",
        "\n",
        "feature_train = wecode_feature.iloc[ 0:_number_train , :]\n",
        "feature_test  = wecode_feature.iloc[ _number_train:, :]"
      ],
      "execution_count": 33,
      "outputs": []
    },
    {
      "cell_type": "code",
      "metadata": {
        "id": "Hbl_nU0FWdKt"
      },
      "source": [
        "from sklearn.linear_model import LinearRegression\n",
        "\n",
        "X_train = np.array( feature_train[ ['score', 'solved', 'div','submits'] ] )\n",
        "y_train = np.array( feature_train['CK'] )\n",
        "\n",
        "model = LinearRegression().fit( X_train, y_train )"
      ],
      "execution_count": 34,
      "outputs": []
    },
    {
      "cell_type": "code",
      "metadata": {
        "id": "A7_R2-fteQwx"
      },
      "source": [
        "X_test = np.array( feature_test[ ['score', 'solved', 'div','submits'] ] )\n",
        "y_test = np.array( feature_test['CK'] )\n",
        "\n",
        "predict = model.predict( X_test )\n",
        "\n",
        "predict = predict*2\n",
        "predict = np.round( predict )\n",
        "predict = predict/2\n"
      ],
      "execution_count": 36,
      "outputs": []
    },
    {
      "cell_type": "code",
      "metadata": {
        "id": "WaKwILx_exik",
        "colab": {
          "base_uri": "https://localhost:8080/"
        },
        "outputId": "7a36fca9-015d-490f-97e2-a7079402abda"
      },
      "source": [
        "from sklearn.metrics import mean_squared_error\n",
        "\n",
        "print( \"MSE :\", mean_squared_error( y_test, predict) )"
      ],
      "execution_count": 37,
      "outputs": [
        {
          "output_type": "stream",
          "text": [
            "MSE : 4.638297872340425\n"
          ],
          "name": "stdout"
        }
      ]
    },
    {
      "cell_type": "code",
      "metadata": {
        "id": "-wX2Enp6Mk8c",
        "colab": {
          "base_uri": "https://localhost:8080/",
          "height": 265
        },
        "outputId": "41bd28f3-37f4-4478-c7ee-3add4e0911b8"
      },
      "source": [
        "plt.plot( y_test, y_test )\n",
        "plt.plot( predict, y_test, \"x\", color=\"red\")\n",
        "\n",
        "plt.show()"
      ],
      "execution_count": 38,
      "outputs": [
        {
          "output_type": "display_data",
          "data": {
            "image/png": "[encoded data removed]",
            "text/plain": [
              "<Figure size 432x288 with 1 Axes>"
            ]
          },
          "metadata": {
            "tags": [],
            "needs_background": "light"
          }
        }
      ]
    },
    {
      "cell_type": "markdown",
      "metadata": {
        "id": "FdK7-GYD-KLq"
      },
      "source": [
        "# **Nhận Xét**"
      ]
    }
  ]
}