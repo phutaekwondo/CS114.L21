{
  "nbformat": 4,
  "nbformat_minor": 0,
  "metadata": {
    "colab": {
      "name": "draft.ipynb",
      "provenance": [],
      "authorship_tag": "ABX9TyOx60zn9E+B7kH1L4A90BH2",
      "include_colab_link": true
    },
    "kernelspec": {
      "name": "python3",
      "display_name": "Python 3"
    },
    "language_info": {
      "name": "python"
    }
  },
  "cells": [
    {
      "cell_type": "markdown",
      "metadata": {
        "id": "view-in-github",
        "colab_type": "text"
      },
      "source": [
        "<a href=\"https://colab.research.google.com/github/phutaekwondo/CS114.L21/blob/main/draft.ipynb\" target=\"_parent\"><img src=\"https://colab.research.google.com/assets/colab-badge.svg\" alt=\"Open In Colab\"/></a>"
      ]
    },
    {
      "cell_type": "code",
      "metadata": {
        "id": "iMSFMQVhEsPA"
      },
      "source": [
        "import pandas as pd"
      ],
      "execution_count": 1,
      "outputs": []
    },
    {
      "cell_type": "code",
      "metadata": {
        "id": "3l4nZ6I1Ew4W"
      },
      "source": [
        "wecode = pd.read_csv( \"wecode.csv\" )\n",
        "score = pd.read_csv( \"score.csv\" )"
      ],
      "execution_count": 2,
      "outputs": []
    },
    {
      "cell_type": "code",
      "metadata": {
        "colab": {
          "base_uri": "https://localhost:8080/"
        },
        "id": "Mde6rIrTFBwI",
        "outputId": "688a8b9b-5f44-4fce-b1b4-abb84067c197"
      },
      "source": [
        "print( wecode )\n",
        "print( score )"
      ],
      "execution_count": 3,
      "outputs": [
        {
          "output_type": "stream",
          "text": [
            "            id  assignment_id  ...           created_at           updated_at\n",
            "0            4            0.0  ...  2020-10-30 10:58:11  2020-10-30 10:58:19\n",
            "1            5            0.0  ...  2020-10-30 11:07:09  2020-10-30 11:07:17\n",
            "2            6            0.0  ...  2020-10-30 11:08:01  2020-10-30 11:23:36\n",
            "3            7            0.0  ...  2020-10-30 11:11:41  2020-10-30 11:11:42\n",
            "4            8            0.0  ...  2020-10-30 11:15:06  2020-10-30 11:15:07\n",
            "...        ...            ...  ...                  ...                  ...\n",
            "204863  204976          315.0  ...   2021-01-13 6:50:41   2021-01-13 9:22:08\n",
            "204864  204977          310.0  ...   2021-01-13 6:50:44   2021-01-13 6:50:48\n",
            "204865  204978          315.0  ...   2021-01-13 6:50:52   2021-01-13 8:22:59\n",
            "204866  204979          294.0  ...   2021-01-13 6:51:02   2021-01-13 6:51:06\n",
            "204867      20            NaN  ...                  NaN                  NaN\n",
            "\n",
            "[204868 rows x 12 columns]\n",
            "       id   QT   GK   TH   CK  TBM  TBTL\n",
            "0      22   10    9  8.5  8.5  8.8  8.52\n",
            "1      24   10    8   10  9.5  9.4  8.41\n",
            "2      27   10   10   10   10   10  8.67\n",
            "3      28   10  9.5  7.5  9.5  9.2  7.39\n",
            "4      29   10  9.5    5  8.5  8.2  8.05\n",
            "..    ...  ...  ...  ...  ...  ...   ...\n",
            "970  1857    5  4.5   10    4    6  6.03\n",
            "971  1859    8    5   10  1.5  5.4  5.06\n",
            "972  1862    5  6.5    1  7.5  5.1  4.71\n",
            "973  1865  6.5         3  7.5       6.89\n",
            "974  1866    9  7.5    2    5    5  7.05\n",
            "\n",
            "[975 rows x 7 columns]\n"
          ],
          "name": "stdout"
        }
      ]
    }
  ]
}